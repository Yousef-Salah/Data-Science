{
 "cells": [
  {
   "cell_type": "code",
   "execution_count": 1,
   "id": "bbfcfa62",
   "metadata": {},
   "outputs": [
    {
     "data": {
      "text/plain": [
       "6"
      ]
     },
     "execution_count": 1,
     "metadata": {},
     "output_type": "execute_result"
    }
   ],
   "source": [
    "3+3\n"
   ]
  },
  {
   "cell_type": "markdown",
   "id": "3c04ecbf",
   "metadata": {},
   "source": [
    "8 / 4\n"
   ]
  },
  {
   "cell_type": "code",
   "execution_count": 2,
   "id": "81a09a10",
   "metadata": {
    "scrolled": true
   },
   "outputs": [
    {
     "name": "stdout",
     "output_type": "stream",
     "text": [
      "2.0\n"
     ]
    }
   ],
   "source": [
    "print(8 / 4)"
   ]
  },
  {
   "cell_type": "code",
   "execution_count": 3,
   "id": "24ff2621",
   "metadata": {},
   "outputs": [
    {
     "data": {
      "text/plain": [
       "16"
      ]
     },
     "execution_count": 3,
     "metadata": {},
     "output_type": "execute_result"
    }
   ],
   "source": [
    "2 ** 4"
   ]
  },
  {
   "cell_type": "code",
   "execution_count": 4,
   "id": "31ae9f22",
   "metadata": {},
   "outputs": [
    {
     "ename": "NameError",
     "evalue": "name 'x' is not defined",
     "output_type": "error",
     "traceback": [
      "\u001b[1;31m---------------------------------------------------------------------------\u001b[0m",
      "\u001b[1;31mNameError\u001b[0m                                 Traceback (most recent call last)",
      "\u001b[1;32m~\\AppData\\Local\\Temp/ipykernel_4652/32546335.py\u001b[0m in \u001b[0;36m<module>\u001b[1;34m\u001b[0m\n\u001b[1;32m----> 1\u001b[1;33m \u001b[0mx\u001b[0m\u001b[1;33m\u001b[0m\u001b[1;33m\u001b[0m\u001b[0m\n\u001b[0m",
      "\u001b[1;31mNameError\u001b[0m: name 'x' is not defined"
     ]
    }
   ],
   "source": [
    "x"
   ]
  },
  {
   "cell_type": "code",
   "execution_count": 5,
   "id": "96f7d951",
   "metadata": {},
   "outputs": [
    {
     "data": {
      "text/plain": [
       "14.0"
      ]
     },
     "execution_count": 5,
     "metadata": {},
     "output_type": "execute_result"
    }
   ],
   "source": [
    "4 * 3.75 - 1"
   ]
  },
  {
   "cell_type": "code",
   "execution_count": 6,
   "id": "dfec8979",
   "metadata": {},
   "outputs": [
    {
     "data": {
      "text/plain": [
       "14"
      ]
     },
     "execution_count": 6,
     "metadata": {},
     "output_type": "execute_result"
    }
   ],
   "source": [
    "int(4 * 3.75 - 1)"
   ]
  },
  {
   "cell_type": "code",
   "execution_count": 7,
   "id": "0e803995",
   "metadata": {},
   "outputs": [
    {
     "data": {
      "text/plain": [
       "2"
      ]
     },
     "execution_count": 7,
     "metadata": {},
     "output_type": "execute_result"
    }
   ],
   "source": [
    "1 + 1\n"
   ]
  },
  {
   "cell_type": "code",
   "execution_count": 8,
   "id": "3698fde8",
   "metadata": {},
   "outputs": [
    {
     "data": {
      "text/plain": [
       "2"
      ]
     },
     "execution_count": 8,
     "metadata": {},
     "output_type": "execute_result"
    }
   ],
   "source": [
    "_\n"
   ]
  },
  {
   "cell_type": "code",
   "execution_count": 11,
   "id": "1b539cf1",
   "metadata": {},
   "outputs": [],
   "source": [
    "import math\n"
   ]
  },
  {
   "cell_type": "code",
   "execution_count": 12,
   "id": "41981af8",
   "metadata": {},
   "outputs": [
    {
     "data": {
      "text/plain": [
       "42.55588085420461"
      ]
     },
     "execution_count": 12,
     "metadata": {},
     "output_type": "execute_result"
    }
   ],
   "source": [
    "3.3 ** math.pi\n"
   ]
  },
  {
   "cell_type": "code",
   "execution_count": 13,
   "id": "adcfae08",
   "metadata": {},
   "outputs": [
    {
     "data": {
      "text/plain": [
       "42.55588085420461"
      ]
     },
     "execution_count": 13,
     "metadata": {},
     "output_type": "execute_result"
    }
   ],
   "source": [
    "_"
   ]
  },
  {
   "cell_type": "code",
   "execution_count": 18,
   "id": "0699ed86",
   "metadata": {},
   "outputs": [
    {
     "name": "stdout",
     "output_type": "stream",
     "text": [
      "42.556\n"
     ]
    }
   ],
   "source": [
    "round(_, 3)\n"
   ]
  },
  {
   "cell_type": "code",
   "execution_count": 19,
   "id": "1f091400",
   "metadata": {},
   "outputs": [
    {
     "data": {
      "text/plain": [
       "42.556"
      ]
     },
     "execution_count": 19,
     "metadata": {},
     "output_type": "execute_result"
    }
   ],
   "source": [
    "_"
   ]
  },
  {
   "cell_type": "code",
   "execution_count": 20,
   "id": "69c204dd",
   "metadata": {},
   "outputs": [],
   "source": [
    "_ = 12"
   ]
  },
  {
   "cell_type": "code",
   "execution_count": 21,
   "id": "d12b9d9c",
   "metadata": {},
   "outputs": [
    {
     "data": {
      "text/plain": [
       "12"
      ]
     },
     "execution_count": 21,
     "metadata": {},
     "output_type": "execute_result"
    }
   ],
   "source": [
    "_"
   ]
  },
  {
   "cell_type": "code",
   "execution_count": 22,
   "id": "b469a2bc",
   "metadata": {},
   "outputs": [
    {
     "data": {
      "text/plain": [
       "9"
      ]
     },
     "execution_count": 22,
     "metadata": {},
     "output_type": "execute_result"
    }
   ],
   "source": [
    "3**2"
   ]
  },
  {
   "cell_type": "code",
   "execution_count": 23,
   "id": "aaef7e5d",
   "metadata": {},
   "outputs": [
    {
     "data": {
      "text/plain": [
       "9"
      ]
     },
     "execution_count": 23,
     "metadata": {},
     "output_type": "execute_result"
    }
   ],
   "source": [
    "_"
   ]
  },
  {
   "cell_type": "code",
   "execution_count": 30,
   "id": "5c0af181",
   "metadata": {},
   "outputs": [
    {
     "data": {
      "text/plain": [
       "'\"Isn\\'t,\" they said.'"
      ]
     },
     "execution_count": 30,
     "metadata": {},
     "output_type": "execute_result"
    }
   ],
   "source": [
    "'\"Isn\\'t,\" they said.'\n"
   ]
  },
  {
   "cell_type": "code",
   "execution_count": 31,
   "id": "48723d94",
   "metadata": {},
   "outputs": [
    {
     "data": {
      "text/plain": [
       "\"yousef'\""
      ]
     },
     "execution_count": 31,
     "metadata": {},
     "output_type": "execute_result"
    }
   ],
   "source": [
    "\"yousef'\""
   ]
  },
  {
   "cell_type": "code",
   "execution_count": 32,
   "id": "e6d1ebee",
   "metadata": {},
   "outputs": [
    {
     "name": "stdout",
     "output_type": "stream",
     "text": [
      "yousef'\n"
     ]
    }
   ],
   "source": [
    "print(\"yousef'\")"
   ]
  },
  {
   "cell_type": "code",
   "execution_count": 33,
   "id": "e84fd5bf",
   "metadata": {},
   "outputs": [
    {
     "name": "stdout",
     "output_type": "stream",
     "text": [
      "\"\"\n"
     ]
    }
   ],
   "source": [
    "print('\"\"')"
   ]
  },
  {
   "cell_type": "code",
   "execution_count": 35,
   "id": "644558df",
   "metadata": {},
   "outputs": [
    {
     "name": "stdout",
     "output_type": "stream",
     "text": [
      "first \n",
      "Second\n"
     ]
    }
   ],
   "source": [
    "print(\"first \\nSecond\")"
   ]
  },
  {
   "cell_type": "code",
   "execution_count": 38,
   "id": "cf9ee898",
   "metadata": {},
   "outputs": [
    {
     "name": "stdout",
     "output_type": "stream",
     "text": [
      "C:\\some\\name\n"
     ]
    }
   ],
   "source": [
    "print(r'C:\\some\\name')  \n"
   ]
  },
  {
   "cell_type": "code",
   "execution_count": 44,
   "id": "2990bba6",
   "metadata": {},
   "outputs": [
    {
     "name": "stdout",
     "output_type": "stream",
     "text": [
      "Usage: thingy [OPTIONS]      -h                        Display this usage message\n",
      "     -H hostname               Hostname to connect to\n",
      "\n"
     ]
    }
   ],
   "source": [
    "print(\"\"\"\\\n",
    "Usage: thingy [OPTIONS] \\\n",
    "     -h                        Display this usage message\n",
    "     -H hostname               Hostname to connect to\n",
    "\"\"\")\n"
   ]
  },
  {
   "cell_type": "code",
   "execution_count": 48,
   "id": "88f6c2fe",
   "metadata": {},
   "outputs": [
    {
     "data": {
      "text/plain": [
       "'yousef yousef yousef yousef '"
      ]
     },
     "execution_count": 48,
     "metadata": {},
     "output_type": "execute_result"
    }
   ],
   "source": [
    "3 * 'yousef ' + 'yousef '"
   ]
  },
  {
   "cell_type": "code",
   "execution_count": 49,
   "id": "622715a9",
   "metadata": {},
   "outputs": [
    {
     "data": {
      "text/plain": [
       "'yousef salah'"
      ]
     },
     "execution_count": 49,
     "metadata": {},
     "output_type": "execute_result"
    }
   ],
   "source": [
    "'yousef ' 'salah'"
   ]
  },
  {
   "cell_type": "code",
   "execution_count": 58,
   "id": "505b39e7",
   "metadata": {},
   "outputs": [
    {
     "data": {
      "text/plain": [
       "'yousef salah '"
      ]
     },
     "execution_count": 58,
     "metadata": {},
     "output_type": "execute_result"
    }
   ],
   "source": [
    "name = ('yousef ' 'salah ')\n",
    "name\n"
   ]
  },
  {
   "cell_type": "code",
   "execution_count": 60,
   "id": "601c1628",
   "metadata": {},
   "outputs": [
    {
     "data": {
      "text/plain": [
       "'yousef salah True'"
      ]
     },
     "execution_count": 60,
     "metadata": {},
     "output_type": "execute_result"
    }
   ],
   "source": [
    "true = True\n",
    "name + str(true)"
   ]
  },
  {
   "cell_type": "code",
   "execution_count": 71,
   "id": "fa65cdd4",
   "metadata": {},
   "outputs": [
    {
     "name": "stdout",
     "output_type": "stream",
     "text": [
      "12345\n",
      "678\n"
     ]
    }
   ],
   "source": [
    "numbers = \"12345678\"\n",
    "print(numbers[:-3])\n",
    "print(numbers[-3:])"
   ]
  },
  {
   "cell_type": "code",
   "execution_count": 72,
   "id": "d934df68",
   "metadata": {},
   "outputs": [
    {
     "name": "stdout",
     "output_type": "stream",
     "text": [
      "8\n"
     ]
    }
   ],
   "source": [
    "print(numbers[-1])"
   ]
  },
  {
   "cell_type": "code",
   "execution_count": 73,
   "id": "243a4479",
   "metadata": {
    "scrolled": true
   },
   "outputs": [
    {
     "ename": "TypeError",
     "evalue": "'str' object does not support item assignment",
     "output_type": "error",
     "traceback": [
      "\u001b[1;31m---------------------------------------------------------------------------\u001b[0m",
      "\u001b[1;31mTypeError\u001b[0m                                 Traceback (most recent call last)",
      "\u001b[1;32m~\\AppData\\Local\\Temp/ipykernel_4652/3756590554.py\u001b[0m in \u001b[0;36m<module>\u001b[1;34m\u001b[0m\n\u001b[1;32m----> 1\u001b[1;33m \u001b[0mnumbers\u001b[0m\u001b[1;33m[\u001b[0m\u001b[1;36m0\u001b[0m\u001b[1;33m]\u001b[0m \u001b[1;33m=\u001b[0m \u001b[1;34m'0'\u001b[0m\u001b[1;33m\u001b[0m\u001b[1;33m\u001b[0m\u001b[0m\n\u001b[0m",
      "\u001b[1;31mTypeError\u001b[0m: 'str' object does not support item assignment"
     ]
    }
   ],
   "source": [
    "numbers[0] = '0'"
   ]
  },
  {
   "cell_type": "code",
   "execution_count": 8,
   "id": "578ef7e0",
   "metadata": {},
   "outputs": [],
   "source": [
    "# write a function that return a dictory with the probability of randomly selecting \n",
    "# any element of the sample space\n",
    "# return type is a dictory, key is the element, the value is the probability\n",
    "\n",
    "\n",
    "\n",
    "def calculate_probability(sample_space):\n",
    "    \n",
    "    sample_space_size = len(sample_space)\n",
    "    \n",
    "    items_probability = {}\n",
    "    \n",
    "    for item in sample_space:\n",
    "        if item in items_probability:\n",
    "            items_probability[item] += 1\n",
    "    \n",
    "        else:\n",
    "            items_probability[item] = 1\n",
    "            \n",
    "    \n",
    "    for item in items_probability:        \n",
    "        items_probability[item] = items_probability[item] / sample_space_size\n",
    "    \n",
    "    return items_probability\n",
    "    "
   ]
  },
  {
   "cell_type": "code",
   "execution_count": 11,
   "id": "def43985",
   "metadata": {},
   "outputs": [
    {
     "name": "stdout",
     "output_type": "stream",
     "text": [
      "{19: 0.2857142857142857, 18: 0.2857142857142857, 20: 0.42857142857142855}\n"
     ]
    }
   ],
   "source": [
    "students = [19, 19, 18, 20, 20, 20, 18]\n",
    "print(calculate_probability(students))"
   ]
  },
  {
   "cell_type": "code",
   "execution_count": null,
   "id": "3ac22774",
   "metadata": {},
   "outputs": [],
   "source": []
  },
  {
   "cell_type": "code",
   "execution_count": null,
   "id": "5e2b2805",
   "metadata": {},
   "outputs": [],
   "source": []
  },
  {
   "cell_type": "code",
   "execution_count": null,
   "id": "435828ad",
   "metadata": {},
   "outputs": [],
   "source": []
  },
  {
   "cell_type": "code",
   "execution_count": null,
   "id": "c32f8f81",
   "metadata": {},
   "outputs": [],
   "source": []
  },
  {
   "cell_type": "code",
   "execution_count": null,
   "id": "a171c500",
   "metadata": {},
   "outputs": [],
   "source": []
  },
  {
   "cell_type": "code",
   "execution_count": null,
   "id": "cee3c868",
   "metadata": {},
   "outputs": [],
   "source": []
  }
 ],
 "metadata": {
  "kernelspec": {
   "display_name": "Python 3 (ipykernel)",
   "language": "python",
   "name": "python3"
  },
  "language_info": {
   "codemirror_mode": {
    "name": "ipython",
    "version": 3
   },
   "file_extension": ".py",
   "mimetype": "text/x-python",
   "name": "python",
   "nbconvert_exporter": "python",
   "pygments_lexer": "ipython3",
   "version": "3.9.7"
  }
 },
 "nbformat": 4,
 "nbformat_minor": 5
}
