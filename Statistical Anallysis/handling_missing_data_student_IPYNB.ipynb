{
 "cells": [
  {
   "cell_type": "markdown",
   "metadata": {
    "id": "79QinjvaJ0FR"
   },
   "source": [
    "**Import Libraries**"
   ]
  },
  {
   "cell_type": "code",
   "execution_count": 3,
   "metadata": {
    "id": "_Kf-b-GfJuo4"
   },
   "outputs": [],
   "source": [
    "import numpy as np\n",
    "import pandas as pd\n",
    "import matplotlib.pyplot as plt"
   ]
  },
  {
   "cell_type": "markdown",
   "metadata": {
    "id": "7DboKBoJJuo8"
   },
   "source": [
    "## create a DataFrame"
   ]
  },
  {
   "cell_type": "markdown",
   "metadata": {
    "id": "RNkm9RTvKNpV"
   },
   "source": [
    "**Using head to see top rows**"
   ]
  },
  {
   "cell_type": "code",
   "execution_count": null,
   "metadata": {
    "id": "ZoP56GafJupJ"
   },
   "outputs": [],
   "source": [
    "# check shape\n"
   ]
  },
  {
   "cell_type": "markdown",
   "metadata": {
    "id": "kfPl-fANJupL"
   },
   "source": [
    "## Detecting missing values "
   ]
  },
  {
   "cell_type": "markdown",
   "metadata": {
    "id": "kq6cGKOwJupM"
   },
   "source": [
    "## a values in Panada DataFrame that is `NaN` represents missing values"
   ]
  },
  {
   "cell_type": "code",
   "execution_count": null,
   "metadata": {
    "id": "_-UZg8CbJupN"
   },
   "outputs": [],
   "source": [
    "# test if a values is missing in all columns\n",
    "# isna() returns True if the value of the cell NaN. False if the value is not missing\n"
   ]
  },
  {
   "cell_type": "code",
   "execution_count": null,
   "metadata": {
    "id": "uv59QduEJupP"
   },
   "outputs": [],
   "source": [
    "# test if a values is missing in all columns\n",
    "# notna() returns False if the value of the cell NaN. True if the value is not missing\n"
   ]
  },
  {
   "cell_type": "code",
   "execution_count": null,
   "metadata": {
    "id": "2XrW22psJupT"
   },
   "outputs": [],
   "source": [
    "# test if any value of every column is NaN\n",
    "# any() return True if any value of the column is True\n"
   ]
  },
  {
   "cell_type": "code",
   "execution_count": null,
   "metadata": {
    "id": "RDw29pw8JupY"
   },
   "outputs": [],
   "source": [
    "# if any of the values is True then `any` returns True\n",
    "# if all of the values are False then `any` returns False\n"
   ]
  },
  {
   "cell_type": "markdown",
   "metadata": {
    "id": "6HhvCHP7Jupf"
   },
   "source": [
    "# Filtering data with missing values"
   ]
  },
  {
   "cell_type": "code",
   "execution_count": null,
   "metadata": {
    "id": "l6EfcOlbJupj"
   },
   "outputs": [],
   "source": [
    "# get data with NO null\n"
   ]
  },
  {
   "cell_type": "code",
   "execution_count": null,
   "metadata": {
    "id": "2Bx7gMhvJupk"
   },
   "outputs": [],
   "source": [
    "# get data with NO null\n"
   ]
  },
  {
   "cell_type": "markdown",
   "metadata": {
    "id": "fMlJSpzyJupm"
   },
   "source": [
    "## drop rows with `NaN`"
   ]
  },
  {
   "cell_type": "markdown",
   "metadata": {
    "id": "wBvrHxL0Jupn"
   },
   "source": [
    "## drop columns with `NaN`"
   ]
  },
  {
   "cell_type": "markdown",
   "metadata": {
    "id": "Ttal8Xk4Jupq"
   },
   "source": [
    "## drop if all values of rows/columns are `NaN`"
   ]
  },
  {
   "cell_type": "markdown",
   "metadata": {
    "id": "Jgb-PwECJupr"
   },
   "source": [
    "## compute percentage of  `NaN` in every column"
   ]
  },
  {
   "cell_type": "markdown",
   "metadata": {
    "id": "V7KFXxy0Jupu"
   },
   "source": [
    "## Fill missing values with constant"
   ]
  },
  {
   "cell_type": "markdown",
   "metadata": {
    "id": "TAufqrjlJupw"
   },
   "source": [
    "# note that fillna doesn't change the object. it returns a new dataframe/series with the updated filled values"
   ]
  },
  {
   "cell_type": "markdown",
   "metadata": {
    "id": "XqYCE_IPJupz"
   },
   "source": [
    "## you can use the `inplace` command to update the same dataframe."
   ]
  },
  {
   "cell_type": "code",
   "execution_count": null,
   "metadata": {
    "id": "BbR4KNiFJupz"
   },
   "outputs": [],
   "source": [
    "# data_df.fillna(-1, inplace=True)\n",
    "# this will mutate the data_df"
   ]
  },
  {
   "cell_type": "markdown",
   "metadata": {
    "id": "aCdJNIR5Jup0"
   },
   "source": [
    "## fill by previous/next value"
   ]
  },
  {
   "cell_type": "code",
   "execution_count": null,
   "metadata": {
    "id": "neoXZI_zJup2"
   },
   "outputs": [],
   "source": [
    "# fill by using previous value. Forward filling\n",
    "# notice that the first value cannot be handled using this method as \n",
    "# there is no previous value for it\n"
   ]
  },
  {
   "cell_type": "code",
   "execution_count": null,
   "metadata": {
    "id": "jjeqUZ4sJup3"
   },
   "outputs": [],
   "source": [
    "# fill by using next value. Backward filling\n",
    "# notice that the last value cannot be handled using this method as \n",
    "# there is no next value to it\n"
   ]
  },
  {
   "cell_type": "markdown",
   "metadata": {
    "id": "eFI7q-__Jup3"
   },
   "source": [
    "## handle missing values for columns differently"
   ]
  },
  {
   "cell_type": "markdown",
   "metadata": {
    "id": "7LatXfT2Jup6"
   },
   "source": [
    "## Fill missing values using interpolation"
   ]
  },
  {
   "cell_type": "markdown",
   "metadata": {
    "id": "FgdOoN-MJup8"
   },
   "source": [
    "## Fill missing values by the mean"
   ]
  },
  {
   "cell_type": "code",
   "execution_count": null,
   "metadata": {
    "id": "fqZDFpQgJup-"
   },
   "outputs": [],
   "source": [
    "# the mean will compute the missing.\n",
    "# it doesn't consider `NaN` values\n"
   ]
  },
  {
   "cell_type": "markdown",
   "metadata": {
    "id": "kKQ8eqf1JuqB"
   },
   "source": [
    "## fill missing with most frequent"
   ]
  },
  {
   "cell_type": "code",
   "execution_count": null,
   "metadata": {
    "id": "jd7mghvzJuqC",
    "outputId": "87a4e06f-d61b-4882-da11-ecd613b531cd"
   },
   "outputs": [
    {
     "data": {
      "text/html": [
       "<div>\n",
       "<style scoped>\n",
       "    .dataframe tbody tr th:only-of-type {\n",
       "        vertical-align: middle;\n",
       "    }\n",
       "\n",
       "    .dataframe tbody tr th {\n",
       "        vertical-align: top;\n",
       "    }\n",
       "\n",
       "    .dataframe thead th {\n",
       "        text-align: right;\n",
       "    }\n",
       "</style>\n",
       "<table border=\"1\" class=\"dataframe\">\n",
       "  <thead>\n",
       "    <tr style=\"text-align: right;\">\n",
       "      <th></th>\n",
       "      <th>species</th>\n",
       "      <th>legs</th>\n",
       "      <th>wings</th>\n",
       "    </tr>\n",
       "  </thead>\n",
       "  <tbody>\n",
       "    <tr>\n",
       "      <th>0</th>\n",
       "      <td>bird</td>\n",
       "      <td>2</td>\n",
       "      <td>2.0</td>\n",
       "    </tr>\n",
       "  </tbody>\n",
       "</table>\n",
       "</div>"
      ],
      "text/plain": [
       "  species  legs  wings\n",
       "0    bird     2    2.0"
      ]
     },
     "execution_count": 50,
     "metadata": {},
     "output_type": "execute_result"
    }
   ],
   "source": [
    "# get the mode of evey column\n",
    "df.mode()"
   ]
  },
  {
   "cell_type": "markdown",
   "metadata": {
    "id": "ubtyTeBrJuqH"
   },
   "source": [
    "## note the the mode is a DataFrame"
   ]
  },
  {
   "cell_type": "code",
   "execution_count": null,
   "metadata": {
    "id": "_6e089BcJuqI"
   },
   "outputs": [],
   "source": [
    "# we need to take the last row of the mode DataFrame to fill missing values\n"
   ]
  },
  {
   "cell_type": "markdown",
   "metadata": {
    "id": "_50xmePjJuqJ"
   },
   "source": [
    "# Fill missing values using advance techniques\n",
    "# k-NN algorithm"
   ]
  },
  {
   "cell_type": "code",
   "execution_count": null,
   "metadata": {
    "id": "-ul753fJJuqK"
   },
   "outputs": [],
   "source": [
    "#knn k-nearest neighbor"
   ]
  },
  {
   "cell_type": "code",
   "execution_count": null,
   "metadata": {
    "id": "nMEtZCEeJuqO"
   },
   "outputs": [],
   "source": [
    "from sklearn.impute import KNNImputer"
   ]
  },
  {
   "cell_type": "code",
   "execution_count": null,
   "metadata": {
    "id": "75uiLzUMJuqO"
   },
   "outputs": [],
   "source": [
    "model = KNNImputer(n_neighbors=1)"
   ]
  },
  {
   "cell_type": "code",
   "execution_count": null,
   "metadata": {
    "id": "3Gxt0I7iJuqP",
    "outputId": "9c177d81-43b2-44e7-a2a7-388179a0798b"
   },
   "outputs": [
    {
     "data": {
      "text/plain": [
       "array([[1., 5., 3.],\n",
       "       [2., 8., 0.],\n",
       "       [1., 5., 3.],\n",
       "       [2., 8., 0.]])"
      ]
     },
     "execution_count": 61,
     "metadata": {},
     "output_type": "execute_result"
    }
   ],
   "source": [
    "model.fit_transform(df)"
   ]
  },
  {
   "cell_type": "code",
   "execution_count": null,
   "metadata": {
    "id": "W3K0cCDaJuqP",
    "outputId": "23239a4e-fb56-436b-ba97-fb3b581e9ce9"
   },
   "outputs": [
    {
     "data": {
      "text/plain": [
       "numpy.ndarray"
      ]
     },
     "execution_count": 62,
     "metadata": {},
     "output_type": "execute_result"
    }
   ],
   "source": [
    "type(model.fit_transform(df))"
   ]
  },
  {
   "cell_type": "code",
   "execution_count": null,
   "metadata": {
    "id": "KAMLYmQeJuqQ",
    "outputId": "f166b9b0-1f8f-4eb9-c4c5-c3fd65c43037"
   },
   "outputs": [
    {
     "data": {
      "text/plain": [
       "(4, 3)"
      ]
     },
     "execution_count": 63,
     "metadata": {},
     "output_type": "execute_result"
    }
   ],
   "source": [
    "model.fit_transform(df).shape"
   ]
  }
 ],
 "metadata": {
  "colab": {
   "provenance": []
  },
  "kernelspec": {
   "display_name": "Python 3 (ipykernel)",
   "language": "python",
   "name": "python3"
  },
  "language_info": {
   "codemirror_mode": {
    "name": "ipython",
    "version": 3
   },
   "file_extension": ".py",
   "mimetype": "text/x-python",
   "name": "python",
   "nbconvert_exporter": "python",
   "pygments_lexer": "ipython3",
   "version": "3.9.7"
  }
 },
 "nbformat": 4,
 "nbformat_minor": 1
}
