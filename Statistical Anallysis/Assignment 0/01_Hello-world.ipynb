{
 "cells": [
  {
   "cell_type": "markdown",
   "metadata": {},
   "source": [
    "# 10672228- Introduction to statistical Analysis\n",
    "\n",
    "## Lab 01 - Python programming basics\n",
    "\n",
    "### Hello world example\n",
    "\n",
    "***\n",
    "An Najah National University\n",
    "***"
   ]
  },
  {
   "cell_type": "markdown",
   "metadata": {},
   "source": [
    "# Hello world !\n",
    "\n",
    "In this example, we will write our (possibly first) \"Hello world\" program in Python."
   ]
  },
  {
   "cell_type": "code",
   "execution_count": null,
   "metadata": {},
   "outputs": [],
   "source": []
  },
  {
   "cell_type": "markdown",
   "metadata": {},
   "source": [
    "Expected output:\n",
    "***\n",
    "Hello world !\n",
    "***"
   ]
  },
  {
   "cell_type": "markdown",
   "metadata": {},
   "source": [
    "# The print function\n",
    "\n",
    "We will use the print function frequently, let's see what it can do:"
   ]
  },
  {
   "cell_type": "code",
   "execution_count": null,
   "metadata": {
    "scrolled": true
   },
   "outputs": [],
   "source": [
    "# print an integer number\n",
    "\n",
    "\n",
    "# print a character string\n",
    "\n",
    "\n",
    "# as we will learn about more Python features in the next examples,\n",
    "# we will be able to use the print function to output multiple data types\n",
    "\n",
    "\n",
    "# values will also be visible in Jupyter notebooks as the interpreter output (\"Out\") of the program\n",
    "# you can also view results without using print, by simply writing the value\n",
    "# note that this will be shown towards the end as \"Out[#]\"\n",
    "# where \"#\" corresponds to the number of times we run the jupyter code cell\n",
    "3\n",
    "\n",
    "# but the \"Out\" will be replaced by subsequent commands run\n",
    "# which is why we will be using print generally\n",
    "\n",
    "# [!] uncomment the following line and rerun the cell to check [!]\n",
    "# 8\n"
   ]
  },
  {
   "cell_type": "markdown",
   "metadata": {},
   "source": [
    "Expected output:\n",
    "***\n",
    "7\n",
    "\n",
    "Hello, just like before!\n",
    "\n",
    "15\n",
    "\n",
    "Out[#]: 3\n",
    "***"
   ]
  }
 ],
 "metadata": {
  "kernelspec": {
   "display_name": "Python 3",
   "language": "python",
   "name": "python3"
  },
  "language_info": {
   "codemirror_mode": {
    "name": "ipython",
    "version": 3
   },
   "file_extension": ".py",
   "mimetype": "text/x-python",
   "name": "python",
   "nbconvert_exporter": "python",
   "pygments_lexer": "ipython3",
   "version": "3.7.6"
  }
 },
 "nbformat": 4,
 "nbformat_minor": 4
}
