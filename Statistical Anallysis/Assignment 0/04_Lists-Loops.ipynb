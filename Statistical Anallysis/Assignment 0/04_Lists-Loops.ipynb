{
 "cells": [
  {
   "cell_type": "markdown",
   "metadata": {},
   "source": [
    "## Student Name: Yousef Salah Khodroj\n",
    "## Student ID: 12113351"
   ]
  },
  {
   "cell_type": "markdown",
   "metadata": {},
   "source": [
    "# introduction to statistical Analysis\n",
    "\n",
    "## Lab 01 - Python programming basics\n",
    "\n",
    "### Hello world example\n",
    "\n",
    "***\n",
    "An Najah National University\n",
    "***"
   ]
  },
  {
   "cell_type": "markdown",
   "metadata": {},
   "source": [
    "***\n",
    "### Exercises\n",
    "***"
   ]
  },
  {
   "cell_type": "markdown",
   "metadata": {},
   "source": [
    "For a list that contains\n",
    "\n",
    "Access the list elements to obtain the following results:\n",
    "\n",
    "* 7 (Example given)\n",
    "* [8, 4, 3, 1]\n",
    "* [9, 0]\n",
    "* [7, 6, 2, 5, 8]\n",
    "* 3"
   ]
  },
  {
   "cell_type": "code",
   "execution_count": 5,
   "metadata": {},
   "outputs": [
    {
     "name": "stdout",
     "output_type": "stream",
     "text": [
      "7\n",
      "[8, 4, 3, 1]\n",
      "[9, 0]\n",
      "[7, 6, 2, 5, 8]\n",
      "3\n"
     ]
    }
   ],
   "source": [
    "myList = [7, 6, 2, 5, 8, 4, 3, 1, 9, 0]\n",
    "\n",
    "\n",
    "print(myList[0]) # Example given\n",
    "\n",
    "# [!] write code here for each requested output [!] \n",
    "\n",
    "print(myList[4:-2])\n",
    "print(myList[-2:])\n",
    "print(myList[:5])\n",
    "print(myList[6])\n",
    "\n"
   ]
  },
  {
   "cell_type": "markdown",
   "metadata": {},
   "source": [
    "Expected output:\n",
    "\n",
    "7\n",
    "\n",
    "[8, 4, 3, 1]\n",
    "\n",
    "[9, 0]\n",
    "\n",
    "[7, 6, 2, 5, 8]\n",
    "\n",
    "3\n",
    "\n",
    "***"
   ]
  },
  {
   "cell_type": "markdown",
   "metadata": {},
   "source": [
    "Use a *for* loop to print all the elements of myList. Then, do the same with a *while* loop"
   ]
  },
  {
   "cell_type": "code",
   "execution_count": 5,
   "metadata": {
    "scrolled": true
   },
   "outputs": [
    {
     "name": "stdout",
     "output_type": "stream",
     "text": [
      "7\n",
      "6\n",
      "2\n",
      "5\n",
      "8\n",
      "======================================================\n",
      "7\n",
      "6\n",
      "2\n",
      "5\n",
      "8\n"
     ]
    }
   ],
   "source": [
    "myList = [7, 6, 2, 5, 8]\n",
    "\n",
    "# [!] write code here with a for loop [!] \n",
    "for item in myList:\n",
    "    print(item)\n",
    "\n",
    "print('======================================================')\n",
    "# [!] write code here with a while loop [!] \n",
    "\n",
    "index = 0\n",
    "while index < len(myList):\n",
    "    print(myList[index])\n",
    "    index += 1\n"
   ]
  },
  {
   "cell_type": "markdown",
   "metadata": {},
   "source": [
    "Expected output:\n",
    "***\n",
    "7\n",
    "\n",
    "6\n",
    "\n",
    "2\n",
    "\n",
    "5\n",
    "\n",
    "8\n",
    "\n",
    "7\n",
    "\n",
    "6\n",
    "\n",
    "2\n",
    "\n",
    "5\n",
    "\n",
    "8\n",
    "***"
   ]
  },
  {
   "cell_type": "markdown",
   "metadata": {},
   "source": [
    "Use a *for* loop to print all the elements of myList *in reverse*."
   ]
  },
  {
   "cell_type": "code",
   "execution_count": 6,
   "metadata": {
    "scrolled": true
   },
   "outputs": [
    {
     "name": "stdout",
     "output_type": "stream",
     "text": [
      "6\n",
      "8\n",
      "3\n",
      "1\n",
      "5\n",
      "==============================================\n",
      "6\n",
      "8\n",
      "3\n",
      "1\n",
      "5\n"
     ]
    }
   ],
   "source": [
    "myList = [5, 1, 3, 8, 6]\n",
    "\n",
    "# [!] write code here with a for loop to print list elements in reverse order [!] \n",
    "\n",
    "#first Way\n",
    "for index in range(-1 , ((len(myList)) * -1) - 1, -1):\n",
    "    print(myList[index])\n",
    "\n",
    "#second Way\n",
    "print('==============================================')\n",
    "myList.reverse()\n",
    "for item in myList:\n",
    "    print(item)"
   ]
  },
  {
   "cell_type": "markdown",
   "metadata": {},
   "source": [
    "Expected output:\n",
    "***\n",
    "6\n",
    "\n",
    "8\n",
    "\n",
    "3\n",
    "\n",
    "1\n",
    "\n",
    "5\n",
    "***"
   ]
  }
 ],
 "metadata": {
  "kernelspec": {
   "display_name": "Python 3 (ipykernel)",
   "language": "python",
   "name": "python3"
  },
  "language_info": {
   "codemirror_mode": {
    "name": "ipython",
    "version": 3
   },
   "file_extension": ".py",
   "mimetype": "text/x-python",
   "name": "python",
   "nbconvert_exporter": "python",
   "pygments_lexer": "ipython3",
   "version": "3.9.7"
  }
 },
 "nbformat": 4,
 "nbformat_minor": 4
}
