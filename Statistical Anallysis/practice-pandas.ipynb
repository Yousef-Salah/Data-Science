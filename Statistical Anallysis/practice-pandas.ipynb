{
 "cells": [
  {
   "cell_type": "markdown",
   "id": "3a16d843",
   "metadata": {},
   "source": [
    "# some notes on pandas"
   ]
  },
  {
   "cell_type": "code",
   "execution_count": 1,
   "id": "5fdff09a",
   "metadata": {},
   "outputs": [],
   "source": [
    "# import pandas\n",
    "import pandas as pd"
   ]
  },
  {
   "cell_type": "code",
   "execution_count": 2,
   "id": "15750250",
   "metadata": {},
   "outputs": [],
   "source": [
    "# define a dictionary\n",
    "student_infos = {'student_mark': [2.5, 3.0, 3.7],\n",
    "                 'student_city': ['Silfeet', 'Tulkarem', 'Qabatyia'],\n",
    "                 'student_height': [185, 170, 160 ]}"
   ]
  },
  {
   "cell_type": "code",
   "execution_count": 4,
   "id": "3f2d705e",
   "metadata": {},
   "outputs": [
    {
     "data": {
      "text/plain": [
       "{'student_mark': [2.5, 3.0, 3.7],\n",
       " 'student_city': ['Silfeet', 'Tulkarem', 'Qabatyia'],\n",
       " 'student_height': [185, 170, 160]}"
      ]
     },
     "execution_count": 4,
     "metadata": {},
     "output_type": "execute_result"
    }
   ],
   "source": [
    "# print the dictionary\n",
    "student_infos"
   ]
  },
  {
   "cell_type": "code",
   "execution_count": 5,
   "id": "f6edc9c1",
   "metadata": {},
   "outputs": [],
   "source": [
    "# define a dataframe from the dictionary\n",
    "student_df = pd.DataFrame(student_infos)"
   ]
  },
  {
   "cell_type": "code",
   "execution_count": 6,
   "id": "5e4e947e",
   "metadata": {},
   "outputs": [
    {
     "data": {
      "text/html": [
       "<div>\n",
       "<style scoped>\n",
       "    .dataframe tbody tr th:only-of-type {\n",
       "        vertical-align: middle;\n",
       "    }\n",
       "\n",
       "    .dataframe tbody tr th {\n",
       "        vertical-align: top;\n",
       "    }\n",
       "\n",
       "    .dataframe thead th {\n",
       "        text-align: right;\n",
       "    }\n",
       "</style>\n",
       "<table border=\"1\" class=\"dataframe\">\n",
       "  <thead>\n",
       "    <tr style=\"text-align: right;\">\n",
       "      <th></th>\n",
       "      <th>student_mark</th>\n",
       "      <th>student_city</th>\n",
       "      <th>student_height</th>\n",
       "    </tr>\n",
       "  </thead>\n",
       "  <tbody>\n",
       "    <tr>\n",
       "      <th>0</th>\n",
       "      <td>2.5</td>\n",
       "      <td>Silfeet</td>\n",
       "      <td>185</td>\n",
       "    </tr>\n",
       "    <tr>\n",
       "      <th>1</th>\n",
       "      <td>3.0</td>\n",
       "      <td>Tulkarem</td>\n",
       "      <td>170</td>\n",
       "    </tr>\n",
       "    <tr>\n",
       "      <th>2</th>\n",
       "      <td>3.7</td>\n",
       "      <td>Qabatyia</td>\n",
       "      <td>160</td>\n",
       "    </tr>\n",
       "  </tbody>\n",
       "</table>\n",
       "</div>"
      ],
      "text/plain": [
       "   student_mark student_city  student_height\n",
       "0           2.5      Silfeet             185\n",
       "1           3.0     Tulkarem             170\n",
       "2           3.7     Qabatyia             160"
      ]
     },
     "execution_count": 6,
     "metadata": {},
     "output_type": "execute_result"
    }
   ],
   "source": [
    "# display the dataframe\n",
    "student_df"
   ]
  },
  {
   "cell_type": "code",
   "execution_count": 7,
   "id": "561b53a7",
   "metadata": {},
   "outputs": [
    {
     "data": {
      "text/html": [
       "<div>\n",
       "<style scoped>\n",
       "    .dataframe tbody tr th:only-of-type {\n",
       "        vertical-align: middle;\n",
       "    }\n",
       "\n",
       "    .dataframe tbody tr th {\n",
       "        vertical-align: top;\n",
       "    }\n",
       "\n",
       "    .dataframe thead th {\n",
       "        text-align: right;\n",
       "    }\n",
       "</style>\n",
       "<table border=\"1\" class=\"dataframe\">\n",
       "  <thead>\n",
       "    <tr style=\"text-align: right;\">\n",
       "      <th></th>\n",
       "      <th>student_mark</th>\n",
       "      <th>student_city</th>\n",
       "      <th>student_height</th>\n",
       "    </tr>\n",
       "  </thead>\n",
       "  <tbody>\n",
       "    <tr>\n",
       "      <th>0</th>\n",
       "      <td>2.5</td>\n",
       "      <td>Silfeet</td>\n",
       "      <td>185</td>\n",
       "    </tr>\n",
       "  </tbody>\n",
       "</table>\n",
       "</div>"
      ],
      "text/plain": [
       "   student_mark student_city  student_height\n",
       "0           2.5      Silfeet             185"
      ]
     },
     "execution_count": 7,
     "metadata": {},
     "output_type": "execute_result"
    }
   ],
   "source": [
    "# get the first sample\n",
    "student_df.head(1)"
   ]
  },
  {
   "cell_type": "code",
   "execution_count": 9,
   "id": "83436fc7",
   "metadata": {},
   "outputs": [
    {
     "data": {
      "text/html": [
       "<div>\n",
       "<style scoped>\n",
       "    .dataframe tbody tr th:only-of-type {\n",
       "        vertical-align: middle;\n",
       "    }\n",
       "\n",
       "    .dataframe tbody tr th {\n",
       "        vertical-align: top;\n",
       "    }\n",
       "\n",
       "    .dataframe thead th {\n",
       "        text-align: right;\n",
       "    }\n",
       "</style>\n",
       "<table border=\"1\" class=\"dataframe\">\n",
       "  <thead>\n",
       "    <tr style=\"text-align: right;\">\n",
       "      <th></th>\n",
       "      <th>student_mark</th>\n",
       "      <th>student_city</th>\n",
       "      <th>student_height</th>\n",
       "    </tr>\n",
       "  </thead>\n",
       "  <tbody>\n",
       "    <tr>\n",
       "      <th>2</th>\n",
       "      <td>3.7</td>\n",
       "      <td>Qabatyia</td>\n",
       "      <td>160</td>\n",
       "    </tr>\n",
       "  </tbody>\n",
       "</table>\n",
       "</div>"
      ],
      "text/plain": [
       "   student_mark student_city  student_height\n",
       "2           3.7     Qabatyia             160"
      ]
     },
     "execution_count": 9,
     "metadata": {},
     "output_type": "execute_result"
    }
   ],
   "source": [
    "# get the last sample\n",
    "student_df.tail(1)"
   ]
  },
  {
   "cell_type": "code",
   "execution_count": 10,
   "id": "555f41a6",
   "metadata": {},
   "outputs": [
    {
     "data": {
      "text/plain": [
       "(3, 3)"
      ]
     },
     "execution_count": 10,
     "metadata": {},
     "output_type": "execute_result"
    }
   ],
   "source": [
    "# get number of samples and features\n",
    "student_df.shape"
   ]
  },
  {
   "cell_type": "code",
   "execution_count": 11,
   "id": "df5edcc2",
   "metadata": {},
   "outputs": [
    {
     "data": {
      "text/plain": [
       "3"
      ]
     },
     "execution_count": 11,
     "metadata": {},
     "output_type": "execute_result"
    }
   ],
   "source": [
    "# get number of samples\n",
    "student_df.shape[0]"
   ]
  },
  {
   "cell_type": "code",
   "execution_count": 12,
   "id": "c5cfd11a",
   "metadata": {},
   "outputs": [],
   "source": [
    "# add a new column\n",
    "student_df['student_uni'] = ['ann', 'aaup', None]"
   ]
  },
  {
   "cell_type": "code",
   "execution_count": 13,
   "id": "285a008c",
   "metadata": {},
   "outputs": [
    {
     "data": {
      "text/html": [
       "<div>\n",
       "<style scoped>\n",
       "    .dataframe tbody tr th:only-of-type {\n",
       "        vertical-align: middle;\n",
       "    }\n",
       "\n",
       "    .dataframe tbody tr th {\n",
       "        vertical-align: top;\n",
       "    }\n",
       "\n",
       "    .dataframe thead th {\n",
       "        text-align: right;\n",
       "    }\n",
       "</style>\n",
       "<table border=\"1\" class=\"dataframe\">\n",
       "  <thead>\n",
       "    <tr style=\"text-align: right;\">\n",
       "      <th></th>\n",
       "      <th>student_mark</th>\n",
       "      <th>student_city</th>\n",
       "      <th>student_height</th>\n",
       "      <th>student_uni</th>\n",
       "    </tr>\n",
       "  </thead>\n",
       "  <tbody>\n",
       "    <tr>\n",
       "      <th>0</th>\n",
       "      <td>2.5</td>\n",
       "      <td>Silfeet</td>\n",
       "      <td>185</td>\n",
       "      <td>ann</td>\n",
       "    </tr>\n",
       "    <tr>\n",
       "      <th>1</th>\n",
       "      <td>3.0</td>\n",
       "      <td>Tulkarem</td>\n",
       "      <td>170</td>\n",
       "      <td>aaup</td>\n",
       "    </tr>\n",
       "    <tr>\n",
       "      <th>2</th>\n",
       "      <td>3.7</td>\n",
       "      <td>Qabatyia</td>\n",
       "      <td>160</td>\n",
       "      <td>None</td>\n",
       "    </tr>\n",
       "  </tbody>\n",
       "</table>\n",
       "</div>"
      ],
      "text/plain": [
       "   student_mark student_city  student_height student_uni\n",
       "0           2.5      Silfeet             185         ann\n",
       "1           3.0     Tulkarem             170        aaup\n",
       "2           3.7     Qabatyia             160        None"
      ]
     },
     "execution_count": 13,
     "metadata": {},
     "output_type": "execute_result"
    }
   ],
   "source": [
    "# display the dataframe\n",
    "student_df"
   ]
  },
  {
   "cell_type": "code",
   "execution_count": 14,
   "id": "51c345fc",
   "metadata": {},
   "outputs": [],
   "source": [
    "# add 10 to all heights \n",
    "student_df['student_height'] = student_df['student_height'] + 10"
   ]
  },
  {
   "cell_type": "code",
   "execution_count": 15,
   "id": "5e59353b",
   "metadata": {},
   "outputs": [
    {
     "data": {
      "text/html": [
       "<div>\n",
       "<style scoped>\n",
       "    .dataframe tbody tr th:only-of-type {\n",
       "        vertical-align: middle;\n",
       "    }\n",
       "\n",
       "    .dataframe tbody tr th {\n",
       "        vertical-align: top;\n",
       "    }\n",
       "\n",
       "    .dataframe thead th {\n",
       "        text-align: right;\n",
       "    }\n",
       "</style>\n",
       "<table border=\"1\" class=\"dataframe\">\n",
       "  <thead>\n",
       "    <tr style=\"text-align: right;\">\n",
       "      <th></th>\n",
       "      <th>student_mark</th>\n",
       "      <th>student_city</th>\n",
       "      <th>student_height</th>\n",
       "      <th>student_uni</th>\n",
       "    </tr>\n",
       "  </thead>\n",
       "  <tbody>\n",
       "    <tr>\n",
       "      <th>0</th>\n",
       "      <td>2.5</td>\n",
       "      <td>Silfeet</td>\n",
       "      <td>195</td>\n",
       "      <td>ann</td>\n",
       "    </tr>\n",
       "    <tr>\n",
       "      <th>1</th>\n",
       "      <td>3.0</td>\n",
       "      <td>Tulkarem</td>\n",
       "      <td>180</td>\n",
       "      <td>aaup</td>\n",
       "    </tr>\n",
       "    <tr>\n",
       "      <th>2</th>\n",
       "      <td>3.7</td>\n",
       "      <td>Qabatyia</td>\n",
       "      <td>170</td>\n",
       "      <td>None</td>\n",
       "    </tr>\n",
       "  </tbody>\n",
       "</table>\n",
       "</div>"
      ],
      "text/plain": [
       "   student_mark student_city  student_height student_uni\n",
       "0           2.5      Silfeet             195         ann\n",
       "1           3.0     Tulkarem             180        aaup\n",
       "2           3.7     Qabatyia             170        None"
      ]
     },
     "execution_count": 15,
     "metadata": {},
     "output_type": "execute_result"
    }
   ],
   "source": [
    "# display the dataframe\n",
    "student_df"
   ]
  },
  {
   "cell_type": "code",
   "execution_count": 16,
   "id": "6a763e42",
   "metadata": {},
   "outputs": [],
   "source": [
    "# update the student_mark for the first sample\n",
    "student_df.loc[0, 'student_mark'] = 3"
   ]
  },
  {
   "cell_type": "code",
   "execution_count": 17,
   "id": "78cf4627",
   "metadata": {},
   "outputs": [
    {
     "data": {
      "text/html": [
       "<div>\n",
       "<style scoped>\n",
       "    .dataframe tbody tr th:only-of-type {\n",
       "        vertical-align: middle;\n",
       "    }\n",
       "\n",
       "    .dataframe tbody tr th {\n",
       "        vertical-align: top;\n",
       "    }\n",
       "\n",
       "    .dataframe thead th {\n",
       "        text-align: right;\n",
       "    }\n",
       "</style>\n",
       "<table border=\"1\" class=\"dataframe\">\n",
       "  <thead>\n",
       "    <tr style=\"text-align: right;\">\n",
       "      <th></th>\n",
       "      <th>student_mark</th>\n",
       "      <th>student_city</th>\n",
       "      <th>student_height</th>\n",
       "      <th>student_uni</th>\n",
       "    </tr>\n",
       "  </thead>\n",
       "  <tbody>\n",
       "    <tr>\n",
       "      <th>0</th>\n",
       "      <td>3.0</td>\n",
       "      <td>Silfeet</td>\n",
       "      <td>195</td>\n",
       "      <td>ann</td>\n",
       "    </tr>\n",
       "    <tr>\n",
       "      <th>1</th>\n",
       "      <td>3.0</td>\n",
       "      <td>Tulkarem</td>\n",
       "      <td>180</td>\n",
       "      <td>aaup</td>\n",
       "    </tr>\n",
       "    <tr>\n",
       "      <th>2</th>\n",
       "      <td>3.7</td>\n",
       "      <td>Qabatyia</td>\n",
       "      <td>170</td>\n",
       "      <td>None</td>\n",
       "    </tr>\n",
       "  </tbody>\n",
       "</table>\n",
       "</div>"
      ],
      "text/plain": [
       "   student_mark student_city  student_height student_uni\n",
       "0           3.0      Silfeet             195         ann\n",
       "1           3.0     Tulkarem             180        aaup\n",
       "2           3.7     Qabatyia             170        None"
      ]
     },
     "execution_count": 17,
     "metadata": {},
     "output_type": "execute_result"
    }
   ],
   "source": [
    "# display the dataframe\n",
    "student_df"
   ]
  },
  {
   "cell_type": "code",
   "execution_count": 18,
   "id": "97fe78e5",
   "metadata": {},
   "outputs": [
    {
     "data": {
      "text/plain": [
       "0    False\n",
       "1    False\n",
       "2     True\n",
       "Name: student_mark, dtype: bool"
      ]
     },
     "execution_count": 18,
     "metadata": {},
     "output_type": "execute_result"
    }
   ],
   "source": [
    "# get a series of True/False based on condition\n",
    "student_df['student_mark'].apply(lambda x: x >= 3.5)"
   ]
  },
  {
   "cell_type": "code",
   "execution_count": 19,
   "id": "c4b540f1",
   "metadata": {},
   "outputs": [],
   "source": [
    "# define a custom update function\n",
    "# reduce the mark by 10% of the value if the mark is more than or equal 3.5\n",
    "def update_mark(mark):\n",
    "    return mark if mark < 3.5 else mark - (0.1 * mark)\n"
   ]
  },
  {
   "cell_type": "code",
   "execution_count": 20,
   "id": "60a04971",
   "metadata": {},
   "outputs": [],
   "source": [
    "# update the marks using apply and the custom funciton\n",
    "student_df['student_mark'] = student_df['student_mark'].apply(lambda x: update_mark(x))"
   ]
  },
  {
   "cell_type": "code",
   "execution_count": 21,
   "id": "c55b99a5",
   "metadata": {},
   "outputs": [
    {
     "data": {
      "text/plain": [
       "0    3.00\n",
       "1    3.00\n",
       "2    3.33\n",
       "Name: student_mark, dtype: float64"
      ]
     },
     "execution_count": 21,
     "metadata": {},
     "output_type": "execute_result"
    }
   ],
   "source": [
    "# display only one column\n",
    "student_df['student_mark']"
   ]
  },
  {
   "cell_type": "code",
   "execution_count": 22,
   "id": "4d96b1b9",
   "metadata": {},
   "outputs": [
    {
     "data": {
      "text/plain": [
       "3.0"
      ]
     },
     "execution_count": 22,
     "metadata": {},
     "output_type": "execute_result"
    }
   ],
   "source": [
    "# get min of all values of a feature\n",
    "student_df['student_mark'].min()"
   ]
  },
  {
   "cell_type": "code",
   "execution_count": 23,
   "id": "e6a673dc",
   "metadata": {},
   "outputs": [
    {
     "data": {
      "text/plain": [
       "3.33"
      ]
     },
     "execution_count": 23,
     "metadata": {},
     "output_type": "execute_result"
    }
   ],
   "source": [
    "# get max of all values of a feature\n",
    "student_df['student_mark'].max()"
   ]
  },
  {
   "cell_type": "code",
   "execution_count": 24,
   "id": "ed99ba80",
   "metadata": {},
   "outputs": [
    {
     "data": {
      "text/plain": [
       "min_val            3.0\n",
       "max_val           3.33\n",
       "unique     [3.0, 3.33]\n",
       "nunique              2\n",
       "Name: student_mark, dtype: object"
      ]
     },
     "execution_count": 24,
     "metadata": {},
     "output_type": "execute_result"
    }
   ],
   "source": [
    "# do more than one aggregation to a feature\n",
    "student_df['student_mark'].agg({'min_val':'min',\n",
    "                                'max_val':'max',\n",
    "                                'unique': 'unique',\n",
    "                                'nunique': 'nunique'})"
   ]
  },
  {
   "cell_type": "code",
   "execution_count": 25,
   "id": "7daeda03",
   "metadata": {},
   "outputs": [
    {
     "data": {
      "text/plain": [
       "student_city\n",
       "Qabatyia    3.33\n",
       "Silfeet     3.00\n",
       "Tulkarem    3.00\n",
       "Name: student_mark, dtype: float64"
      ]
     },
     "execution_count": 25,
     "metadata": {},
     "output_type": "execute_result"
    }
   ],
   "source": [
    "# get minimum mark for every group of students based on the city\n",
    "student_df.groupby('student_city')['student_mark'].min()"
   ]
  },
  {
   "cell_type": "code",
   "execution_count": 28,
   "id": "721d04e5",
   "metadata": {},
   "outputs": [
    {
     "data": {
      "text/plain": [
       "<AxesSubplot:>"
      ]
     },
     "execution_count": 28,
     "metadata": {},
     "output_type": "execute_result"
    },
    {
     "data": {
      "image/png": "[encoded data removed]",
      "text/plain": [
       "<Figure size 432x288 with 1 Axes>"
      ]
     },
     "metadata": {
      "needs_background": "light"
     },
     "output_type": "display_data"
    }
   ],
   "source": [
    "# plot histogram of a feature\n",
    "student_df['student_mark'].hist()"
   ]
  },
  {
   "cell_type": "code",
   "execution_count": 27,
   "id": "34055ea8",
   "metadata": {},
   "outputs": [
    {
     "data": {
      "text/plain": [
       "<AxesSubplot:>"
      ]
     },
     "execution_count": 27,
     "metadata": {},
     "output_type": "execute_result"
    },
    {
     "data": {
      "image/png": "[encoded data removed]",
      "text/plain": [
       "<Figure size 432x288 with 1 Axes>"
      ]
     },
     "metadata": {
      "needs_background": "light"
     },
     "output_type": "display_data"
    }
   ],
   "source": [
    "# line plot of the values\n",
    "student_df['student_mark'].plot()"
   ]
  },
  {
   "cell_type": "code",
   "execution_count": null,
   "id": "2414dbda",
   "metadata": {},
   "outputs": [],
   "source": []
  }
 ],
 "metadata": {
  "kernelspec": {
   "display_name": "Python 3 (ipykernel)",
   "language": "python",
   "name": "python3"
  },
  "language_info": {
   "codemirror_mode": {
    "name": "ipython",
    "version": 3
   },
   "file_extension": ".py",
   "mimetype": "text/x-python",
   "name": "python",
   "nbconvert_exporter": "python",
   "pygments_lexer": "ipython3",
   "version": "3.9.7"
  }
 },
 "nbformat": 4,
 "nbformat_minor": 5
}
