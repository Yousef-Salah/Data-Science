{
 "cells": [
  {
   "cell_type": "markdown",
   "metadata": {},
   "source": [
    "## Student Name: Yousef Salah Khodroj\n",
    "## Student ID: 12113351"
   ]
  },
  {
   "cell_type": "markdown",
   "metadata": {},
   "source": [
    "# introduction to statistical Analysis\n",
    "\n",
    "## Lab 01 - Python programming basics\n",
    "\n",
    "### Hello world example\n",
    "\n",
    "***\n",
    "An Najah National University\n",
    "***"
   ]
  },
  {
   "cell_type": "markdown",
   "metadata": {},
   "source": [
    "***\n",
    "### Exercises\n",
    "***"
   ]
  },
  {
   "cell_type": "markdown",
   "metadata": {},
   "source": [
    "Call the *raiseToPower* function with x and p as arguments and print the resulting value"
   ]
  },
  {
   "cell_type": "code",
   "execution_count": 5,
   "metadata": {},
   "outputs": [
    {
     "name": "stdout",
     "output_type": "stream",
     "text": [
      "1024\n"
     ]
    }
   ],
   "source": [
    "def raiseToPower(value, power):\n",
    "    return value ** power\n",
    "\n",
    "x = 2\n",
    "p = 10\n",
    "\n",
    "# [!] write code here [!] \n",
    "print(raiseToPower(x, p))\n"
   ]
  },
  {
   "cell_type": "markdown",
   "metadata": {},
   "source": [
    "Expected output:\n",
    "\n",
    "1024\n",
    "\n",
    "***"
   ]
  },
  {
   "cell_type": "markdown",
   "metadata": {},
   "source": [
    "Use the isOne function to check whether a list element is equal to 1, for each elements in the list (using a for loop)"
   ]
  },
  {
   "cell_type": "code",
   "execution_count": 6,
   "metadata": {
    "scrolled": true
   },
   "outputs": [
    {
     "name": "stdout",
     "output_type": "stream",
     "text": [
      "False\n",
      "True\n",
      "True\n",
      "False\n",
      "True\n",
      "False\n"
     ]
    }
   ],
   "source": [
    "def isOne(x):\n",
    "    one = False\n",
    "    if x == 1:\n",
    "        one = True\n",
    "    return one\n",
    "\n",
    "myList = [0, 1, 1, 0, 1, 0]\n",
    "\n",
    "# [!] write code here [!] \n",
    "\n",
    "for item in myList:\n",
    "    print(isOne(item))\n"
   ]
  },
  {
   "cell_type": "markdown",
   "metadata": {},
   "source": [
    "Expected output:\n",
    "***\n",
    "False\n",
    "\n",
    "True\n",
    "\n",
    "True\n",
    "\n",
    "False\n",
    "\n",
    "True\n",
    "\n",
    "False\n",
    "***"
   ]
  },
  {
   "cell_type": "markdown",
   "metadata": {},
   "source": [
    "Complete the function that checks whether its parameter is even or not and returns the result. The result can be processed and stored in a variable called *even* which is then returned by the function."
   ]
  },
  {
   "cell_type": "code",
   "execution_count": 7,
   "metadata": {
    "scrolled": true
   },
   "outputs": [
    {
     "name": "stdout",
     "output_type": "stream",
     "text": [
      "False\n",
      "True\n"
     ]
    }
   ],
   "source": [
    "def isEven(x):\n",
    "    # [!] write code here [!] \n",
    "    even = False\n",
    "    \n",
    "    if (x % 2) == 0:\n",
    "        even = True\n",
    "        \n",
    "    return even\n",
    "\n",
    "print(isEven(5))\n",
    "print(isEven(8))"
   ]
  },
  {
   "cell_type": "markdown",
   "metadata": {},
   "source": [
    "Expected output:\n",
    "***\n",
    "False\n",
    "\n",
    "True\n",
    "***"
   ]
  },
  {
   "cell_type": "markdown",
   "metadata": {},
   "source": [
    "Complete the function makeList that takes a number *n* and returns a list that contains elements starting from 0 up to *n-1*"
   ]
  },
  {
   "cell_type": "code",
   "execution_count": 10,
   "metadata": {
    "scrolled": true
   },
   "outputs": [
    {
     "name": "stdout",
     "output_type": "stream",
     "text": [
      "[0, 1, 2, 3, 4, 5, 6, 7, 8, 9]\n"
     ]
    }
   ],
   "source": [
    "def makeList(n):\n",
    "    resultingList = [0] * n # this will create a list containg n zeros\n",
    "    # [!] write code here, use a for loop [!] \n",
    "    for i in range(0, n):\n",
    "        resultingList[i] = i \n",
    "\n",
    "    return resultingList\n",
    "\n",
    "print(makeList(10))"
   ]
  },
  {
   "cell_type": "markdown",
   "metadata": {},
   "source": [
    "Expected output:\n",
    "***\n",
    "[0, 1, 2, 3, 4, 5, 6, 7, 8, 9]\n",
    "***"
   ]
  },
  {
   "cell_type": "markdown",
   "metadata": {},
   "source": [
    "Functions that contain calls to themselves are called recursive functions. Explore the example below, and look at the outputs of the print command to track what is happening."
   ]
  },
  {
   "cell_type": "code",
   "execution_count": 11,
   "metadata": {
    "scrolled": true
   },
   "outputs": [
    {
     "name": "stdout",
     "output_type": "stream",
     "text": [
      "10\n",
      "9\n",
      "8\n",
      "7\n",
      "6\n",
      "5\n",
      "4\n",
      "3\n",
      "2\n",
      "1\n",
      "0\n"
     ]
    }
   ],
   "source": [
    "def myRecursiveFunction(x):\n",
    "    print(x)\n",
    "    if x > 0:\n",
    "        myRecursiveFunction(x-1)\n",
    "\n",
    "myRecursiveFunction(10)"
   ]
  }
 ],
 "metadata": {
  "kernelspec": {
   "display_name": "Python 3 (ipykernel)",
   "language": "python",
   "name": "python3"
  },
  "language_info": {
   "codemirror_mode": {
    "name": "ipython",
    "version": 3
   },
   "file_extension": ".py",
   "mimetype": "text/x-python",
   "name": "python",
   "nbconvert_exporter": "python",
   "pygments_lexer": "ipython3",
   "version": "3.9.7"
  }
 },
 "nbformat": 4,
 "nbformat_minor": 4
}
