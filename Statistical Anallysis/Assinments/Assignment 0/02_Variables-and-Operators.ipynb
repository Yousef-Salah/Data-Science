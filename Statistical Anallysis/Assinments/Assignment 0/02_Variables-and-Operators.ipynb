{
 "cells": [
  {
   "cell_type": "markdown",
   "metadata": {},
   "source": [
    "# introduction to statistical Analysis\n",
    "\n",
    "## Lab 01 - Python programming basics\n",
    "\n",
    "### Hello world example\n",
    "\n",
    "***\n",
    "An Najah National University\n",
    "***"
   ]
  },
  {
   "cell_type": "markdown",
   "metadata": {},
   "source": [
    "In this example, we will *declare* a variable, assign a value to it with the \"=\" operator and print it"
   ]
  },
  {
   "cell_type": "code",
   "execution_count": null,
   "metadata": {},
   "outputs": [],
   "source": [
    "# Declare x with value 7\n",
    "\n",
    "\n",
    "# print the x variable\n"
   ]
  },
  {
   "cell_type": "markdown",
   "metadata": {},
   "source": [
    "Expected output:\n",
    "***\n",
    "7\n",
    "***"
   ]
  },
  {
   "cell_type": "markdown",
   "metadata": {},
   "source": [
    "We can declare and assign values to multiple variables to use in our program"
   ]
  },
  {
   "cell_type": "code",
   "execution_count": null,
   "metadata": {},
   "outputs": [],
   "source": [
    "# Declare x and assign value 7\n",
    "\n",
    "\n",
    "# Declare y and assign value 3\n",
    "\n",
    "\n",
    "# Declare u and v with values 10, 20 respectively\n",
    "\n",
    "\n",
    "# print all variables together\n"
   ]
  },
  {
   "cell_type": "markdown",
   "metadata": {},
   "source": [
    "Expected output:\n",
    "***\n",
    "7 3 10 20\n",
    "***"
   ]
  },
  {
   "cell_type": "markdown",
   "metadata": {},
   "source": [
    "We can change the values of variables using operators"
   ]
  },
  {
   "cell_type": "code",
   "execution_count": null,
   "metadata": {},
   "outputs": [],
   "source": [
    "# Declare x and assign value 7\n",
    "\n",
    "\n",
    "# Declare y and assign value 3\n",
    "\n",
    "\n",
    "# Declare u and v with values 10, 20 respectively\n",
    "\n",
    "\n",
    "# print all variables together\n"
   ]
  },
  {
   "cell_type": "markdown",
   "metadata": {},
   "source": [
    "Expected output:\n",
    "***\n",
    "10 3\n",
    "***"
   ]
  },
  {
   "cell_type": "markdown",
   "metadata": {},
   "source": [
    "Important note: the variables you declare globally throughout a Jupyter Notebook are accessible throughout your notebook !"
   ]
  },
  {
   "cell_type": "code",
   "execution_count": null,
   "metadata": {
    "scrolled": true
   },
   "outputs": [],
   "source": [
    "# If you've executed the code cells below\n",
    "# then you should be able to access \"x\" in this cell !\n",
    "# let's try to print it\n"
   ]
  },
  {
   "cell_type": "markdown",
   "metadata": {},
   "source": [
    "Expected output (assuming the previous cell with x=x+y was executed last before this):\n",
    "***\n",
    "10\n",
    "***"
   ]
  },
  {
   "cell_type": "markdown",
   "metadata": {},
   "source": [
    "***\n",
    "### Exercises\n",
    "***"
   ]
  },
  {
   "cell_type": "markdown",
   "metadata": {},
   "source": [
    "Experiment with the other Arithmetic Operators:\n",
    "\n",
    "\\+ (Addition)\n",
    "\n",
    "\\- (Subtraction)\n",
    "\n",
    "\\* (Multiplication)\n",
    "\n",
    "\\/ (Division)\n",
    "\n",
    "\\% (Modulus)\n",
    "\n",
    "\\*\\* (Exponentiation)\n",
    "\n",
    "\\/\\/ (Floor division)"
   ]
  },
  {
   "cell_type": "code",
   "execution_count": null,
   "metadata": {},
   "outputs": [],
   "source": [
    "# [!] Code here for Addition [!]\n",
    "\n",
    "\n",
    "# [!] Code here for Subtraction [!]\n",
    "\n",
    "\n",
    "# [!] Code here for Division [!]\n",
    "\n",
    "\n",
    "# [!] Code here for Modulus [!]\n",
    "\n",
    "\n",
    "# [!] Code here for Exponentiation [!]\n",
    "\n",
    "\n",
    "# [!] Code here for Floor division [!]\n",
    "\n"
   ]
  },
  {
   "cell_type": "markdown",
   "metadata": {},
   "source": [
    "***"
   ]
  },
  {
   "cell_type": "markdown",
   "metadata": {},
   "source": [
    "Also experiment with each of the Assignment Operators\n",
    "\n",
    "\\= \\+\\= \\-\\= \\*\\= \\/\\= \\%\\= \\*\\*\\= \\/\\/\\=\n"
   ]
  },
  {
   "cell_type": "code",
   "execution_count": null,
   "metadata": {},
   "outputs": [],
   "source": [
    "# [!] write your code here [!]"
   ]
  },
  {
   "cell_type": "markdown",
   "metadata": {},
   "source": [
    "***"
   ]
  },
  {
   "cell_type": "markdown",
   "metadata": {},
   "source": [
    "Now experiment with each of the Logical Operators\n",
    "\n",
    "and or not"
   ]
  },
  {
   "cell_type": "code",
   "execution_count": null,
   "metadata": {},
   "outputs": [],
   "source": [
    "# [!] write your code here [!]"
   ]
  }
 ],
 "metadata": {
  "kernelspec": {
   "display_name": "Python 3",
   "language": "python",
   "name": "python3"
  },
  "language_info": {
   "codemirror_mode": {
    "name": "ipython",
    "version": 3
   },
   "file_extension": ".py",
   "mimetype": "text/x-python",
   "name": "python",
   "nbconvert_exporter": "python",
   "pygments_lexer": "ipython3",
   "version": "3.7.6"
  }
 },
 "nbformat": 4,
 "nbformat_minor": 4
}
