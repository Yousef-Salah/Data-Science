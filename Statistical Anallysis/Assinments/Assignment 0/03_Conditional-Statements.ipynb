{
 "cells": [
  {
   "cell_type": "markdown",
   "metadata": {},
   "source": [
    "## Student Name: Yousef Salah Khodroj\n",
    "## Student ID: 12113351"
   ]
  },
  {
   "cell_type": "markdown",
   "metadata": {},
   "source": [
    "# Introduction to Statistical Analysis\n",
    "\n",
    "## Lab 01 - Python programming basics\n",
    "\n",
    "### Conditional statements\n",
    "\n",
    "***\n",
    "An Najah National Unviersity\n",
    "***"
   ]
  },
  {
   "cell_type": "markdown",
   "metadata": {},
   "source": [
    "***\n",
    "### Exercises\n",
    "***"
   ]
  },
  {
   "cell_type": "markdown",
   "metadata": {},
   "source": [
    "Define and assign a value to two variables: x and y, then use conditional if statements to decide whether:\n",
    "\n",
    "* x is lower or greater than y\n",
    "* x is even or odd\n",
    "* x is divisible by y\n",
    "* x is even and y is odd\n",
    "* either x is divisible by y or y is divisible by x\n",
    "\n",
    "Use print to output the result (answer to the tests above)"
   ]
  },
  {
   "cell_type": "code",
   "execution_count": 22,
   "metadata": {},
   "outputs": [],
   "source": [
    "# [!] write code here for each test [!] \n",
    "x = 4\n",
    "y = 4\n"
   ]
  },
  {
   "cell_type": "code",
   "execution_count": 23,
   "metadata": {},
   "outputs": [
    {
     "name": "stdout",
     "output_type": "stream",
     "text": [
      "x is equal y.\n"
     ]
    }
   ],
   "source": [
    "#x is lower or greater than y\n",
    "if x < y:\n",
    "    print('x is lower than y.')\n",
    "elif x > y:\n",
    "    print('x is greater than y.')\n",
    "else:\n",
    "    print('x is equal y.')\n"
   ]
  },
  {
   "cell_type": "code",
   "execution_count": 26,
   "metadata": {},
   "outputs": [
    {
     "name": "stdout",
     "output_type": "stream",
     "text": [
      "x is even number.\n",
      "x is divisible by y or y is divisible by x\n"
     ]
    }
   ],
   "source": [
    "def is_even(x):\n",
    "    return is_divisable_by(x, 2)\n",
    "\n",
    "        \n",
    "def is_divisible_by(x , y):\n",
    "    if (x % y) == 0:\n",
    "        return True\n",
    "    \n",
    "    return False\n",
    "\n",
    "#x is even or odd\n",
    "if(is_even(x)):\n",
    "    print('x is even number.')\n",
    "else:\n",
    "    print('x is odd number.')\n",
    "    \n",
    "\n",
    "#x is even and y is odd\n",
    "if(is_even(x) and (not is_even(y))):\n",
    "    print('x is even and y is odd.')\n",
    "\n",
    "\n",
    "\n",
    "#either x is divisible by y or y is divisible by x\n",
    "if(is_divisible_by(x, y) or is_divisible_by(y, x)):\n",
    "    print('x is divisible by y or y is divisible by x')\n",
    "\n",
    "\n"
   ]
  },
  {
   "cell_type": "markdown",
   "metadata": {},
   "source": [
    "***"
   ]
  },
  {
   "cell_type": "markdown",
   "metadata": {},
   "source": [
    "Experiment with nested if statements and rewrite the same test using logical operators and only one if statement"
   ]
  },
  {
   "cell_type": "code",
   "execution_count": 27,
   "metadata": {
    "scrolled": true
   },
   "outputs": [
    {
     "name": "stdout",
     "output_type": "stream",
     "text": [
      "x is between 10 and 20\n",
      "x is between 10 and 20\n"
     ]
    }
   ],
   "source": [
    "x = 15\n",
    "\n",
    "# using nested if statements\n",
    "if x >= 10:\n",
    "    if x <= 20:\n",
    "        print('x is between 10 and 20')\n",
    "        \n",
    "# [!] write code here to rewrite the test above using logical operators and only one if statement [!] \n",
    "if x >= 10 and x <= 20:\n",
    "    print('x is between 10 and 20')\n",
    "    \n"
   ]
  },
  {
   "cell_type": "markdown",
   "metadata": {},
   "source": [
    "Expected output:\n",
    "***\n",
    "x is between 10 and 20\n",
    "\n",
    "x is between 10 and 20\n",
    "***"
   ]
  }
 ],
 "metadata": {
  "kernelspec": {
   "display_name": "Python 3 (ipykernel)",
   "language": "python",
   "name": "python3"
  },
  "language_info": {
   "codemirror_mode": {
    "name": "ipython",
    "version": 3
   },
   "file_extension": ".py",
   "mimetype": "text/x-python",
   "name": "python",
   "nbconvert_exporter": "python",
   "pygments_lexer": "ipython3",
   "version": "3.9.7"
  }
 },
 "nbformat": 4,
 "nbformat_minor": 4
}
