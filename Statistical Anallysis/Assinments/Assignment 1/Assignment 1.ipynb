{
 "cells": [
  {
   "cell_type": "markdown",
   "id": "035c4677",
   "metadata": {},
   "source": [
    "# Handling Missing Data using pandas\n",
    "- Student Name: Yousef Salah Khodroj\n",
    "- ID: 12113351"
   ]
  },
  {
   "cell_type": "markdown",
   "id": "98a3c38d",
   "metadata": {},
   "source": [
    "### Importing Pandas"
   ]
  },
  {
   "cell_type": "code",
   "execution_count": 1,
   "id": "a2cfb280",
   "metadata": {},
   "outputs": [],
   "source": [
    "import pandas as pd"
   ]
  },
  {
   "cell_type": "markdown",
   "id": "f82065a3",
   "metadata": {},
   "source": [
    "### Load Data & Create DateFrame"
   ]
  },
  {
   "cell_type": "code",
   "execution_count": 2,
   "id": "7566f9bd",
   "metadata": {},
   "outputs": [
    {
     "data": {
      "text/html": [
       "<div>\n",
       "<style scoped>\n",
       "    .dataframe tbody tr th:only-of-type {\n",
       "        vertical-align: middle;\n",
       "    }\n",
       "\n",
       "    .dataframe tbody tr th {\n",
       "        vertical-align: top;\n",
       "    }\n",
       "\n",
       "    .dataframe thead th {\n",
       "        text-align: right;\n",
       "    }\n",
       "</style>\n",
       "<table border=\"1\" class=\"dataframe\">\n",
       "  <thead>\n",
       "    <tr style=\"text-align: right;\">\n",
       "      <th></th>\n",
       "      <th>play_id</th>\n",
       "      <th>game_id</th>\n",
       "      <th>home_team</th>\n",
       "      <th>away_team</th>\n",
       "      <th>posteam</th>\n",
       "      <th>posteam_type</th>\n",
       "      <th>defteam</th>\n",
       "      <th>side_of_field</th>\n",
       "      <th>yardline_100</th>\n",
       "      <th>game_date</th>\n",
       "      <th>...</th>\n",
       "      <th>penalty_player_id</th>\n",
       "      <th>penalty_player_name</th>\n",
       "      <th>penalty_yards</th>\n",
       "      <th>replay_or_challenge</th>\n",
       "      <th>replay_or_challenge_result</th>\n",
       "      <th>penalty_type</th>\n",
       "      <th>defensive_two_point_attempt</th>\n",
       "      <th>defensive_two_point_conv</th>\n",
       "      <th>defensive_extra_point_attempt</th>\n",
       "      <th>defensive_extra_point_conv</th>\n",
       "    </tr>\n",
       "  </thead>\n",
       "  <tbody>\n",
       "    <tr>\n",
       "      <th>0</th>\n",
       "      <td>46</td>\n",
       "      <td>2009091000</td>\n",
       "      <td>PIT</td>\n",
       "      <td>TEN</td>\n",
       "      <td>PIT</td>\n",
       "      <td>home</td>\n",
       "      <td>TEN</td>\n",
       "      <td>TEN</td>\n",
       "      <td>30.0</td>\n",
       "      <td>2009-09-10</td>\n",
       "      <td>...</td>\n",
       "      <td>NaN</td>\n",
       "      <td>NaN</td>\n",
       "      <td>NaN</td>\n",
       "      <td>0</td>\n",
       "      <td>NaN</td>\n",
       "      <td>NaN</td>\n",
       "      <td>0.0</td>\n",
       "      <td>0.0</td>\n",
       "      <td>0.0</td>\n",
       "      <td>0.0</td>\n",
       "    </tr>\n",
       "    <tr>\n",
       "      <th>1</th>\n",
       "      <td>68</td>\n",
       "      <td>2009091000</td>\n",
       "      <td>PIT</td>\n",
       "      <td>TEN</td>\n",
       "      <td>PIT</td>\n",
       "      <td>home</td>\n",
       "      <td>TEN</td>\n",
       "      <td>PIT</td>\n",
       "      <td>58.0</td>\n",
       "      <td>2009-09-10</td>\n",
       "      <td>...</td>\n",
       "      <td>NaN</td>\n",
       "      <td>NaN</td>\n",
       "      <td>NaN</td>\n",
       "      <td>0</td>\n",
       "      <td>NaN</td>\n",
       "      <td>NaN</td>\n",
       "      <td>0.0</td>\n",
       "      <td>0.0</td>\n",
       "      <td>0.0</td>\n",
       "      <td>0.0</td>\n",
       "    </tr>\n",
       "    <tr>\n",
       "      <th>2</th>\n",
       "      <td>92</td>\n",
       "      <td>2009091000</td>\n",
       "      <td>PIT</td>\n",
       "      <td>TEN</td>\n",
       "      <td>PIT</td>\n",
       "      <td>home</td>\n",
       "      <td>TEN</td>\n",
       "      <td>PIT</td>\n",
       "      <td>53.0</td>\n",
       "      <td>2009-09-10</td>\n",
       "      <td>...</td>\n",
       "      <td>NaN</td>\n",
       "      <td>NaN</td>\n",
       "      <td>NaN</td>\n",
       "      <td>0</td>\n",
       "      <td>NaN</td>\n",
       "      <td>NaN</td>\n",
       "      <td>0.0</td>\n",
       "      <td>0.0</td>\n",
       "      <td>0.0</td>\n",
       "      <td>0.0</td>\n",
       "    </tr>\n",
       "    <tr>\n",
       "      <th>3</th>\n",
       "      <td>113</td>\n",
       "      <td>2009091000</td>\n",
       "      <td>PIT</td>\n",
       "      <td>TEN</td>\n",
       "      <td>PIT</td>\n",
       "      <td>home</td>\n",
       "      <td>TEN</td>\n",
       "      <td>PIT</td>\n",
       "      <td>56.0</td>\n",
       "      <td>2009-09-10</td>\n",
       "      <td>...</td>\n",
       "      <td>NaN</td>\n",
       "      <td>NaN</td>\n",
       "      <td>NaN</td>\n",
       "      <td>0</td>\n",
       "      <td>NaN</td>\n",
       "      <td>NaN</td>\n",
       "      <td>0.0</td>\n",
       "      <td>0.0</td>\n",
       "      <td>0.0</td>\n",
       "      <td>0.0</td>\n",
       "    </tr>\n",
       "    <tr>\n",
       "      <th>4</th>\n",
       "      <td>139</td>\n",
       "      <td>2009091000</td>\n",
       "      <td>PIT</td>\n",
       "      <td>TEN</td>\n",
       "      <td>PIT</td>\n",
       "      <td>home</td>\n",
       "      <td>TEN</td>\n",
       "      <td>PIT</td>\n",
       "      <td>56.0</td>\n",
       "      <td>2009-09-10</td>\n",
       "      <td>...</td>\n",
       "      <td>NaN</td>\n",
       "      <td>NaN</td>\n",
       "      <td>NaN</td>\n",
       "      <td>0</td>\n",
       "      <td>NaN</td>\n",
       "      <td>NaN</td>\n",
       "      <td>0.0</td>\n",
       "      <td>0.0</td>\n",
       "      <td>0.0</td>\n",
       "      <td>0.0</td>\n",
       "    </tr>\n",
       "    <tr>\n",
       "      <th>...</th>\n",
       "      <td>...</td>\n",
       "      <td>...</td>\n",
       "      <td>...</td>\n",
       "      <td>...</td>\n",
       "      <td>...</td>\n",
       "      <td>...</td>\n",
       "      <td>...</td>\n",
       "      <td>...</td>\n",
       "      <td>...</td>\n",
       "      <td>...</td>\n",
       "      <td>...</td>\n",
       "      <td>...</td>\n",
       "      <td>...</td>\n",
       "      <td>...</td>\n",
       "      <td>...</td>\n",
       "      <td>...</td>\n",
       "      <td>...</td>\n",
       "      <td>...</td>\n",
       "      <td>...</td>\n",
       "      <td>...</td>\n",
       "      <td>...</td>\n",
       "    </tr>\n",
       "    <tr>\n",
       "      <th>44591</th>\n",
       "      <td>3669</td>\n",
       "      <td>2010010308</td>\n",
       "      <td>NYJ</td>\n",
       "      <td>CIN</td>\n",
       "      <td>CIN</td>\n",
       "      <td>away</td>\n",
       "      <td>NYJ</td>\n",
       "      <td>NYJ</td>\n",
       "      <td>26.0</td>\n",
       "      <td>2010-01-03</td>\n",
       "      <td>...</td>\n",
       "      <td>NaN</td>\n",
       "      <td>NaN</td>\n",
       "      <td>NaN</td>\n",
       "      <td>0</td>\n",
       "      <td>NaN</td>\n",
       "      <td>NaN</td>\n",
       "      <td>0.0</td>\n",
       "      <td>0.0</td>\n",
       "      <td>0.0</td>\n",
       "      <td>0.0</td>\n",
       "    </tr>\n",
       "    <tr>\n",
       "      <th>44592</th>\n",
       "      <td>3704</td>\n",
       "      <td>2010010308</td>\n",
       "      <td>NYJ</td>\n",
       "      <td>CIN</td>\n",
       "      <td>NYJ</td>\n",
       "      <td>home</td>\n",
       "      <td>CIN</td>\n",
       "      <td>CIN</td>\n",
       "      <td>28.0</td>\n",
       "      <td>2010-01-03</td>\n",
       "      <td>...</td>\n",
       "      <td>NaN</td>\n",
       "      <td>NaN</td>\n",
       "      <td>NaN</td>\n",
       "      <td>0</td>\n",
       "      <td>NaN</td>\n",
       "      <td>NaN</td>\n",
       "      <td>0.0</td>\n",
       "      <td>0.0</td>\n",
       "      <td>0.0</td>\n",
       "      <td>0.0</td>\n",
       "    </tr>\n",
       "    <tr>\n",
       "      <th>44593</th>\n",
       "      <td>3725</td>\n",
       "      <td>2010010308</td>\n",
       "      <td>NYJ</td>\n",
       "      <td>CIN</td>\n",
       "      <td>NYJ</td>\n",
       "      <td>home</td>\n",
       "      <td>CIN</td>\n",
       "      <td>CIN</td>\n",
       "      <td>29.0</td>\n",
       "      <td>2010-01-03</td>\n",
       "      <td>...</td>\n",
       "      <td>NaN</td>\n",
       "      <td>NaN</td>\n",
       "      <td>NaN</td>\n",
       "      <td>0</td>\n",
       "      <td>NaN</td>\n",
       "      <td>NaN</td>\n",
       "      <td>0.0</td>\n",
       "      <td>0.0</td>\n",
       "      <td>0.0</td>\n",
       "      <td>0.0</td>\n",
       "    </tr>\n",
       "    <tr>\n",
       "      <th>44594</th>\n",
       "      <td>3747</td>\n",
       "      <td>2010010308</td>\n",
       "      <td>NYJ</td>\n",
       "      <td>CIN</td>\n",
       "      <td>NYJ</td>\n",
       "      <td>home</td>\n",
       "      <td>CIN</td>\n",
       "      <td>CIN</td>\n",
       "      <td>30.0</td>\n",
       "      <td>2010-01-03</td>\n",
       "      <td>...</td>\n",
       "      <td>NaN</td>\n",
       "      <td>NaN</td>\n",
       "      <td>NaN</td>\n",
       "      <td>0</td>\n",
       "      <td>NaN</td>\n",
       "      <td>NaN</td>\n",
       "      <td>0.0</td>\n",
       "      <td>0.0</td>\n",
       "      <td>0.0</td>\n",
       "      <td>0.0</td>\n",
       "    </tr>\n",
       "    <tr>\n",
       "      <th>44595</th>\n",
       "      <td>3768</td>\n",
       "      <td>2010010308</td>\n",
       "      <td>NYJ</td>\n",
       "      <td>CIN</td>\n",
       "      <td>NaN</td>\n",
       "      <td>NaN</td>\n",
       "      <td>NaN</td>\n",
       "      <td>CIN</td>\n",
       "      <td>NaN</td>\n",
       "      <td>2010-01-03</td>\n",
       "      <td>...</td>\n",
       "      <td>NaN</td>\n",
       "      <td>NaN</td>\n",
       "      <td>NaN</td>\n",
       "      <td>0</td>\n",
       "      <td>NaN</td>\n",
       "      <td>NaN</td>\n",
       "      <td>NaN</td>\n",
       "      <td>NaN</td>\n",
       "      <td>NaN</td>\n",
       "      <td>NaN</td>\n",
       "    </tr>\n",
       "  </tbody>\n",
       "</table>\n",
       "<p>44596 rows × 256 columns</p>\n",
       "</div>"
      ],
      "text/plain": [
       "       play_id     game_id home_team away_team posteam posteam_type defteam  \\\n",
       "0           46  2009091000       PIT       TEN     PIT         home     TEN   \n",
       "1           68  2009091000       PIT       TEN     PIT         home     TEN   \n",
       "2           92  2009091000       PIT       TEN     PIT         home     TEN   \n",
       "3          113  2009091000       PIT       TEN     PIT         home     TEN   \n",
       "4          139  2009091000       PIT       TEN     PIT         home     TEN   \n",
       "...        ...         ...       ...       ...     ...          ...     ...   \n",
       "44591     3669  2010010308       NYJ       CIN     CIN         away     NYJ   \n",
       "44592     3704  2010010308       NYJ       CIN     NYJ         home     CIN   \n",
       "44593     3725  2010010308       NYJ       CIN     NYJ         home     CIN   \n",
       "44594     3747  2010010308       NYJ       CIN     NYJ         home     CIN   \n",
       "44595     3768  2010010308       NYJ       CIN     NaN          NaN     NaN   \n",
       "\n",
       "      side_of_field  yardline_100   game_date  ...  penalty_player_id  \\\n",
       "0               TEN          30.0  2009-09-10  ...                NaN   \n",
       "1               PIT          58.0  2009-09-10  ...                NaN   \n",
       "2               PIT          53.0  2009-09-10  ...                NaN   \n",
       "3               PIT          56.0  2009-09-10  ...                NaN   \n",
       "4               PIT          56.0  2009-09-10  ...                NaN   \n",
       "...             ...           ...         ...  ...                ...   \n",
       "44591           NYJ          26.0  2010-01-03  ...                NaN   \n",
       "44592           CIN          28.0  2010-01-03  ...                NaN   \n",
       "44593           CIN          29.0  2010-01-03  ...                NaN   \n",
       "44594           CIN          30.0  2010-01-03  ...                NaN   \n",
       "44595           CIN           NaN  2010-01-03  ...                NaN   \n",
       "\n",
       "       penalty_player_name  penalty_yards replay_or_challenge  \\\n",
       "0                      NaN            NaN                   0   \n",
       "1                      NaN            NaN                   0   \n",
       "2                      NaN            NaN                   0   \n",
       "3                      NaN            NaN                   0   \n",
       "4                      NaN            NaN                   0   \n",
       "...                    ...            ...                 ...   \n",
       "44591                  NaN            NaN                   0   \n",
       "44592                  NaN            NaN                   0   \n",
       "44593                  NaN            NaN                   0   \n",
       "44594                  NaN            NaN                   0   \n",
       "44595                  NaN            NaN                   0   \n",
       "\n",
       "       replay_or_challenge_result  penalty_type  defensive_two_point_attempt  \\\n",
       "0                             NaN           NaN                          0.0   \n",
       "1                             NaN           NaN                          0.0   \n",
       "2                             NaN           NaN                          0.0   \n",
       "3                             NaN           NaN                          0.0   \n",
       "4                             NaN           NaN                          0.0   \n",
       "...                           ...           ...                          ...   \n",
       "44591                         NaN           NaN                          0.0   \n",
       "44592                         NaN           NaN                          0.0   \n",
       "44593                         NaN           NaN                          0.0   \n",
       "44594                         NaN           NaN                          0.0   \n",
       "44595                         NaN           NaN                          NaN   \n",
       "\n",
       "       defensive_two_point_conv  defensive_extra_point_attempt  \\\n",
       "0                           0.0                            0.0   \n",
       "1                           0.0                            0.0   \n",
       "2                           0.0                            0.0   \n",
       "3                           0.0                            0.0   \n",
       "4                           0.0                            0.0   \n",
       "...                         ...                            ...   \n",
       "44591                       0.0                            0.0   \n",
       "44592                       0.0                            0.0   \n",
       "44593                       0.0                            0.0   \n",
       "44594                       0.0                            0.0   \n",
       "44595                       NaN                            NaN   \n",
       "\n",
       "       defensive_extra_point_conv  \n",
       "0                             0.0  \n",
       "1                             0.0  \n",
       "2                             0.0  \n",
       "3                             0.0  \n",
       "4                             0.0  \n",
       "...                           ...  \n",
       "44591                         0.0  \n",
       "44592                         0.0  \n",
       "44593                         0.0  \n",
       "44594                         0.0  \n",
       "44595                         NaN  \n",
       "\n",
       "[44596 rows x 256 columns]"
      ]
     },
     "execution_count": 2,
     "metadata": {},
     "output_type": "execute_result"
    }
   ],
   "source": [
    "df = pd.read_csv('reg_pbp_2009.csv', low_memory=False)\n",
    "\n",
    "## 44.5 k of records , are you kidding me !!!\n",
    "df"
   ]
  },
  {
   "cell_type": "markdown",
   "id": "7eca33f4",
   "metadata": {},
   "source": [
    "### Checking the number of Columns that contains Missing Values"
   ]
  },
  {
   "cell_type": "code",
   "execution_count": 3,
   "id": "efa62d95",
   "metadata": {},
   "outputs": [
    {
     "data": {
      "text/plain": [
       "202"
      ]
     },
     "execution_count": 3,
     "metadata": {},
     "output_type": "execute_result"
    }
   ],
   "source": [
    "df.columns[df.isna().any()].size"
   ]
  },
  {
   "cell_type": "code",
   "execution_count": null,
   "id": "5cc0c68e",
   "metadata": {},
   "outputs": [],
   "source": []
  },
  {
   "cell_type": "markdown",
   "id": "d9659ed9",
   "metadata": {},
   "source": [
    "### Delete Columns That Consists of fully missing values"
   ]
  },
  {
   "cell_type": "code",
   "execution_count": 4,
   "id": "a3176616",
   "metadata": {},
   "outputs": [],
   "source": [
    "df.dropna(axis=1, how='all', inplace=True)  # delete columns that have all missing values"
   ]
  },
  {
   "cell_type": "markdown",
   "id": "34461f44",
   "metadata": {},
   "source": [
    "## Drop Features That contains more than 60% of missing values "
   ]
  },
  {
   "cell_type": "code",
   "execution_count": 5,
   "id": "b99bd069",
   "metadata": {
    "scrolled": true
   },
   "outputs": [
    {
     "data": {
      "text/plain": [
       "{'play_id': 0.0,\n",
       " 'game_id': 0.0,\n",
       " 'home_team': 0.0,\n",
       " 'away_team': 0.0,\n",
       " 'posteam': 0.03,\n",
       " 'posteam_type': 0.03,\n",
       " 'defteam': 0.03,\n",
       " 'side_of_field': 0.0,\n",
       " 'yardline_100': 0.03,\n",
       " 'game_date': 0.0,\n",
       " 'quarter_seconds_remaining': 0.0,\n",
       " 'half_seconds_remaining': 0.0,\n",
       " 'game_seconds_remaining': 0.0,\n",
       " 'game_half': 0.0,\n",
       " 'quarter_end': 0.0,\n",
       " 'drive': 0.0,\n",
       " 'sp': 0.0,\n",
       " 'qtr': 0.0,\n",
       " 'down': 0.15,\n",
       " 'goal_to_go': 0.03,\n",
       " 'time': 0.0,\n",
       " 'yrdln': 0.0,\n",
       " 'ydstogo': 0.0,\n",
       " 'ydsnet': 0.0,\n",
       " 'desc': 0.0,\n",
       " 'play_type': 0.03,\n",
       " 'yards_gained': 0.0,\n",
       " 'shotgun': 0.0,\n",
       " 'no_huddle': 0.0,\n",
       " 'qb_dropback': 0.03,\n",
       " 'qb_kneel': 0.0,\n",
       " 'qb_spike': 0.0,\n",
       " 'qb_scramble': 0.0,\n",
       " 'pass_length': 0.62,\n",
       " 'pass_location': 0.62,\n",
       " 'air_yards': 0.62,\n",
       " 'yards_after_catch': 0.77,\n",
       " 'run_location': 0.7,\n",
       " 'run_gap': 0.78,\n",
       " 'field_goal_result': 0.98,\n",
       " 'kick_distance': 0.87,\n",
       " 'extra_point_result': 0.98,\n",
       " 'two_point_conv_result': 1.0,\n",
       " 'home_timeouts_remaining': 0.0,\n",
       " 'away_timeouts_remaining': 0.0,\n",
       " 'timeout': 0.03,\n",
       " 'timeout_team': 0.96,\n",
       " 'td_team': 0.97,\n",
       " 'posteam_timeouts_remaining': 0.03,\n",
       " 'defteam_timeouts_remaining': 0.03,\n",
       " 'total_home_score': 0.0,\n",
       " 'total_away_score': 0.0,\n",
       " 'posteam_score': 0.04,\n",
       " 'defteam_score': 0.04,\n",
       " 'score_differential': 0.04,\n",
       " 'posteam_score_post': 0.03,\n",
       " 'defteam_score_post': 0.03,\n",
       " 'score_differential_post': 0.03,\n",
       " 'no_score_prob': 0.0,\n",
       " 'opp_fg_prob': 0.0,\n",
       " 'opp_safety_prob': 0.0,\n",
       " 'opp_td_prob': 0.0,\n",
       " 'fg_prob': 0.0,\n",
       " 'safety_prob': 0.0,\n",
       " 'td_prob': 0.0,\n",
       " 'extra_point_prob': 0.0,\n",
       " 'two_point_conversion_prob': 0.0,\n",
       " 'ep': 0.03,\n",
       " 'epa': 0.04,\n",
       " 'total_home_epa': 0.0,\n",
       " 'total_away_epa': 0.0,\n",
       " 'total_home_rush_epa': 0.0,\n",
       " 'total_away_rush_epa': 0.0,\n",
       " 'total_home_pass_epa': 0.0,\n",
       " 'total_away_pass_epa': 0.0,\n",
       " 'air_epa': 0.62,\n",
       " 'yac_epa': 0.62,\n",
       " 'comp_air_epa': 0.03,\n",
       " 'comp_yac_epa': 0.03,\n",
       " 'total_home_comp_air_epa': 0.0,\n",
       " 'total_away_comp_air_epa': 0.0,\n",
       " 'total_home_comp_yac_epa': 0.0,\n",
       " 'total_away_comp_yac_epa': 0.0,\n",
       " 'total_home_raw_air_epa': 0.0,\n",
       " 'total_away_raw_air_epa': 0.0,\n",
       " 'total_home_raw_yac_epa': 0.0,\n",
       " 'total_away_raw_yac_epa': 0.0,\n",
       " 'wp': 0.04,\n",
       " 'def_wp': 0.04,\n",
       " 'home_wp': 0.04,\n",
       " 'away_wp': 0.04,\n",
       " 'wpa': 0.01,\n",
       " 'home_wp_post': 0.04,\n",
       " 'away_wp_post': 0.04,\n",
       " 'total_home_rush_wpa': 0.0,\n",
       " 'total_away_rush_wpa': 0.0,\n",
       " 'total_home_pass_wpa': 0.0,\n",
       " 'total_away_pass_wpa': 0.0,\n",
       " 'air_wpa': 0.62,\n",
       " 'yac_wpa': 0.62,\n",
       " 'comp_air_wpa': 0.03,\n",
       " 'comp_yac_wpa': 0.03,\n",
       " 'total_home_comp_air_wpa': 0.0,\n",
       " 'total_away_comp_air_wpa': 0.0,\n",
       " 'total_home_comp_yac_wpa': 0.0,\n",
       " 'total_away_comp_yac_wpa': 0.0,\n",
       " 'total_home_raw_air_wpa': 0.0,\n",
       " 'total_away_raw_air_wpa': 0.0,\n",
       " 'total_home_raw_yac_wpa': 0.0,\n",
       " 'total_away_raw_yac_wpa': 0.0,\n",
       " 'punt_blocked': 0.03,\n",
       " 'first_down_rush': 0.03,\n",
       " 'first_down_pass': 0.03,\n",
       " 'first_down_penalty': 0.03,\n",
       " 'third_down_converted': 0.03,\n",
       " 'third_down_failed': 0.03,\n",
       " 'fourth_down_converted': 0.03,\n",
       " 'fourth_down_failed': 0.03,\n",
       " 'incomplete_pass': 0.03,\n",
       " 'touchback': 0.0,\n",
       " 'interception': 0.03,\n",
       " 'punt_inside_twenty': 0.03,\n",
       " 'punt_in_endzone': 0.03,\n",
       " 'punt_out_of_bounds': 0.03,\n",
       " 'punt_downed': 0.03,\n",
       " 'punt_fair_catch': 0.03,\n",
       " 'kickoff_inside_twenty': 0.03,\n",
       " 'kickoff_in_endzone': 0.03,\n",
       " 'kickoff_out_of_bounds': 0.03,\n",
       " 'kickoff_downed': 0.03,\n",
       " 'kickoff_fair_catch': 0.03,\n",
       " 'fumble_forced': 0.03,\n",
       " 'fumble_not_forced': 0.03,\n",
       " 'fumble_out_of_bounds': 0.03,\n",
       " 'solo_tackle': 0.03,\n",
       " 'safety': 0.03,\n",
       " 'penalty': 0.03,\n",
       " 'tackled_for_loss': 0.03,\n",
       " 'fumble_lost': 0.03,\n",
       " 'own_kickoff_recovery': 0.03,\n",
       " 'own_kickoff_recovery_td': 0.03,\n",
       " 'qb_hit': 0.03,\n",
       " 'rush_attempt': 0.03,\n",
       " 'pass_attempt': 0.03,\n",
       " 'sack': 0.03,\n",
       " 'touchdown': 0.03,\n",
       " 'pass_touchdown': 0.03,\n",
       " 'rush_touchdown': 0.03,\n",
       " 'return_touchdown': 0.03,\n",
       " 'extra_point_attempt': 0.03,\n",
       " 'two_point_attempt': 0.03,\n",
       " 'field_goal_attempt': 0.03,\n",
       " 'kickoff_attempt': 0.03,\n",
       " 'punt_attempt': 0.03,\n",
       " 'fumble': 0.03,\n",
       " 'complete_pass': 0.03,\n",
       " 'assist_tackle': 0.03,\n",
       " 'lateral_reception': 0.03,\n",
       " 'lateral_rush': 0.03,\n",
       " 'lateral_return': 0.03,\n",
       " 'lateral_recovery': 0.03,\n",
       " 'passer_player_id': 0.59,\n",
       " 'passer_player_name': 0.59,\n",
       " 'receiver_player_id': 0.62,\n",
       " 'receiver_player_name': 0.62,\n",
       " 'rusher_player_id': 0.68,\n",
       " 'rusher_player_name': 0.68,\n",
       " 'lateral_receiver_player_id': 1.0,\n",
       " 'lateral_receiver_player_name': 1.0,\n",
       " 'interception_player_id': 0.99,\n",
       " 'interception_player_name': 0.99,\n",
       " 'lateral_interception_player_id': 1.0,\n",
       " 'lateral_interception_player_name': 1.0,\n",
       " 'punt_returner_player_id': 0.96,\n",
       " 'punt_returner_player_name': 0.96,\n",
       " 'lateral_punt_returner_player_id': 1.0,\n",
       " 'lateral_punt_returner_player_name': 1.0,\n",
       " 'kickoff_returner_player_name': 0.95,\n",
       " 'kickoff_returner_player_id': 0.95,\n",
       " 'lateral_kickoff_returner_player_id': 1.0,\n",
       " 'lateral_kickoff_returner_player_name': 1.0,\n",
       " 'punter_player_id': 0.95,\n",
       " 'punter_player_name': 0.95,\n",
       " 'kicker_player_name': 0.9,\n",
       " 'kicker_player_id': 0.9,\n",
       " 'own_kickoff_recovery_player_id': 1.0,\n",
       " 'own_kickoff_recovery_player_name': 1.0,\n",
       " 'blocked_player_id': 1.0,\n",
       " 'blocked_player_name': 1.0,\n",
       " 'tackle_for_loss_1_player_id': 0.95,\n",
       " 'tackle_for_loss_1_player_name': 0.95,\n",
       " 'qb_hit_1_player_id': 0.95,\n",
       " 'qb_hit_1_player_name': 0.95,\n",
       " 'qb_hit_2_player_id': 1.0,\n",
       " 'qb_hit_2_player_name': 1.0,\n",
       " 'forced_fumble_player_1_team': 0.99,\n",
       " 'forced_fumble_player_1_player_id': 0.99,\n",
       " 'forced_fumble_player_1_player_name': 0.99,\n",
       " 'forced_fumble_player_2_team': 1.0,\n",
       " 'forced_fumble_player_2_player_id': 1.0,\n",
       " 'forced_fumble_player_2_player_name': 1.0,\n",
       " 'solo_tackle_1_team': 0.53,\n",
       " 'solo_tackle_2_team': 0.99,\n",
       " 'solo_tackle_1_player_id': 0.53,\n",
       " 'solo_tackle_2_player_id': 0.99,\n",
       " 'solo_tackle_1_player_name': 0.53,\n",
       " 'solo_tackle_2_player_name': 0.99,\n",
       " 'assist_tackle_1_player_id': 0.86,\n",
       " 'assist_tackle_1_player_name': 0.86,\n",
       " 'assist_tackle_1_team': 0.86,\n",
       " 'assist_tackle_2_player_id': 0.86,\n",
       " 'assist_tackle_2_player_name': 0.86,\n",
       " 'assist_tackle_2_team': 0.86,\n",
       " 'pass_defense_1_player_id': 0.95,\n",
       " 'pass_defense_1_player_name': 0.95,\n",
       " 'pass_defense_2_player_id': 1.0,\n",
       " 'pass_defense_2_player_name': 1.0,\n",
       " 'fumbled_1_team': 0.98,\n",
       " 'fumbled_1_player_id': 0.98,\n",
       " 'fumbled_1_player_name': 0.98,\n",
       " 'fumbled_2_player_id': 1.0,\n",
       " 'fumbled_2_player_name': 1.0,\n",
       " 'fumbled_2_team': 1.0,\n",
       " 'fumble_recovery_1_team': 0.99,\n",
       " 'fumble_recovery_1_yards': 0.99,\n",
       " 'fumble_recovery_1_player_id': 0.99,\n",
       " 'fumble_recovery_1_player_name': 0.99,\n",
       " 'fumble_recovery_2_team': 1.0,\n",
       " 'fumble_recovery_2_yards': 1.0,\n",
       " 'fumble_recovery_2_player_id': 1.0,\n",
       " 'fumble_recovery_2_player_name': 1.0,\n",
       " 'return_team': 0.92,\n",
       " 'return_yards': 0.0,\n",
       " 'penalty_team': 0.93,\n",
       " 'penalty_player_id': 0.93,\n",
       " 'penalty_player_name': 0.93,\n",
       " 'penalty_yards': 0.93,\n",
       " 'replay_or_challenge': 0.0,\n",
       " 'replay_or_challenge_result': 0.99,\n",
       " 'penalty_type': 0.94,\n",
       " 'defensive_two_point_attempt': 0.03,\n",
       " 'defensive_two_point_conv': 0.03,\n",
       " 'defensive_extra_point_attempt': 0.03,\n",
       " 'defensive_extra_point_conv': 0.03}"
      ]
     },
     "execution_count": 5,
     "metadata": {},
     "output_type": "execute_result"
    }
   ],
   "source": [
    "# building a dictionary that consists of columns corresponding to its percentage of missing values \n",
    "columns_missing_ratio = {}\n",
    "\n",
    "for column in df.columns:\n",
    "    columns_missing_ratio[column] = (df[column].isna().sum() / df.shape[0]).round(2)\n",
    "    \n",
    "    \n",
    "columns_missing_ratio"
   ]
  },
  {
   "cell_type": "code",
   "execution_count": 6,
   "id": "7d426fe0",
   "metadata": {
    "scrolled": true
   },
   "outputs": [
    {
     "data": {
      "text/plain": [
       "['pass_length',\n",
       " 'pass_location',\n",
       " 'air_yards',\n",
       " 'yards_after_catch',\n",
       " 'run_location',\n",
       " 'run_gap',\n",
       " 'field_goal_result',\n",
       " 'kick_distance',\n",
       " 'extra_point_result',\n",
       " 'two_point_conv_result',\n",
       " 'timeout_team',\n",
       " 'td_team',\n",
       " 'air_epa',\n",
       " 'yac_epa',\n",
       " 'air_wpa',\n",
       " 'yac_wpa',\n",
       " 'receiver_player_id',\n",
       " 'receiver_player_name',\n",
       " 'rusher_player_id',\n",
       " 'rusher_player_name',\n",
       " 'lateral_receiver_player_id',\n",
       " 'lateral_receiver_player_name',\n",
       " 'interception_player_id',\n",
       " 'interception_player_name',\n",
       " 'lateral_interception_player_id',\n",
       " 'lateral_interception_player_name',\n",
       " 'punt_returner_player_id',\n",
       " 'punt_returner_player_name',\n",
       " 'lateral_punt_returner_player_id',\n",
       " 'lateral_punt_returner_player_name',\n",
       " 'kickoff_returner_player_name',\n",
       " 'kickoff_returner_player_id',\n",
       " 'lateral_kickoff_returner_player_id',\n",
       " 'lateral_kickoff_returner_player_name',\n",
       " 'punter_player_id',\n",
       " 'punter_player_name',\n",
       " 'kicker_player_name',\n",
       " 'kicker_player_id',\n",
       " 'own_kickoff_recovery_player_id',\n",
       " 'own_kickoff_recovery_player_name',\n",
       " 'blocked_player_id',\n",
       " 'blocked_player_name',\n",
       " 'tackle_for_loss_1_player_id',\n",
       " 'tackle_for_loss_1_player_name',\n",
       " 'qb_hit_1_player_id',\n",
       " 'qb_hit_1_player_name',\n",
       " 'qb_hit_2_player_id',\n",
       " 'qb_hit_2_player_name',\n",
       " 'forced_fumble_player_1_team',\n",
       " 'forced_fumble_player_1_player_id',\n",
       " 'forced_fumble_player_1_player_name',\n",
       " 'forced_fumble_player_2_team',\n",
       " 'forced_fumble_player_2_player_id',\n",
       " 'forced_fumble_player_2_player_name',\n",
       " 'solo_tackle_2_team',\n",
       " 'solo_tackle_2_player_id',\n",
       " 'solo_tackle_2_player_name',\n",
       " 'assist_tackle_1_player_id',\n",
       " 'assist_tackle_1_player_name',\n",
       " 'assist_tackle_1_team',\n",
       " 'assist_tackle_2_player_id',\n",
       " 'assist_tackle_2_player_name',\n",
       " 'assist_tackle_2_team',\n",
       " 'pass_defense_1_player_id',\n",
       " 'pass_defense_1_player_name',\n",
       " 'pass_defense_2_player_id',\n",
       " 'pass_defense_2_player_name',\n",
       " 'fumbled_1_team',\n",
       " 'fumbled_1_player_id',\n",
       " 'fumbled_1_player_name',\n",
       " 'fumbled_2_player_id',\n",
       " 'fumbled_2_player_name',\n",
       " 'fumbled_2_team',\n",
       " 'fumble_recovery_1_team',\n",
       " 'fumble_recovery_1_yards',\n",
       " 'fumble_recovery_1_player_id',\n",
       " 'fumble_recovery_1_player_name',\n",
       " 'fumble_recovery_2_team',\n",
       " 'fumble_recovery_2_yards',\n",
       " 'fumble_recovery_2_player_id',\n",
       " 'fumble_recovery_2_player_name',\n",
       " 'return_team',\n",
       " 'penalty_team',\n",
       " 'penalty_player_id',\n",
       " 'penalty_player_name',\n",
       " 'penalty_yards',\n",
       " 'replay_or_challenge_result',\n",
       " 'penalty_type']"
      ]
     },
     "execution_count": 6,
     "metadata": {},
     "output_type": "execute_result"
    }
   ],
   "source": [
    "deleted_features = []\n",
    "\n",
    "for feature, value in columns_missing_ratio.items():\n",
    "    if value >= 0.6:\n",
    "        df.drop(feature, axis=1, inplace=True)\n",
    "        deleted_features.append(feature)\n",
    "    \n",
    "deleted_features\n"
   ]
  },
  {
   "cell_type": "markdown",
   "id": "5cee5b1f",
   "metadata": {},
   "source": [
    "### Delete Rows with higher percentage of missing values"
   ]
  },
  {
   "cell_type": "markdown",
   "id": "2ce21c57",
   "metadata": {},
   "source": [
    "#### Calculate the percentage of missing for each single observation"
   ]
  },
  {
   "cell_type": "code",
   "execution_count": 7,
   "id": "b30c16af",
   "metadata": {
    "scrolled": true
   },
   "outputs": [
    {
     "data": {
      "text/plain": [
       "0    0.08\n",
       "1    0.00\n",
       "2    0.01\n",
       "3    0.02\n",
       "4    0.03\n",
       "Name: missing_precentage, dtype: float64"
      ]
     },
     "execution_count": 7,
     "metadata": {},
     "output_type": "execute_result"
    }
   ],
   "source": [
    "df['missing_precentage'] = (df.isna().sum(axis=1) / df.shape[1]).round(2)\n",
    "df['missing_precentage'].head()"
   ]
  },
  {
   "cell_type": "markdown",
   "id": "51a4cf6a",
   "metadata": {},
   "source": [
    "#### Drop observation that missed at least half of its data"
   ]
  },
  {
   "cell_type": "code",
   "execution_count": 8,
   "id": "caa57b3e",
   "metadata": {
    "scrolled": false
   },
   "outputs": [],
   "source": [
    "df.drop(df[df['missing_precentage'] >= 0.5].index, axis='rows', inplace=True)\n"
   ]
  },
  {
   "cell_type": "markdown",
   "id": "2a48c54c",
   "metadata": {},
   "source": [
    "### Filling missing values in `posteam` & any Column of type string with the mode of this Feature"
   ]
  },
  {
   "cell_type": "code",
   "execution_count": 9,
   "id": "090d930f",
   "metadata": {},
   "outputs": [],
   "source": [
    "mode_of_posteam = df['posteam'].value_counts(ascending=False).index[0]\n",
    "df['posteam'].fillna(mode_of_posteam, inplace=True)"
   ]
  },
  {
   "cell_type": "code",
   "execution_count": 10,
   "id": "949fc153",
   "metadata": {
    "scrolled": true
   },
   "outputs": [
    {
     "data": {
      "text/plain": [
       "False"
      ]
     },
     "execution_count": 10,
     "metadata": {},
     "output_type": "execute_result"
    }
   ],
   "source": [
    "df['posteam'].isna().any() # check if there is any missing in this column (posteam)"
   ]
  },
  {
   "cell_type": "code",
   "execution_count": 11,
   "id": "0ca88366",
   "metadata": {},
   "outputs": [],
   "source": [
    "# Function returns columns that contains a missing values\n",
    "\n",
    "def missing_columns_list(data_frame):\n",
    "    return df.columns[df.isna().any()].to_list()"
   ]
  },
  {
   "cell_type": "markdown",
   "id": "4761cef7",
   "metadata": {},
   "source": [
    "### The plan here as follow: \n",
    "- Find the mode value of each column.\n",
    "- fill its missed values with mode. "
   ]
  },
  {
   "cell_type": "code",
   "execution_count": 12,
   "id": "a268d4e8",
   "metadata": {
    "scrolled": true
   },
   "outputs": [],
   "source": [
    "missing_columns = missing_columns_list(df)\n",
    "\n",
    "for column in missing_columns:\n",
    "    if df[column].dtype == str:\n",
    "        mode = df[column].value_counts(ascending=False).index[0]\n",
    "        df[column].fillna(mode, inplace=True)"
   ]
  },
  {
   "cell_type": "code",
   "execution_count": 13,
   "id": "7bf0c7e5",
   "metadata": {},
   "outputs": [
    {
     "data": {
      "text/plain": [
       "True"
      ]
     },
     "execution_count": 13,
     "metadata": {},
     "output_type": "execute_result"
    }
   ],
   "source": [
    "df['passer_player_name'].dtype == object    # nice"
   ]
  },
  {
   "cell_type": "markdown",
   "id": "4ae6f843",
   "metadata": {},
   "source": [
    "### Trying to fill the missing data that belongs to columns and these columns contains the `score` word"
   ]
  },
  {
   "cell_type": "markdown",
   "id": "49ba3e54",
   "metadata": {},
   "source": [
    "### The plan here as follow:\n",
    "- Getting the columns list that contains missing values.\n",
    "- Check if this columns contains any ` 0 `.\n",
    "- The columns must contains `score` word on its label.\n",
    "- The data type must be float."
   ]
  },
  {
   "cell_type": "code",
   "execution_count": 14,
   "id": "81552e94",
   "metadata": {
    "scrolled": true
   },
   "outputs": [],
   "source": [
    "missing_columns = missing_columns_list(df)\n",
    "\n",
    "score_columns_list = []\n",
    "\n",
    "\n",
    "for column in missing_columns:\n",
    "    if(((df[column] == 0).any()) and ('score' in column) and (df[column].dtype == float)):\n",
    "        df[column].fillna(0, inplace=True)\n",
    "        score_columns_list.append(column)\n"
   ]
  },
  {
   "cell_type": "code",
   "execution_count": 15,
   "id": "5f468885",
   "metadata": {
    "scrolled": true
   },
   "outputs": [
    {
     "data": {
      "text/plain": [
       "['posteam_score',\n",
       " 'defteam_score',\n",
       " 'score_differential',\n",
       " 'posteam_score_post',\n",
       " 'defteam_score_post',\n",
       " 'score_differential_post',\n",
       " 'no_score_prob']"
      ]
     },
     "execution_count": 15,
     "metadata": {},
     "output_type": "execute_result"
    }
   ],
   "source": [
    "score_columns_list"
   ]
  },
  {
   "cell_type": "code",
   "execution_count": 16,
   "id": "4fd6e59f",
   "metadata": {},
   "outputs": [
    {
     "data": {
      "text/plain": [
       "False"
      ]
     },
     "execution_count": 16,
     "metadata": {},
     "output_type": "execute_result"
    }
   ],
   "source": [
    "df[score_columns_list].isna().any().any()"
   ]
  },
  {
   "cell_type": "markdown",
   "id": "ece4c4d8",
   "metadata": {},
   "source": [
    "### I Assume that there is a Relationship between These Columns "
   ]
  },
  {
   "cell_type": "code",
   "execution_count": 17,
   "id": "4b8348fe",
   "metadata": {},
   "outputs": [
    {
     "data": {
      "text/plain": [
       "['def_wp',\n",
       " 'home_wp',\n",
       " 'away_wp',\n",
       " 'home_wp_post',\n",
       " 'away_wp_post',\n",
       " 'comp_air_wpa',\n",
       " 'comp_yac_wpa']"
      ]
     },
     "execution_count": 17,
     "metadata": {},
     "output_type": "execute_result"
    }
   ],
   "source": [
    "# Getting columns that contains the _wp in their name \n",
    "\n",
    "wp_list = []\n",
    "\n",
    "for column in missing_columns_list(df):\n",
    "    if '_wp' in column:\n",
    "        wp_list.append(column)\n",
    "\n",
    "wp_list"
   ]
  },
  {
   "cell_type": "code",
   "execution_count": 18,
   "id": "636c3080",
   "metadata": {},
   "outputs": [
    {
     "data": {
      "text/plain": [
       "True"
      ]
     },
     "execution_count": 18,
     "metadata": {},
     "output_type": "execute_result"
    }
   ],
   "source": [
    "# check if the data type of all columns is numeric\n",
    "\n",
    "(df[wp_list].dtypes == float).all()"
   ]
  },
  {
   "cell_type": "code",
   "execution_count": 19,
   "id": "a06dc70a",
   "metadata": {},
   "outputs": [
    {
     "data": {
      "text/plain": [
       "False"
      ]
     },
     "execution_count": 19,
     "metadata": {},
     "output_type": "execute_result"
    }
   ],
   "source": [
    "# filling missing data with interpolate method \n",
    "\n",
    "df[wp_list] = df[wp_list].interpolate(method='linear', limit_direction='forward').fillna(df[wp_list].mean())\n",
    "df[wp_list].isna().any().any()"
   ]
  },
  {
   "cell_type": "markdown",
   "id": "c3f7abca",
   "metadata": {},
   "source": [
    "### Filling Missing Data Using Mean Of The Feature"
   ]
  },
  {
   "cell_type": "code",
   "execution_count": 20,
   "id": "497ca3d3",
   "metadata": {},
   "outputs": [],
   "source": [
    "missing_columns = missing_columns_list(df)\n",
    "\n",
    "filled_columns = []\n",
    "\n",
    "for column in missing_columns:\n",
    "    if df[column].dtype == float:\n",
    "        mean = round(df[column].mean(), 4)\n",
    "        df[column].fillna(mean, inplace=True)\n",
    "        filled_columns.append(column)\n",
    "        \n",
    "        "
   ]
  },
  {
   "cell_type": "code",
   "execution_count": 21,
   "id": "e4b29855",
   "metadata": {},
   "outputs": [
    {
     "data": {
      "text/plain": [
       "False"
      ]
     },
     "execution_count": 21,
     "metadata": {},
     "output_type": "execute_result"
    }
   ],
   "source": [
    "df[filled_columns].isna().any().any()"
   ]
  },
  {
   "cell_type": "code",
   "execution_count": 22,
   "id": "1701dc47",
   "metadata": {
    "scrolled": false
   },
   "outputs": [
    {
     "data": {
      "text/html": [
       "<div>\n",
       "<style scoped>\n",
       "    .dataframe tbody tr th:only-of-type {\n",
       "        vertical-align: middle;\n",
       "    }\n",
       "\n",
       "    .dataframe tbody tr th {\n",
       "        vertical-align: top;\n",
       "    }\n",
       "\n",
       "    .dataframe thead th {\n",
       "        text-align: right;\n",
       "    }\n",
       "</style>\n",
       "<table border=\"1\" class=\"dataframe\">\n",
       "  <thead>\n",
       "    <tr style=\"text-align: right;\">\n",
       "      <th></th>\n",
       "      <th>play_id</th>\n",
       "      <th>game_id</th>\n",
       "      <th>home_team</th>\n",
       "      <th>away_team</th>\n",
       "      <th>posteam</th>\n",
       "      <th>posteam_type</th>\n",
       "      <th>defteam</th>\n",
       "      <th>side_of_field</th>\n",
       "      <th>yardline_100</th>\n",
       "      <th>game_date</th>\n",
       "      <th>...</th>\n",
       "      <th>solo_tackle_1_team</th>\n",
       "      <th>solo_tackle_1_player_id</th>\n",
       "      <th>solo_tackle_1_player_name</th>\n",
       "      <th>return_yards</th>\n",
       "      <th>replay_or_challenge</th>\n",
       "      <th>defensive_two_point_attempt</th>\n",
       "      <th>defensive_two_point_conv</th>\n",
       "      <th>defensive_extra_point_attempt</th>\n",
       "      <th>defensive_extra_point_conv</th>\n",
       "      <th>missing_precentage</th>\n",
       "    </tr>\n",
       "  </thead>\n",
       "  <tbody>\n",
       "    <tr>\n",
       "      <th>0</th>\n",
       "      <td>46</td>\n",
       "      <td>2009091000</td>\n",
       "      <td>PIT</td>\n",
       "      <td>TEN</td>\n",
       "      <td>PIT</td>\n",
       "      <td>home</td>\n",
       "      <td>TEN</td>\n",
       "      <td>TEN</td>\n",
       "      <td>30.0</td>\n",
       "      <td>2009-09-10</td>\n",
       "      <td>...</td>\n",
       "      <td>TEN</td>\n",
       "      <td>00-0025406</td>\n",
       "      <td>M.Griffin</td>\n",
       "      <td>39</td>\n",
       "      <td>0</td>\n",
       "      <td>0.0</td>\n",
       "      <td>0.0</td>\n",
       "      <td>0.0</td>\n",
       "      <td>0.0</td>\n",
       "      <td>0.08</td>\n",
       "    </tr>\n",
       "    <tr>\n",
       "      <th>1</th>\n",
       "      <td>68</td>\n",
       "      <td>2009091000</td>\n",
       "      <td>PIT</td>\n",
       "      <td>TEN</td>\n",
       "      <td>PIT</td>\n",
       "      <td>home</td>\n",
       "      <td>TEN</td>\n",
       "      <td>PIT</td>\n",
       "      <td>58.0</td>\n",
       "      <td>2009-09-10</td>\n",
       "      <td>...</td>\n",
       "      <td>TEN</td>\n",
       "      <td>00-0021219</td>\n",
       "      <td>C.Hope</td>\n",
       "      <td>0</td>\n",
       "      <td>0</td>\n",
       "      <td>0.0</td>\n",
       "      <td>0.0</td>\n",
       "      <td>0.0</td>\n",
       "      <td>0.0</td>\n",
       "      <td>0.00</td>\n",
       "    </tr>\n",
       "    <tr>\n",
       "      <th>2</th>\n",
       "      <td>92</td>\n",
       "      <td>2009091000</td>\n",
       "      <td>PIT</td>\n",
       "      <td>TEN</td>\n",
       "      <td>PIT</td>\n",
       "      <td>home</td>\n",
       "      <td>TEN</td>\n",
       "      <td>PIT</td>\n",
       "      <td>53.0</td>\n",
       "      <td>2009-09-10</td>\n",
       "      <td>...</td>\n",
       "      <td>TEN</td>\n",
       "      <td>00-0024331</td>\n",
       "      <td>S.Tulloch</td>\n",
       "      <td>0</td>\n",
       "      <td>0</td>\n",
       "      <td>0.0</td>\n",
       "      <td>0.0</td>\n",
       "      <td>0.0</td>\n",
       "      <td>0.0</td>\n",
       "      <td>0.01</td>\n",
       "    </tr>\n",
       "    <tr>\n",
       "      <th>3</th>\n",
       "      <td>113</td>\n",
       "      <td>2009091000</td>\n",
       "      <td>PIT</td>\n",
       "      <td>TEN</td>\n",
       "      <td>PIT</td>\n",
       "      <td>home</td>\n",
       "      <td>TEN</td>\n",
       "      <td>PIT</td>\n",
       "      <td>56.0</td>\n",
       "      <td>2009-09-10</td>\n",
       "      <td>...</td>\n",
       "      <td>NaN</td>\n",
       "      <td>NaN</td>\n",
       "      <td>NaN</td>\n",
       "      <td>0</td>\n",
       "      <td>0</td>\n",
       "      <td>0.0</td>\n",
       "      <td>0.0</td>\n",
       "      <td>0.0</td>\n",
       "      <td>0.0</td>\n",
       "      <td>0.02</td>\n",
       "    </tr>\n",
       "    <tr>\n",
       "      <th>4</th>\n",
       "      <td>139</td>\n",
       "      <td>2009091000</td>\n",
       "      <td>PIT</td>\n",
       "      <td>TEN</td>\n",
       "      <td>PIT</td>\n",
       "      <td>home</td>\n",
       "      <td>TEN</td>\n",
       "      <td>PIT</td>\n",
       "      <td>56.0</td>\n",
       "      <td>2009-09-10</td>\n",
       "      <td>...</td>\n",
       "      <td>NaN</td>\n",
       "      <td>NaN</td>\n",
       "      <td>NaN</td>\n",
       "      <td>0</td>\n",
       "      <td>0</td>\n",
       "      <td>0.0</td>\n",
       "      <td>0.0</td>\n",
       "      <td>0.0</td>\n",
       "      <td>0.0</td>\n",
       "      <td>0.03</td>\n",
       "    </tr>\n",
       "  </tbody>\n",
       "</table>\n",
       "<p>5 rows × 157 columns</p>\n",
       "</div>"
      ],
      "text/plain": [
       "   play_id     game_id home_team away_team posteam posteam_type defteam  \\\n",
       "0       46  2009091000       PIT       TEN     PIT         home     TEN   \n",
       "1       68  2009091000       PIT       TEN     PIT         home     TEN   \n",
       "2       92  2009091000       PIT       TEN     PIT         home     TEN   \n",
       "3      113  2009091000       PIT       TEN     PIT         home     TEN   \n",
       "4      139  2009091000       PIT       TEN     PIT         home     TEN   \n",
       "\n",
       "  side_of_field  yardline_100   game_date  ...  solo_tackle_1_team  \\\n",
       "0           TEN          30.0  2009-09-10  ...                 TEN   \n",
       "1           PIT          58.0  2009-09-10  ...                 TEN   \n",
       "2           PIT          53.0  2009-09-10  ...                 TEN   \n",
       "3           PIT          56.0  2009-09-10  ...                 NaN   \n",
       "4           PIT          56.0  2009-09-10  ...                 NaN   \n",
       "\n",
       "   solo_tackle_1_player_id  solo_tackle_1_player_name return_yards  \\\n",
       "0               00-0025406                  M.Griffin           39   \n",
       "1               00-0021219                     C.Hope            0   \n",
       "2               00-0024331                  S.Tulloch            0   \n",
       "3                      NaN                        NaN            0   \n",
       "4                      NaN                        NaN            0   \n",
       "\n",
       "   replay_or_challenge  defensive_two_point_attempt  defensive_two_point_conv  \\\n",
       "0                    0                          0.0                       0.0   \n",
       "1                    0                          0.0                       0.0   \n",
       "2                    0                          0.0                       0.0   \n",
       "3                    0                          0.0                       0.0   \n",
       "4                    0                          0.0                       0.0   \n",
       "\n",
       "   defensive_extra_point_attempt  defensive_extra_point_conv  \\\n",
       "0                            0.0                         0.0   \n",
       "1                            0.0                         0.0   \n",
       "2                            0.0                         0.0   \n",
       "3                            0.0                         0.0   \n",
       "4                            0.0                         0.0   \n",
       "\n",
       "   missing_precentage  \n",
       "0                0.08  \n",
       "1                0.00  \n",
       "2                0.01  \n",
       "3                0.02  \n",
       "4                0.03  \n",
       "\n",
       "[5 rows x 157 columns]"
      ]
     },
     "execution_count": 22,
     "metadata": {},
     "output_type": "execute_result"
    }
   ],
   "source": [
    "df.head()"
   ]
  },
  {
   "cell_type": "markdown",
   "id": "7d607c4d",
   "metadata": {},
   "source": [
    "### All remaining columns there data type is object \n"
   ]
  },
  {
   "cell_type": "code",
   "execution_count": 23,
   "id": "ee717c0e",
   "metadata": {},
   "outputs": [
    {
     "data": {
      "text/plain": [
       "posteam_type                 True\n",
       "defteam                      True\n",
       "side_of_field                True\n",
       "yrdln                        True\n",
       "passer_player_id             True\n",
       "passer_player_name           True\n",
       "solo_tackle_1_team           True\n",
       "solo_tackle_1_player_id      True\n",
       "solo_tackle_1_player_name    True\n",
       "dtype: bool"
      ]
     },
     "execution_count": 23,
     "metadata": {},
     "output_type": "execute_result"
    }
   ],
   "source": [
    "(df[df.columns[df.isna().any()]].dtypes == object)"
   ]
  },
  {
   "cell_type": "code",
   "execution_count": 24,
   "id": "d3d943aa",
   "metadata": {},
   "outputs": [],
   "source": [
    "for column in df.columns:\n",
    "    if df[column].dtype == object:\n",
    "        df[column].fillna('Unknown', inplace=True)"
   ]
  },
  {
   "cell_type": "code",
   "execution_count": 25,
   "id": "6af785b3",
   "metadata": {},
   "outputs": [
    {
     "data": {
      "text/plain": [
       "False"
      ]
     },
     "execution_count": 25,
     "metadata": {},
     "output_type": "execute_result"
    }
   ],
   "source": [
    "df.isna().any().any() "
   ]
  },
  {
   "cell_type": "code",
   "execution_count": null,
   "id": "8515c51a",
   "metadata": {},
   "outputs": [],
   "source": []
  }
 ],
 "metadata": {
  "kernelspec": {
   "display_name": "Python 3 (ipykernel)",
   "language": "python",
   "name": "python3"
  },
  "language_info": {
   "codemirror_mode": {
    "name": "ipython",
    "version": 3
   },
   "file_extension": ".py",
   "mimetype": "text/x-python",
   "name": "python",
   "nbconvert_exporter": "python",
   "pygments_lexer": "ipython3",
   "version": "3.9.7"
  }
 },
 "nbformat": 4,
 "nbformat_minor": 5
}
