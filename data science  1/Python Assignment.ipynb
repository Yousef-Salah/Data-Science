{
 "cells": [
  {
   "cell_type": "code",
   "execution_count": 2,
   "id": "157eac1f",
   "metadata": {},
   "outputs": [],
   "source": [
    "name = {1 : \"Yousef\",\n",
    "        2 : \"Adnan\" }"
   ]
  },
  {
   "cell_type": "code",
   "execution_count": null,
   "id": "23605d5e",
   "metadata": {},
   "outputs": [],
   "source": []
  },
  {
   "cell_type": "code",
   "execution_count": 6,
   "id": "fc8fc3bf",
   "metadata": {},
   "outputs": [
    {
     "name": "stdout",
     "output_type": "stream",
     "text": [
      "fail\n",
      "dict_keys([1, 2])\n",
      "dict_values(['Yousef', 'Adnan'])\n"
     ]
    }
   ],
   "source": [
    "if name.keys() in [1,2]:\n",
    "    print(\"Compleated\")\n",
    "else:\n",
    "    print(\"fail\")\n",
    "\n",
    "# print(name.keys())\n",
    "# print(name.values())"
   ]
  },
  {
   "cell_type": "code",
   "execution_count": 77,
   "id": "616bd8ce",
   "metadata": {},
   "outputs": [
    {
     "name": "stdout",
     "output_type": "stream",
     "text": [
      "index is missing\n"
     ]
    }
   ],
   "source": [
    "data = {1: {\"Ahmad\", \"Sami\"},\n",
    "        2: {\"Sara\",\"Raghad\"}}\n",
    "\n",
    "if data.keys() in [1,2]:\n",
    "    print('complete')\n",
    "else:\n",
    "    print('index is missing')"
   ]
  },
  {
   "cell_type": "code",
   "execution_count": 78,
   "id": "0ac62935",
   "metadata": {},
   "outputs": [
    {
     "name": "stdout",
     "output_type": "stream",
     "text": [
      "[5, 2]\n"
     ]
    }
   ],
   "source": [
    "a = [1,2]\n",
    "b = a\n",
    "b[0] = 5\n",
    "print(a)"
   ]
  },
  {
   "cell_type": "code",
   "execution_count": 13,
   "id": "6227d500",
   "metadata": {},
   "outputs": [
    {
     "name": "stdout",
     "output_type": "stream",
     "text": [
      "[3, 1]\n"
     ]
    }
   ],
   "source": [
    "def update_list(x):\n",
    "    b = x[1:2]\n",
    "    b.append(5)\n",
    "\n",
    "numbers = [3,1]\n",
    "result = update_list(numbers)\n",
    "print(numbers)"
   ]
  },
  {
   "cell_type": "code",
   "execution_count": 17,
   "id": "56e4d8ee",
   "metadata": {},
   "outputs": [
    {
     "name": "stdout",
     "output_type": "stream",
     "text": [
      "True\n"
     ]
    }
   ],
   "source": [
    "_b_ = True\n",
    "print(_b_)\n",
    "abc = 4\n"
   ]
  },
  {
   "cell_type": "code",
   "execution_count": 18,
   "id": "9da0ad86",
   "metadata": {},
   "outputs": [
    {
     "name": "stdout",
     "output_type": "stream",
     "text": [
      "[13, 56, 17, [87], 45, 67]\n"
     ]
    }
   ],
   "source": [
    "a = [13,56,17]\n",
    "a.append([87])\n",
    "a.extend([45,67])\n",
    "print(a)"
   ]
  },
  {
   "cell_type": "code",
   "execution_count": 23,
   "id": "9bd03419",
   "metadata": {},
   "outputs": [
    {
     "name": "stdout",
     "output_type": "stream",
     "text": [
      "a\n",
      "b\n",
      "c\n",
      "d\n"
     ]
    }
   ],
   "source": [
    "x = 'abcd'\n",
    "for i in x:\n",
    "    print(i)\n",
    "    x.upper()\n"
   ]
  },
  {
   "cell_type": "code",
   "execution_count": 24,
   "id": "a5e55f55",
   "metadata": {},
   "outputs": [
    {
     "name": "stdout",
     "output_type": "stream",
     "text": [
      "abcd 2\n"
     ]
    }
   ],
   "source": [
    "print(x,2)"
   ]
  },
  {
   "cell_type": "code",
   "execution_count": 76,
   "id": "b0b344fd",
   "metadata": {},
   "outputs": [
    {
     "name": "stdout",
     "output_type": "stream",
     "text": [
      "Enter value for x1\n",
      "The square of x is 1\n",
      "Enter value for y3\n",
      "The product of x and y is 3\n",
      "The difference is 2\n"
     ]
    }
   ],
   "source": [
    "#     1   2      3      4\n",
    "x = int(input(\"Enter value for x\"))\n",
    "print(\"The square of x is\", x * x)\n",
    "y = int(input(\"Enter value for y\"))\n",
    "print(\"The product of x and y is\", x * y)\n",
    "\n",
    "if x > y:\n",
    "    print(\"The difference is\", x - y)\n",
    "else : \n",
    "    print(\"The difference is\", y - x)"
   ]
  },
  {
   "cell_type": "code",
   "execution_count": 80,
   "id": "c2fc5ab5",
   "metadata": {},
   "outputs": [
    {
     "name": "stdout",
     "output_type": "stream",
     "text": [
      "Rate: 0.25  Value 12000\n"
     ]
    }
   ],
   "source": [
    "def calc1(rate, item):\n",
    "    item *= (1 + rate)\n",
    "    \n",
    "\n",
    "rate = 0.25\n",
    "item = 12000\n",
    "calc1(rate,item)\n",
    "print('Rate:', rate, ' Value', item)"
   ]
  },
  {
   "cell_type": "code",
   "execution_count": 41,
   "id": "f2672b49",
   "metadata": {},
   "outputs": [
    {
     "ename": "ZeroDivisionError",
     "evalue": "division by zero",
     "output_type": "error",
     "traceback": [
      "\u001b[1;31m---------------------------------------------------------------------------\u001b[0m",
      "\u001b[1;31mZeroDivisionError\u001b[0m                         Traceback (most recent call last)",
      "\u001b[1;32m~\\AppData\\Local\\Temp/ipykernel_14580/357715421.py\u001b[0m in \u001b[0;36m<module>\u001b[1;34m\u001b[0m\n\u001b[0;32m      6\u001b[0m \u001b[1;31m# print(x)\u001b[0m\u001b[1;33m\u001b[0m\u001b[1;33m\u001b[0m\u001b[0m\n\u001b[0;32m      7\u001b[0m \u001b[1;31m# x = test_scores(20, 19)\u001b[0m\u001b[1;33m\u001b[0m\u001b[1;33m\u001b[0m\u001b[0m\n\u001b[1;32m----> 8\u001b[1;33m \u001b[0mx\u001b[0m \u001b[1;33m=\u001b[0m \u001b[0mtest_scores\u001b[0m\u001b[1;33m(\u001b[0m\u001b[1;36m0\u001b[0m\u001b[1;33m,\u001b[0m \u001b[1;36m20\u001b[0m\u001b[1;33m)\u001b[0m\u001b[1;33m\u001b[0m\u001b[1;33m\u001b[0m\u001b[0m\n\u001b[0m",
      "\u001b[1;32m~\\AppData\\Local\\Temp/ipykernel_14580/357715421.py\u001b[0m in \u001b[0;36mtest_scores\u001b[1;34m(total_questions, total_correct)\u001b[0m\n\u001b[0;32m      1\u001b[0m \u001b[1;32mdef\u001b[0m \u001b[0mtest_scores\u001b[0m\u001b[1;33m(\u001b[0m\u001b[0mtotal_questions\u001b[0m \u001b[1;33m=\u001b[0m \u001b[1;36m0\u001b[0m\u001b[1;33m,\u001b[0m \u001b[0mtotal_correct\u001b[0m \u001b[1;33m=\u001b[0m \u001b[1;36m0\u001b[0m\u001b[1;33m)\u001b[0m\u001b[1;33m:\u001b[0m\u001b[1;33m\u001b[0m\u001b[1;33m\u001b[0m\u001b[0m\n\u001b[1;32m----> 2\u001b[1;33m     \u001b[1;32mreturn\u001b[0m \u001b[0mint\u001b[0m\u001b[1;33m(\u001b[0m\u001b[0mtotal_correct\u001b[0m\u001b[1;33m)\u001b[0m \u001b[1;33m/\u001b[0m \u001b[0mint\u001b[0m\u001b[1;33m(\u001b[0m\u001b[0mtotal_questions\u001b[0m\u001b[1;33m)\u001b[0m\u001b[1;33m\u001b[0m\u001b[1;33m\u001b[0m\u001b[0m\n\u001b[0m\u001b[0;32m      3\u001b[0m \u001b[1;33m\u001b[0m\u001b[0m\n\u001b[0;32m      4\u001b[0m \u001b[1;31m# x = test_scores(3.5, 17)\u001b[0m\u001b[1;33m\u001b[0m\u001b[1;33m\u001b[0m\u001b[0m\n\u001b[0;32m      5\u001b[0m \u001b[1;31m# x = test_scores(\"20\", \"19\")\u001b[0m\u001b[1;33m\u001b[0m\u001b[1;33m\u001b[0m\u001b[0m\n",
      "\u001b[1;31mZeroDivisionError\u001b[0m: division by zero"
     ]
    }
   ],
   "source": [
    "def test_scores(total_questions = 0, total_correct = 0):\n",
    "    return int(total_correct) / int(total_questions)\n",
    "\n",
    "# x = test_scores(3.5, 17)\n",
    "# x = test_scores(\"20\", \"19\")\n",
    "# print(x)\n",
    "# x = test_scores(20, 19)\n",
    "x = test_scores(0, 20)\n"
   ]
  },
  {
   "cell_type": "code",
   "execution_count": 81,
   "id": "1a21b6c2",
   "metadata": {},
   "outputs": [
    {
     "name": "stdout",
     "output_type": "stream",
     "text": [
      "48\n"
     ]
    }
   ],
   "source": [
    "y = 8\n",
    "z = lambda x : x * y\n",
    "print(z(6))"
   ]
  },
  {
   "cell_type": "code",
   "execution_count": 48,
   "id": "ebb7b1c6",
   "metadata": {},
   "outputs": [
    {
     "name": "stdout",
     "output_type": "stream",
     "text": [
      "[2.0, 3.0]\n"
     ]
    }
   ],
   "source": [
    "def my_fun(list1):\n",
    "    size = len(list1)\n",
    "    Xs = 0\n",
    "    Ys = 0\n",
    "    for index in range(size):\n",
    "        Xs += list1[index][0]\n",
    "        Ys += list1[index][1]\n",
    "    \n",
    "    Xs = Xs / size\n",
    "    Ys = Ys / size\n",
    "    \n",
    "    return [Xs, Ys]\n",
    "\n",
    "mylist = [[1,2],[3,4]]\n",
    "print(my_fun(mylist))"
   ]
  },
  {
   "cell_type": "code",
   "execution_count": 82,
   "id": "030f7259",
   "metadata": {},
   "outputs": [
    {
     "name": "stdout",
     "output_type": "stream",
     "text": [
      "3\n"
     ]
    }
   ],
   "source": [
    "arr = [3,4,5]\n",
    "x = 0\n",
    "while True:\n",
    "    if x in arr:\n",
    "        break\n",
    "    x+=1\n",
    "print(x)"
   ]
  },
  {
   "cell_type": "code",
   "execution_count": 52,
   "id": "2bfde55a",
   "metadata": {},
   "outputs": [
    {
     "name": "stdout",
     "output_type": "stream",
     "text": [
      "1\n",
      "2\n",
      "4\n"
     ]
    }
   ],
   "source": [
    "if 'bar' in ['foo', 'bar']:\n",
    "    print(1)\n",
    "    print(2)\n",
    "    if 'a' in 'qux':\n",
    "        print(3)\n",
    "print(4)"
   ]
  },
  {
   "cell_type": "code",
   "execution_count": 54,
   "id": "a9ae30ab",
   "metadata": {},
   "outputs": [
    {
     "name": "stdout",
     "output_type": "stream",
     "text": [
      "ok\n"
     ]
    }
   ],
   "source": [
    "d = [0, 1, 0]\n",
    "\n",
    "if d[0] > 0:\n",
    "    print(\"ok\")\n",
    "elif d[1] > 0:\n",
    "    print(\"ok\")\n",
    "elif d[2] > 0:\n",
    "    print(\"ok\")\n",
    "elif d[3] > 0:\n",
    "    print(\"ok\")\n",
    "else:\n",
    "    print(\"not ok\")"
   ]
  },
  {
   "cell_type": "code",
   "execution_count": 57,
   "id": "a71ea585",
   "metadata": {
    "scrolled": true
   },
   "outputs": [
    {
     "name": "stdout",
     "output_type": "stream",
     "text": [
      "['baz', 2.718]\n"
     ]
    }
   ],
   "source": [
    "f = [10, [3.141, 20, [30, 'baz', 2.718]], 'foo']\n",
    "print(f[1][2][1:])"
   ]
  },
  {
   "cell_type": "code",
   "execution_count": 59,
   "id": "7bb28286",
   "metadata": {},
   "outputs": [
    {
     "name": "stdout",
     "output_type": "stream",
     "text": [
      "[5, 6]\n"
     ]
    }
   ],
   "source": [
    "print(list(map(lambda x: x+1, [4,5])))"
   ]
  },
  {
   "cell_type": "code",
   "execution_count": 61,
   "id": "cdf884e1",
   "metadata": {},
   "outputs": [
    {
     "name": "stdout",
     "output_type": "stream",
     "text": [
      "2\n"
     ]
    }
   ],
   "source": [
    "s = 0\n",
    "for x in range(4):\n",
    "    if x % 2 == 0:\n",
    "        s +=x\n",
    "print(s)"
   ]
  },
  {
   "cell_type": "code",
   "execution_count": 62,
   "id": "9389b951",
   "metadata": {},
   "outputs": [
    {
     "name": "stdout",
     "output_type": "stream",
     "text": [
      "3\n"
     ]
    }
   ],
   "source": [
    "def fun(x):\n",
    "    x = x + 1\n",
    "    return x\n",
    "\n",
    "a = 3\n",
    "fun(a)\n",
    "print(a)"
   ]
  },
  {
   "cell_type": "code",
   "execution_count": 68,
   "id": "31802061",
   "metadata": {},
   "outputs": [
    {
     "ename": "SyntaxError",
     "evalue": "invalid syntax (Temp/ipykernel_14580/930763753.py, line 1)",
     "output_type": "error",
     "traceback": [
      "\u001b[1;36m  File \u001b[1;32m\"C:\\Users\\Youski\\AppData\\Local\\Temp/ipykernel_14580/930763753.py\"\u001b[1;36m, line \u001b[1;32m1\u001b[0m\n\u001b[1;33m    func = lambda x: return x+1\u001b[0m\n\u001b[1;37m                     ^\u001b[0m\n\u001b[1;31mSyntaxError\u001b[0m\u001b[1;31m:\u001b[0m invalid syntax\n"
     ]
    }
   ],
   "source": [
    "func = lambda x: return x+1\n",
    "print(func(2))"
   ]
  },
  {
   "cell_type": "code",
   "execution_count": null,
   "id": "3831f934",
   "metadata": {},
   "outputs": [],
   "source": []
  }
 ],
 "metadata": {
  "kernelspec": {
   "display_name": "Python 3 (ipykernel)",
   "language": "python",
   "name": "python3"
  },
  "language_info": {
   "codemirror_mode": {
    "name": "ipython",
    "version": 3
   },
   "file_extension": ".py",
   "mimetype": "text/x-python",
   "name": "python",
   "nbconvert_exporter": "python",
   "pygments_lexer": "ipython3",
   "version": "3.9.7"
  }
 },
 "nbformat": 4,
 "nbformat_minor": 5
}
