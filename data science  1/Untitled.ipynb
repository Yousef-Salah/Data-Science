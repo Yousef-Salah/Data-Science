{
 "cells": [
  {
   "cell_type": "code",
   "execution_count": 6,
   "id": "6849775e",
   "metadata": {},
   "outputs": [],
   "source": [
    "name = \" Yousef \""
   ]
  },
  {
   "cell_type": "markdown",
   "id": "ce86986a",
   "metadata": {},
   "source": [
    "# Yousef Salah\n",
    "- yousef khodroj.\n"
   ]
  },
  {
   "cell_type": "code",
   "execution_count": null,
   "id": "0b01f017",
   "metadata": {},
   "outputs": [],
   "source": []
  }
 ],
 "metadata": {
  "kernelspec": {
   "display_name": "Python 3 (ipykernel)",
   "language": "python",
   "name": "python3"
  },
  "language_info": {
   "codemirror_mode": {
    "name": "ipython",
    "version": 3
   },
   "file_extension": ".py",
   "mimetype": "text/x-python",
   "name": "python",
   "nbconvert_exporter": "python",
   "pygments_lexer": "ipython3",
   "version": "3.9.7"
  }
 },
 "nbformat": 4,
 "nbformat_minor": 5
}
