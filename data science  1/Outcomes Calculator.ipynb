{
 "cells": [
  {
   "cell_type": "code",
   "execution_count": 5,
   "id": "7ac09f4c",
   "metadata": {
    "scrolled": true
   },
   "outputs": [
    {
     "name": "stdout",
     "output_type": "stream",
     "text": [
      "H H H H H H \n",
      "T T T T T T \n",
      "H H H H H H \n",
      "T T T T T T \n",
      "H H H H H H \n",
      "T T T T T T \n",
      "H H H H H H \n",
      "T T T T T T \n",
      "H H H H H H \n",
      "T T T T T T \n",
      "H H H H H H \n",
      "T T T T T T \n"
     ]
    }
   ],
   "source": [
    "outcomes = ['H', 'T']\n",
    "number_of_component = 5\n",
    "\n",
    "for component in range(0, number_of_component + 1):\n",
    "    for outcome in range(0,2):\n",
    "        for i in range(0, number_of_component + 1):\n",
    "            print(outcomes[outcome], end = \" \")\n",
    "        print(\"\")"
   ]
  },
  {
   "cell_type": "code",
   "execution_count": null,
   "id": "dc5780c0",
   "metadata": {},
   "outputs": [],
   "source": []
  }
 ],
 "metadata": {
  "kernelspec": {
   "display_name": "Python 3 (ipykernel)",
   "language": "python",
   "name": "python3"
  },
  "language_info": {
   "codemirror_mode": {
    "name": "ipython",
    "version": 3
   },
   "file_extension": ".py",
   "mimetype": "text/x-python",
   "name": "python",
   "nbconvert_exporter": "python",
   "pygments_lexer": "ipython3",
   "version": "3.9.7"
  }
 },
 "nbformat": 4,
 "nbformat_minor": 5
}
