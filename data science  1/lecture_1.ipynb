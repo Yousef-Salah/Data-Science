{
 "cells": [
  {
   "cell_type": "code",
   "execution_count": 1,
   "id": "251ef312",
   "metadata": {},
   "outputs": [],
   "source": [
    "x = 5"
   ]
  },
  {
   "cell_type": "code",
   "execution_count": 2,
   "id": "a2be18d7",
   "metadata": {},
   "outputs": [
    {
     "name": "stdout",
     "output_type": "stream",
     "text": [
      "5\n",
      "5\n",
      "x\n"
     ]
    }
   ],
   "source": [
    "print(5)\n",
    "print(x)\n",
    "print(\"x\")"
   ]
  },
  {
   "cell_type": "code",
   "execution_count": 4,
   "id": "4050a2ca",
   "metadata": {},
   "outputs": [
    {
     "name": "stdout",
     "output_type": "stream",
     "text": [
      "True\n"
     ]
    }
   ],
   "source": [
    "y  = True\n",
    "print(y)"
   ]
  },
  {
   "cell_type": "code",
   "execution_count": 7,
   "id": "db565ffc",
   "metadata": {},
   "outputs": [],
   "source": [
    "sample_space_size = 50\n",
    "num_outcome_event = 10"
   ]
  },
  {
   "cell_type": "markdown",
   "id": "0357572f",
   "metadata": {
    "scrolled": true
   },
   "source": [
    "# sample_space_size = int(input())\n",
    "num_outcome_event = int(input())\n",
    "\n",
    "probability_outcome = sample_space_size / num_outcome_event\n",
    "\n",
    "if num_outcome_event <= sample_space_size:\n",
    "    prop_of_event = num_outcome_event / sample_space_size\n",
    "    print(prop_of_event)\n",
    "#elif condition:\n",
    "else: print(\"number of event outcome must be smaller than sample space\")"
   ]
  },
  {
   "cell_type": "code",
   "execution_count": 3,
   "id": "dca1e5f1",
   "metadata": {},
   "outputs": [
    {
     "data": {
      "text/plain": [
       "int"
      ]
     },
     "execution_count": 3,
     "metadata": {},
     "output_type": "execute_result"
    }
   ],
   "source": [
    "type(sample_space_size)"
   ]
  },
  {
   "cell_type": "code",
   "execution_count": null,
   "id": "7f8c2c53",
   "metadata": {},
   "outputs": [],
   "source": [
    "p_a = float(input(\"Enter P(A)\"))\n",
    "p_not_a = (i - p_a)\n",
    "p_a_given_b = float(input(\"Enter P(B|A)\"))\n",
    "p_b_not_a = float(input(\"Enter P(B|A')\"))\n",
    "\n",
    "p_a_not_b = (1 - p_a_given_b) * p_a\n",
    "p_not_a_not_b = (1 - p_b_not_a_) * p_not_a\n",
    "\n",
    "\n",
    "print(\"P(A|'B) = \")\n",
    "print(p_a_not_b)\n",
    "print(\"P(A'|'b)\")\n",
    "print(p_not_a_not_b)\n",
    "\n",
    "print(\"==================================================================================\")\n",
    "\n",
    "print(\"P(A and B) = P(A) * P() \")"
   ]
  },
  {
   "cell_type": "code",
   "execution_count": null,
   "id": "33551c9d",
   "metadata": {},
   "outputs": [],
   "source": []
  }
 ],
 "metadata": {
  "kernelspec": {
   "display_name": "Python 3 (ipykernel)",
   "language": "python",
   "name": "python3"
  },
  "language_info": {
   "codemirror_mode": {
    "name": "ipython",
    "version": 3
   },
   "file_extension": ".py",
   "mimetype": "text/x-python",
   "name": "python",
   "nbconvert_exporter": "python",
   "pygments_lexer": "ipython3",
   "version": "3.9.7"
  }
 },
 "nbformat": 4,
 "nbformat_minor": 5
}
