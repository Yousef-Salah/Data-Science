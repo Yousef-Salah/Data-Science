{
 "cells": [
  {
   "cell_type": "markdown",
   "metadata": {
    "id": "lnn4ZH24uTEl"
   },
   "source": [
    "# dictionary\n",
    "\n",
    "- we can index the value by any user-defined key. \n",
    "- is key:value"
   ]
  },
  {
   "cell_type": "code",
   "execution_count": 11,
   "metadata": {
    "colab": {
     "base_uri": "https://localhost:8080/"
    },
    "id": "lovse7mrs0CU",
    "outputId": "12b45f8f-c0ca-48e6-ba5d-00053b4afffa"
   },
   "outputs": [
    {
     "name": "stdout",
     "output_type": "stream",
     "text": [
      "<class 'dict'>\n"
     ]
    }
   ],
   "source": [
    "my_dict = {} \n",
    "print(type(my_dict))"
   ]
  },
  {
   "cell_type": "code",
   "execution_count": 12,
   "metadata": {
    "colab": {
     "base_uri": "https://localhost:8080/"
    },
    "id": "T0eA8abJurUV",
    "outputId": "8014f2f4-f517-400a-fa9f-7c468c6fee13"
   },
   "outputs": [
    {
     "name": "stdout",
     "output_type": "stream",
     "text": [
      "{}\n"
     ]
    }
   ],
   "source": [
    "print(my_dict)"
   ]
  },
  {
   "cell_type": "code",
   "execution_count": 13,
   "metadata": {
    "colab": {
     "base_uri": "https://localhost:8080/"
    },
    "id": "zYS4SbbQuvgt",
    "outputId": "57884263-f879-40f0-e784-af7a69b66012"
   },
   "outputs": [
    {
     "name": "stdout",
     "output_type": "stream",
     "text": [
      "{12312: 'Ahmed', 9808: 'Sami'}\n"
     ]
    }
   ],
   "source": [
    "# define a dictionary for stuents and their ids\n",
    "students = {12312:\"Ahmed\",\n",
    "            9808:\"Sami\"}\n",
    "\n",
    "print(students)\n"
   ]
  },
  {
   "cell_type": "code",
   "execution_count": 14,
   "metadata": {
    "colab": {
     "base_uri": "https://localhost:8080/"
    },
    "id": "UspJ4Mo9vEMz",
    "outputId": "ae07d29c-7856-486b-ae95-4797a7e62f1b"
   },
   "outputs": [
    {
     "name": "stdout",
     "output_type": "stream",
     "text": [
      "Sami\n"
     ]
    }
   ],
   "source": [
    "# to access a value I need to provide the key to the dicitonary\n",
    "print(students[9808])"
   ]
  },
  {
   "cell_type": "code",
   "execution_count": 15,
   "metadata": {
    "colab": {
     "base_uri": "https://localhost:8080/"
    },
    "id": "do00qpbuvQ0s",
    "outputId": "163dbe3e-ea5b-4fe8-d307-14867661d699"
   },
   "outputs": [
    {
     "name": "stdout",
     "output_type": "stream",
     "text": [
      "None\n"
     ]
    }
   ],
   "source": [
    "print(students.get(6754))"
   ]
  },
  {
   "cell_type": "code",
   "execution_count": 16,
   "metadata": {
    "colab": {
     "base_uri": "https://localhost:8080/"
    },
    "id": "FtHePfxWvZZX",
    "outputId": "4674183f-fd57-4f48-fc5e-7268bd70a58c"
   },
   "outputs": [
    {
     "name": "stdout",
     "output_type": "stream",
     "text": [
      "{12312: 'Ahmed', 9808: 'Sami', 6754: 'Raghad'}\n"
     ]
    }
   ],
   "source": [
    "# add a new key:value to the dictionary\n",
    "students[6754] = 'Raghad'\n",
    "print(students)"
   ]
  },
  {
   "cell_type": "code",
   "execution_count": 18,
   "metadata": {
    "colab": {
     "base_uri": "https://localhost:8080/"
    },
    "id": "V-auSesUv1Fb",
    "outputId": "d691b490-c840-47eb-b0ac-8c91f7a7b35f"
   },
   "outputs": [
    {
     "name": "stdout",
     "output_type": "stream",
     "text": [
      "{12312: 'Ahmed', 9808: 'Mohammed', 6754: 'Raghad'}\n"
     ]
    }
   ],
   "source": [
    "# update a value\n",
    "students[9808] = 'Mohammed'\n",
    "print(students)"
   ]
  },
  {
   "cell_type": "code",
   "execution_count": 19,
   "metadata": {
    "colab": {
     "base_uri": "https://localhost:8080/"
    },
    "id": "A_7PQRWqwBYz",
    "outputId": "99394bb6-8988-4b3e-9e3f-efded4f0c0a2"
   },
   "outputs": [
    {
     "name": "stdout",
     "output_type": "stream",
     "text": [
      "{12312: 'Ahmed', 9808: 'Mohammed', 6754: 'Raghad', 1010: ['Sami', 'Abdelrahman', 'Ayas']}\n"
     ]
    }
   ],
   "source": [
    "students[1010] = ['Sami', 'Abdelrahman', 'Ayas']\n",
    "print(students)"
   ]
  },
  {
   "cell_type": "code",
   "execution_count": 22,
   "metadata": {
    "colab": {
     "base_uri": "https://localhost:8080/"
    },
    "id": "A48Co9ZDwNmT",
    "outputId": "e7206561-2f4e-4244-853d-5cb2595558cc"
   },
   "outputs": [
    {
     "name": "stdout",
     "output_type": "stream",
     "text": [
      "{12312: 'Ahmed', 9808: 'Mohammed', 6754: 'Raghad', 1010: {'Sami': 21312, 'Ayas': 3132}}\n"
     ]
    }
   ],
   "source": [
    "students[1010] = {'Sami': 21312, 'Ayas': 3132}\n",
    "print(students)"
   ]
  },
  {
   "cell_type": "code",
   "execution_count": 23,
   "metadata": {
    "colab": {
     "base_uri": "https://localhost:8080/"
    },
    "id": "5agGde2LwcsC",
    "outputId": "1a5d3eaf-4551-4b60-ee3b-f73c0172ccd7"
   },
   "outputs": [
    {
     "name": "stdout",
     "output_type": "stream",
     "text": [
      "<class 'dict'>\n"
     ]
    }
   ],
   "source": [
    "print(type(students[1010]))"
   ]
  },
  {
   "cell_type": "code",
   "execution_count": 26,
   "metadata": {
    "colab": {
     "base_uri": "https://localhost:8080/"
    },
    "id": "9C3sbKXbwhmi",
    "outputId": "bb2d2979-07ca-4973-d477-55024b23715b",
    "scrolled": true
   },
   "outputs": [
    {
     "name": "stdout",
     "output_type": "stream",
     "text": [
      "dict_keys([12312, 9808, 6754, 1010])\n",
      "<class 'dict_keys'>\n"
     ]
    }
   ],
   "source": [
    "# get the list of all keys from a dict\n",
    "student_keys = students.keys()\n",
    "print(student_keys)\n",
    "print(type(student_keys))"
   ]
  },
  {
   "cell_type": "code",
   "execution_count": 24,
   "metadata": {
    "colab": {
     "base_uri": "https://localhost:8080/"
    },
    "id": "XzfPCiyzw9Lr",
    "outputId": "447d145e-72b0-47da-b7d5-bfa2d419b7bc"
   },
   "outputs": [
    {
     "name": "stdout",
     "output_type": "stream",
     "text": [
      "12312 Ahmed\n",
      "9808 Mohammed\n",
      "6754 Raghad\n",
      "1010 {'Sami': 21312, 'Ayas': 3132}\n"
     ]
    }
   ],
   "source": [
    "# use for loop to iterate through a dictionary\n",
    "for one_student_key in students.keys():\n",
    "  print(one_student_key, students[one_student_key])"
   ]
  },
  {
   "cell_type": "code",
   "execution_count": 27,
   "metadata": {
    "colab": {
     "base_uri": "https://localhost:8080/"
    },
    "id": "ZVoVHiNOxp5j",
    "outputId": "b1c6cd18-366a-4fbe-fb34-c5d947a64ff0"
   },
   "outputs": [
    {
     "name": "stdout",
     "output_type": "stream",
     "text": [
      "dict_values(['Ahmed', 'Mohammed', 'Raghad', {'Sami': 21312, 'Ayas': 3132}])\n"
     ]
    }
   ],
   "source": [
    "# use the values function\n",
    "students_values = students.values()\n",
    "print(students_values)"
   ]
  },
  {
   "cell_type": "code",
   "execution_count": 29,
   "metadata": {
    "colab": {
     "base_uri": "https://localhost:8080/"
    },
    "id": "5XbXCSM3xN6B",
    "outputId": "a8a920a1-c184-4768-9dda-1eab703f2d9f"
   },
   "outputs": [
    {
     "name": "stdout",
     "output_type": "stream",
     "text": [
      "dict_items([(12312, 'Ahmed'), (9808, 'Mohammed'), (6754, 'Raghad'), (1010, {'Sami': 21312, 'Ayas': 3132})])\n",
      "<class 'dict_items'>\n"
     ]
    }
   ],
   "source": [
    "# use th items function\n",
    "student_items = students.items()\n",
    "print(student_items)\n",
    "print(type(student_items))"
   ]
  },
  {
   "cell_type": "code",
   "execution_count": 30,
   "metadata": {
    "colab": {
     "base_uri": "https://localhost:8080/"
    },
    "id": "ccavQqDaxdvQ",
    "outputId": "38943571-85c2-426e-ebcb-73baa2f21d68"
   },
   "outputs": [
    {
     "name": "stdout",
     "output_type": "stream",
     "text": [
      "12312 Ahmed\n",
      "9808 Mohammed\n",
      "6754 Raghad\n",
      "1010 {'Sami': 21312, 'Ayas': 3132}\n"
     ]
    }
   ],
   "source": [
    "# use items with for loop\n",
    "for key, value in students.items():\n",
    "  print(key, value)"
   ]
  },
  {
   "cell_type": "code",
   "execution_count": 31,
   "metadata": {
    "id": "tM2bD5egxx4d"
   },
   "outputs": [],
   "source": [
    "# remove a key:value with a specific key\n",
    "# pop will return the removed value\n",
    "removed_value = students.pop(9808)"
   ]
  },
  {
   "cell_type": "code",
   "execution_count": 32,
   "metadata": {
    "colab": {
     "base_uri": "https://localhost:8080/"
    },
    "id": "cullqVO6yhdL",
    "outputId": "331043f9-3684-4370-bd88-5fcfe26af2c4"
   },
   "outputs": [
    {
     "data": {
      "text/plain": [
       "{12312: 'Ahmed', 6754: 'Raghad', 1010: {'Sami': 21312, 'Ayas': 3132}}"
      ]
     },
     "execution_count": 32,
     "metadata": {},
     "output_type": "execute_result"
    }
   ],
   "source": [
    "students"
   ]
  },
  {
   "cell_type": "code",
   "execution_count": 33,
   "metadata": {
    "colab": {
     "base_uri": "https://localhost:8080/",
     "height": 35
    },
    "id": "qlGZGOd9y5Cu",
    "outputId": "c85c2f7b-23a6-4168-f650-d4a4cae17825"
   },
   "outputs": [
    {
     "data": {
      "text/plain": [
       "'Mohammed'"
      ]
     },
     "execution_count": 33,
     "metadata": {},
     "output_type": "execute_result"
    }
   ],
   "source": [
    "removed_value"
   ]
  },
  {
   "cell_type": "code",
   "execution_count": null,
   "metadata": {
    "id": "nYZGalnny9Ug"
   },
   "outputs": [],
   "source": [
    "# remove an arbitrary key:value\n",
    "# return both the key and the value\n",
    "removed_key_value = students.popitem()"
   ]
  },
  {
   "cell_type": "code",
   "execution_count": null,
   "metadata": {
    "colab": {
     "base_uri": "https://localhost:8080/"
    },
    "id": "zEP-_v-BzOfo",
    "outputId": "16ff5754-aa73-4775-fb6f-ff72086408e2"
   },
   "outputs": [],
   "source": [
    "removed_key_value"
   ]
  },
  {
   "cell_type": "code",
   "execution_count": null,
   "metadata": {
    "colab": {
     "base_uri": "https://localhost:8080/"
    },
    "id": "OneFhoEnzPVd",
    "outputId": "6d8a18c7-bf82-45be-a212-1ac729d282e4"
   },
   "outputs": [],
   "source": [
    "students"
   ]
  },
  {
   "cell_type": "code",
   "execution_count": null,
   "metadata": {
    "colab": {
     "base_uri": "https://localhost:8080/"
    },
    "id": "kPMnykui1MM1",
    "outputId": "d6be8c0b-28d5-49c3-c8b7-24f5df9f014a"
   },
   "outputs": [],
   "source": [
    "students"
   ]
  },
  {
   "cell_type": "code",
   "execution_count": 34,
   "metadata": {
    "colab": {
     "base_uri": "https://localhost:8080/"
    },
    "id": "8ihVVBtF1HbK",
    "outputId": "94977e2e-7746-4165-a879-2a5199d95ffd"
   },
   "outputs": [],
   "source": [
    "if 9808 in students:\n",
    "  print('found')"
   ]
  },
  {
   "cell_type": "code",
   "execution_count": 38,
   "metadata": {
    "id": "mQAOXJLzzsBr"
   },
   "outputs": [],
   "source": [
    "# write a function that return a dictory with the probability of randomly selecting \n",
    "# any element of the sample space\n",
    "# return type is a dictory, key is the element, the value is the probability\n",
    "def compute_probability(sample_space):\n",
    "\n",
    "  # compute the sample space size\n",
    "  sample_space_size = len(sample_space)\n",
    "\n",
    "  # get all unique values from the sample space\n",
    "  element_statistics = {}\n",
    "\n",
    "  # for every value compute its count\n",
    "  for element in sample_space:\n",
    "    if element in element_statistics:\n",
    "      element_statistics[element] += 1\n",
    "\n",
    "    else:\n",
    "      element_statistics[element] = 1\n",
    "\n",
    "\n",
    "  # compute probability\n",
    "  for key in element_statistics.keys():\n",
    "    element_statistics[key] = element_statistics[key] / sample_space_size\n",
    "\n",
    "  return element_statistics\n",
    "\n"
   ]
  },
  {
   "cell_type": "code",
   "execution_count": 39,
   "metadata": {
    "id": "2LcSgm-z0Bk3"
   },
   "outputs": [],
   "source": [
    "students = [19,19,18,20,20,20,18]\n",
    "result = compute_probability(students)"
   ]
  },
  {
   "cell_type": "code",
   "execution_count": 40,
   "metadata": {
    "colab": {
     "base_uri": "https://localhost:8080/"
    },
    "id": "ZJFMlHt91m-Y",
    "outputId": "a6bd2cc7-431d-4844-eb32-d37431f18ecd"
   },
   "outputs": [
    {
     "data": {
      "text/plain": [
       "{19: 0.2857142857142857, 18: 0.2857142857142857, 20: 0.42857142857142855}"
      ]
     },
     "execution_count": 40,
     "metadata": {},
     "output_type": "execute_result"
    }
   ],
   "source": [
    "result"
   ]
  },
  {
   "cell_type": "markdown",
   "metadata": {
    "id": "U7n1Okdt4-2I"
   },
   "source": [
    "# mutable immutable data in Python\n",
    "- mutable data: variables data structure that we can update/change its value\n",
    "- immutable data: variables, data structure that we cannot update/change its value"
   ]
  },
  {
   "cell_type": "code",
   "execution_count": null,
   "metadata": {
    "colab": {
     "base_uri": "https://localhost:8080/"
    },
    "id": "-I18dEmC5OJ9",
    "outputId": "090de6e1-a2fb-41df-875f-2767270e0ec0"
   },
   "outputs": [],
   "source": [
    "# id(): is a built in function that returns the id of the variable.\n",
    "x = 205023\n",
    "print(id(x))"
   ]
  },
  {
   "cell_type": "code",
   "execution_count": null,
   "metadata": {
    "colab": {
     "base_uri": "https://localhost:8080/"
    },
    "id": "69wXoiXI45w_",
    "outputId": "2e7b861f-80ab-4cba-d3be-bcc317d7e133"
   },
   "outputs": [],
   "source": [
    "y = 98341242\n",
    "print(id(y))"
   ]
  },
  {
   "cell_type": "code",
   "execution_count": null,
   "metadata": {
    "colab": {
     "base_uri": "https://localhost:8080/"
    },
    "id": "C0jWErc245mK",
    "outputId": "ae506237-1592-40a1-96b8-61229d26ce93"
   },
   "outputs": [],
   "source": [
    "# == : compare the values\n",
    "# is: compare if the two variables have the same id\n",
    "\n",
    "x = 1231234\n",
    "y = 1231234\n",
    "\n",
    "print( x == y)"
   ]
  },
  {
   "cell_type": "code",
   "execution_count": null,
   "metadata": {
    "colab": {
     "base_uri": "https://localhost:8080/"
    },
    "id": "vuT1Xg8U52Rz",
    "outputId": "a1146071-0a0d-4852-f89b-ac38e93881cc"
   },
   "outputs": [],
   "source": [
    "print(x is y)"
   ]
  },
  {
   "cell_type": "code",
   "execution_count": null,
   "metadata": {
    "colab": {
     "base_uri": "https://localhost:8080/"
    },
    "id": "qqclBLZy6bMU",
    "outputId": "2f281c10-ba3b-48ef-f2b5-e063b3221679"
   },
   "outputs": [],
   "source": [
    "print('x ', id(x))\n",
    "print('y ', id(y))"
   ]
  },
  {
   "cell_type": "code",
   "execution_count": null,
   "metadata": {
    "colab": {
     "base_uri": "https://localhost:8080/"
    },
    "id": "mMS1EbrB6lKV",
    "outputId": "10765bd2-1a37-4881-d887-4ba988d0a5a6"
   },
   "outputs": [],
   "source": [
    "x = 1231234\n",
    "print(x , id(x))\n",
    "\n",
    "x = 1023112212\n",
    "print(x, id(x))"
   ]
  },
  {
   "cell_type": "code",
   "execution_count": null,
   "metadata": {
    "colab": {
     "base_uri": "https://localhost:8080/"
    },
    "id": "M_kjW-Ep60UP",
    "outputId": "4ef0075f-29d1-4ee8-dee5-b076557df8cf"
   },
   "outputs": [],
   "source": [
    "my_list = [1,2,3]\n",
    "print(id(my_list))\n",
    "\n",
    "my_list.append(4)\n",
    "print(id(my_list))\n",
    "\n",
    "my_list[-1] = 100\n",
    "print(id(my_list))\n",
    "print(my_list)"
   ]
  },
  {
   "cell_type": "code",
   "execution_count": null,
   "metadata": {
    "colab": {
     "base_uri": "https://localhost:8080/"
    },
    "id": "uYUJyCPa7NTu",
    "outputId": "e5b566e6-023b-408c-9cf6-723f2a0a4ef5"
   },
   "outputs": [],
   "source": [
    "x = 13123123\n",
    "y = x\n",
    "\n",
    "print(id(x))\n",
    "print(id(y))\n",
    "print(x is y)"
   ]
  },
  {
   "cell_type": "code",
   "execution_count": null,
   "metadata": {
    "colab": {
     "base_uri": "https://localhost:8080/"
    },
    "id": "Sw2OWZ2F77Yb",
    "outputId": "81feda8e-3af2-4fee-8beb-20c52bd1287a"
   },
   "outputs": [],
   "source": [
    "x = 123123\n",
    "y = 123123\n",
    "\n",
    "print(x is y)"
   ]
  },
  {
   "cell_type": "code",
   "execution_count": null,
   "metadata": {
    "colab": {
     "base_uri": "https://localhost:8080/"
    },
    "id": "qTOM4dXa8M65",
    "outputId": "46699a08-4f8a-4aed-eb7b-973db386d4b8"
   },
   "outputs": [],
   "source": [
    "list1 = [1,2,3]\n",
    "list2 = [1,2,3]\n",
    "print(list1 is list2)"
   ]
  },
  {
   "cell_type": "code",
   "execution_count": null,
   "metadata": {
    "colab": {
     "base_uri": "https://localhost:8080/"
    },
    "id": "t8qQVJ_p8Wch",
    "outputId": "50bcaae5-c55d-4926-a13a-9388227ba80c"
   },
   "outputs": [],
   "source": [
    "list1 = [1,2,3]\n",
    "list2 = list1\n",
    "print(list1 is list2)"
   ]
  },
  {
   "cell_type": "code",
   "execution_count": null,
   "metadata": {
    "colab": {
     "base_uri": "https://localhost:8080/"
    },
    "id": "Og7oMEiP8aae",
    "outputId": "34b7aa95-d322-43e7-8718-d7477d457ba0"
   },
   "outputs": [],
   "source": [
    "list1.append(305)\n",
    "print(list2)"
   ]
  },
  {
   "cell_type": "code",
   "execution_count": null,
   "metadata": {
    "colab": {
     "base_uri": "https://localhost:8080/"
    },
    "id": "pFjtpvsB8edz",
    "outputId": "69b42dab-7255-4f7e-b706-6d5c0ca1f492"
   },
   "outputs": [],
   "source": [
    "x = True\n",
    "print(id(x))\n",
    "x = False\n",
    "print(id(y))"
   ]
  },
  {
   "cell_type": "code",
   "execution_count": null,
   "metadata": {
    "colab": {
     "base_uri": "https://localhost:8080/"
    },
    "id": "obfshW4E82Ze",
    "outputId": "90581ea5-ea15-48d3-c1dd-f8a378886fa6"
   },
   "outputs": [],
   "source": [
    "x = (1,2)\n",
    "print(id(x))\n",
    "\n",
    "x = (1,2)\n",
    "print(id(x))"
   ]
  },
  {
   "cell_type": "code",
   "execution_count": null,
   "metadata": {
    "id": "hWUmggnd9AxH"
   },
   "outputs": [],
   "source": [
    "def get_some_data(list1):\n",
    "\n",
    "  print('id of the list inside the function ', id(list1))\n",
    "  list1.append(305)"
   ]
  },
  {
   "cell_type": "code",
   "execution_count": null,
   "metadata": {
    "colab": {
     "base_uri": "https://localhost:8080/"
    },
    "id": "99L9UGaE-AWj",
    "outputId": "96a644b9-0d90-42ff-fe85-33b957b12325"
   },
   "outputs": [],
   "source": [
    "test_list = [1,2]\n",
    "print('id of the list before calling ', id(test_list))\n",
    "\n",
    "# call the function\n",
    "get_some_data(test_list)\n",
    "\n",
    "print('id of the list after calling ', id(test_list))\n",
    "\n",
    "print('list after calling  ', test_list)\n",
    "\n"
   ]
  },
  {
   "cell_type": "code",
   "execution_count": null,
   "metadata": {
    "id": "8sayNpUn-Sex"
   },
   "outputs": [],
   "source": [
    "def get_some_data(list1):\n",
    "\n",
    "  list1 = []\n",
    "  print('id of the list inside the function ', id(list1))\n",
    "  list1.append(305)"
   ]
  },
  {
   "cell_type": "code",
   "execution_count": 10,
   "metadata": {
    "colab": {
     "base_uri": "https://localhost:8080/"
    },
    "id": "8qNP4oeh-mWV",
    "outputId": "0d2c2031-2fe9-481d-c5f1-a33700a7cc6f"
   },
   "outputs": [
    {
     "name": "stdout",
     "output_type": "stream",
     "text": [
      "id of the list before calling  2606575929472\n"
     ]
    },
    {
     "ename": "NameError",
     "evalue": "name 'get_some_data' is not defined",
     "output_type": "error",
     "traceback": [
      "\u001b[1;31m---------------------------------------------------------------------------\u001b[0m",
      "\u001b[1;31mNameError\u001b[0m                                 Traceback (most recent call last)",
      "\u001b[1;32m~\\AppData\\Local\\Temp/ipykernel_21044/1528489312.py\u001b[0m in \u001b[0;36m<module>\u001b[1;34m\u001b[0m\n\u001b[0;32m      3\u001b[0m \u001b[1;33m\u001b[0m\u001b[0m\n\u001b[0;32m      4\u001b[0m \u001b[1;31m# call the function\u001b[0m\u001b[1;33m\u001b[0m\u001b[1;33m\u001b[0m\u001b[0m\n\u001b[1;32m----> 5\u001b[1;33m \u001b[0mget_some_data\u001b[0m\u001b[1;33m(\u001b[0m\u001b[0mtest_list\u001b[0m\u001b[1;33m)\u001b[0m\u001b[1;33m\u001b[0m\u001b[1;33m\u001b[0m\u001b[0m\n\u001b[0m\u001b[0;32m      6\u001b[0m \u001b[1;33m\u001b[0m\u001b[0m\n\u001b[0;32m      7\u001b[0m \u001b[0mprint\u001b[0m\u001b[1;33m(\u001b[0m\u001b[1;34m'id of the list after calling '\u001b[0m\u001b[1;33m,\u001b[0m \u001b[0mid\u001b[0m\u001b[1;33m(\u001b[0m\u001b[0mtest_list\u001b[0m\u001b[1;33m)\u001b[0m\u001b[1;33m)\u001b[0m\u001b[1;33m\u001b[0m\u001b[1;33m\u001b[0m\u001b[0m\n",
      "\u001b[1;31mNameError\u001b[0m: name 'get_some_data' is not defined"
     ]
    }
   ],
   "source": [
    "test_list = [1,2]\n",
    "print('id of the list before calling ', id(test_list))\n",
    "\n",
    "# call the function\n",
    "get_some_data(test_list)\n",
    "\n",
    "print('id of the list after calling ', id(test_list))\n",
    "\n",
    "print('list after calling  ', test_list)\n"
   ]
  },
  {
   "cell_type": "code",
   "execution_count": null,
   "metadata": {
    "id": "C8FZbD2s-njl"
   },
   "outputs": [],
   "source": [
    "def get_some_data(int_data):\n",
    "  int_data = 231234132\n",
    "  print('id of the integer inside the function ', id(int_data))\n"
   ]
  },
  {
   "cell_type": "code",
   "execution_count": null,
   "metadata": {
    "colab": {
     "base_uri": "https://localhost:8080/"
    },
    "id": "xyHry9Bg_PeR",
    "outputId": "7a4eb17a-0bc7-40a1-b4cb-f750b0c040d6"
   },
   "outputs": [],
   "source": [
    "x = 1234213412\n",
    "print('id of the integer before calling ', id(x))\n",
    "\n",
    "get_some_data(x)\n",
    "\n",
    "print('id of the integer after calling ', id(x))\n",
    "print(x)"
   ]
  },
  {
   "cell_type": "code",
   "execution_count": null,
   "metadata": {
    "colab": {
     "base_uri": "https://localhost:8080/"
    },
    "id": "tkXqbA0s_azb",
    "outputId": "9e27e2c6-097a-439c-ec2f-8cf895de8e3f"
   },
   "outputs": [],
   "source": [
    "# small numbers in python and object ids\n",
    "\n",
    "x = 12312312\n",
    "y = 12312312\n",
    "print(id(x))\n",
    "print(id(y))\n",
    "print(x is y)"
   ]
  },
  {
   "cell_type": "code",
   "execution_count": null,
   "metadata": {
    "colab": {
     "base_uri": "https://localhost:8080/"
    },
    "id": "CgyOpg6FAcCQ",
    "outputId": "16ba94a1-5f65-4c65-b14e-c65eef19f8b9"
   },
   "outputs": [],
   "source": [
    "# small numbers in python and object ids\n",
    "\n",
    "x = 4\n",
    "y = 4\n",
    "print(id(x))\n",
    "print(id(y))\n",
    "print(x is y)"
   ]
  },
  {
   "cell_type": "code",
   "execution_count": null,
   "metadata": {
    "colab": {
     "base_uri": "https://localhost:8080/"
    },
    "id": "PmGy_7nZAhfY",
    "outputId": "e25b65ed-390b-4ee3-8aa6-6deea758fa69"
   },
   "outputs": [],
   "source": [
    "z = 4\n",
    "print(id(z))"
   ]
  },
  {
   "cell_type": "code",
   "execution_count": null,
   "metadata": {
    "id": "rh49D3LrAmUc"
   },
   "outputs": [],
   "source": []
  },
  {
   "cell_type": "markdown",
   "metadata": {
    "id": "KFvgdWPznCjO"
   },
   "source": [
    "# strings in python"
   ]
  },
  {
   "cell_type": "code",
   "execution_count": null,
   "metadata": {
    "colab": {
     "base_uri": "https://localhost:8080/"
    },
    "id": "s-ak2kq3mdRN",
    "outputId": "217e81df-4286-4608-b256-a705cc108ed7"
   },
   "outputs": [],
   "source": [
    "name = 'Ahmad'\n",
    "print(name)"
   ]
  },
  {
   "cell_type": "code",
   "execution_count": null,
   "metadata": {
    "colab": {
     "base_uri": "https://localhost:8080/"
    },
    "id": "pK449G6ImdOj",
    "outputId": "4eed0bd2-dfc6-4995-b087-d7f154e27f5e"
   },
   "outputs": [],
   "source": [
    "name = \"Ahmad\"\n",
    "print(name)"
   ]
  },
  {
   "cell_type": "code",
   "execution_count": null,
   "metadata": {
    "colab": {
     "base_uri": "https://localhost:8080/"
    },
    "id": "LDtuzCtSmdMY",
    "outputId": "cc861218-fa00-4439-b834-3efbf494e128"
   },
   "outputs": [],
   "source": [
    "print(type(name))"
   ]
  },
  {
   "cell_type": "code",
   "execution_count": null,
   "metadata": {
    "colab": {
     "base_uri": "https://localhost:8080/"
    },
    "id": "aZlNw99VmdJg",
    "outputId": "dbbdd208-f945-4fdf-b9d4-f7cbbf103771"
   },
   "outputs": [],
   "source": [
    "# to get number of characters in a string\n",
    "# I use the len() function\n",
    "\n",
    "print(len(name))"
   ]
  },
  {
   "cell_type": "code",
   "execution_count": null,
   "metadata": {
    "colab": {
     "base_uri": "https://localhost:8080/"
    },
    "id": "fIFqOp5xmc-u",
    "outputId": "37dce1e5-1e60-49f0-cf0d-204ebd1220b2"
   },
   "outputs": [],
   "source": [
    "# to get the first and the last charactor in a string\n",
    "print(name[0], name[-1])"
   ]
  },
  {
   "cell_type": "code",
   "execution_count": null,
   "metadata": {
    "colab": {
     "base_uri": "https://localhost:8080/"
    },
    "id": "1VpUN94enuX8",
    "outputId": "bafce474-cfed-4e8c-93f1-e51504df147d"
   },
   "outputs": [],
   "source": [
    "# \"Sami\"\n",
    "\n",
    "name = '\"Sami\"'\n",
    "print(name)\n",
    "\n",
    "# 'Sami'\n",
    "name = \"'Sami'\"\n",
    "print(name)\n",
    "\n"
   ]
  },
  {
   "cell_type": "code",
   "execution_count": null,
   "metadata": {
    "colab": {
     "base_uri": "https://localhost:8080/"
    },
    "id": "sN8XBPpUn-q3",
    "outputId": "210a48fa-ce7b-4e65-c541-963f5eb5fb19"
   },
   "outputs": [],
   "source": [
    "# test if a substring exist in another string\n",
    "\n",
    "sentence = \"Welcome to the course\"\n",
    "if \"to\" in sentence:\n",
    "  print('found')"
   ]
  },
  {
   "cell_type": "code",
   "execution_count": null,
   "metadata": {
    "colab": {
     "base_uri": "https://localhost:8080/"
    },
    "id": "VtvNxAhsoX4Q",
    "outputId": "9299c888-048b-400c-d2c0-dea0334aaaae"
   },
   "outputs": [],
   "source": [
    "print(id(sentence))"
   ]
  },
  {
   "cell_type": "code",
   "execution_count": null,
   "metadata": {
    "colab": {
     "base_uri": "https://localhost:8080/"
    },
    "id": "8xXWL8vfol_N",
    "outputId": "c3f9f7be-a7a7-4e9f-e83b-9a71de5c5c04"
   },
   "outputs": [],
   "source": [
    "sentence = sentence + \" python\"\n",
    "print(sentence)"
   ]
  },
  {
   "cell_type": "code",
   "execution_count": null,
   "metadata": {
    "colab": {
     "base_uri": "https://localhost:8080/"
    },
    "id": "-13RiOTxop9p",
    "outputId": "9244ac26-9b19-4c55-d94d-986320063361"
   },
   "outputs": [],
   "source": [
    "print(id(sentence))"
   ]
  },
  {
   "cell_type": "code",
   "execution_count": null,
   "metadata": {
    "id": "bSo-mZyro1ib"
   },
   "outputs": [],
   "source": []
  },
  {
   "cell_type": "markdown",
   "metadata": {
    "id": "tfH-T47D_4Ov"
   },
   "source": [
    "# for and while loops"
   ]
  },
  {
   "cell_type": "code",
   "execution_count": null,
   "metadata": {
    "colab": {
     "base_uri": "https://localhost:8080/"
    },
    "id": "7Q7wMkBN_3gL",
    "outputId": "faf02735-f5a4-4f61-fe9f-c202dbf45401"
   },
   "outputs": [],
   "source": [
    "students = [12,12,32,4]\n",
    "for one_student in students:\n",
    "  print(one_student)"
   ]
  },
  {
   "cell_type": "code",
   "execution_count": null,
   "metadata": {
    "colab": {
     "base_uri": "https://localhost:8080/"
    },
    "id": "gVmfWOEG_3cv",
    "outputId": "12f30238-aa47-4dcc-e7b4-f5d0689be386"
   },
   "outputs": [],
   "source": [
    "# while loop\n",
    "\n",
    "index = 0\n",
    "marks = [12,40,50,70,12]\n",
    "\n",
    "while index < len(marks):\n",
    "\n",
    "  if marks[index] >= 60:\n",
    "    break\n",
    "\n",
    "  print(marks[index])\n",
    "  index += 1"
   ]
  },
  {
   "cell_type": "markdown",
   "metadata": {
    "id": "Ffmg4JB2CB7s"
   },
   "source": [
    "### range and for loop"
   ]
  },
  {
   "cell_type": "code",
   "execution_count": null,
   "metadata": {
    "colab": {
     "base_uri": "https://localhost:8080/"
    },
    "id": "qbG7qmHZ_3ZL",
    "outputId": "8895c24c-63c1-4583-fe31-dbde041a7355"
   },
   "outputs": [],
   "source": [
    "for index in range(5):\n",
    "  print(index)"
   ]
  },
  {
   "cell_type": "code",
   "execution_count": null,
   "metadata": {
    "colab": {
     "base_uri": "https://localhost:8080/"
    },
    "id": "DEqwQhrWBYID",
    "outputId": "f8bb81ab-4a3d-4727-a414-b7d7a6750047"
   },
   "outputs": [],
   "source": [
    "for index in range(3, 5):\n",
    "  print(index)"
   ]
  },
  {
   "cell_type": "code",
   "execution_count": null,
   "metadata": {
    "colab": {
     "base_uri": "https://localhost:8080/"
    },
    "id": "O8tSbEqRBd3B",
    "outputId": "3d6f5c63-07c0-4550-c69f-0f4c95e446c9"
   },
   "outputs": [],
   "source": [
    "for index in range(3, 8, 2):\n",
    "  print(index)"
   ]
  },
  {
   "cell_type": "code",
   "execution_count": null,
   "metadata": {
    "colab": {
     "base_uri": "https://localhost:8080/"
    },
    "id": "jbr62i4-Bgsj",
    "outputId": "626f603b-4cf5-4798-b0cc-5fdf515c4f8a"
   },
   "outputs": [],
   "source": [
    "marks = [12,40,50,70,12]\n",
    "\n",
    "for index in range(len(marks)):\n",
    "  print(index, marks[index])"
   ]
  },
  {
   "cell_type": "code",
   "execution_count": null,
   "metadata": {
    "colab": {
     "base_uri": "https://localhost:8080/"
    },
    "id": "kl8_bAF9Bkop",
    "outputId": "44f49326-c5f3-4d97-f68a-ccc7930e34f5"
   },
   "outputs": [],
   "source": [
    "for one_mark in marks:\n",
    "  print(one_mark)"
   ]
  },
  {
   "cell_type": "code",
   "execution_count": null,
   "metadata": {
    "id": "F5pLw9yvCPez"
   },
   "outputs": [],
   "source": []
  },
  {
   "cell_type": "markdown",
   "metadata": {
    "id": "Xj6tYgl5CQGX"
   },
   "source": [
    "# lambda functions\n",
    "- map, filter with respect to list in python"
   ]
  },
  {
   "cell_type": "code",
   "execution_count": null,
   "metadata": {
    "colab": {
     "base_uri": "https://localhost:8080/"
    },
    "id": "XFggl87rCPcP",
    "outputId": "57b8ada5-1b92-4056-9d55-3295311321eb"
   },
   "outputs": [],
   "source": [
    "def add_two_numbers(x, y):\n",
    "  return x+y\n",
    "\n",
    "print(add_two_numbers(4,7))"
   ]
  },
  {
   "cell_type": "code",
   "execution_count": null,
   "metadata": {
    "colab": {
     "base_uri": "https://localhost:8080/"
    },
    "id": "MHlVmZToB3ra",
    "outputId": "b007dd7f-cd6d-4de1-8159-b3a48e863c14"
   },
   "outputs": [],
   "source": [
    "my_fun = lambda x,y: x+y \n",
    "\n",
    "print(my_fun(4,7))"
   ]
  },
  {
   "cell_type": "code",
   "execution_count": null,
   "metadata": {
    "colab": {
     "base_uri": "https://localhost:8080/"
    },
    "id": "9cKPyK6uDaVX",
    "outputId": "3eac0268-799a-401a-8847-6c566d791e53"
   },
   "outputs": [],
   "source": [
    "marks = [20,40,50,10]\n",
    "\n",
    "for index in range(len(marks)):\n",
    "  marks[index] += 3\n",
    "\n",
    "print(marks)"
   ]
  },
  {
   "cell_type": "code",
   "execution_count": null,
   "metadata": {
    "id": "hzTCrgjvD6Zy"
   },
   "outputs": [],
   "source": [
    "marks = [20,40,50,10]\n",
    "restuls = map(lambda x: x+3,  marks)\n",
    "restuls = list(restuls)"
   ]
  },
  {
   "cell_type": "code",
   "execution_count": null,
   "metadata": {
    "colab": {
     "base_uri": "https://localhost:8080/"
    },
    "id": "I-8JxoUGEM4f",
    "outputId": "ff37a498-1bab-4a8a-bc22-ba62d3522b93"
   },
   "outputs": [],
   "source": [
    "restuls"
   ]
  },
  {
   "cell_type": "code",
   "execution_count": null,
   "metadata": {
    "id": "oJ0k9RoUENow"
   },
   "outputs": [],
   "source": [
    "marks = [60,40,50,80]\n",
    "restuls = filter(lambda x: x >= 60,  marks)\n",
    "restuls = list(restuls)"
   ]
  },
  {
   "cell_type": "code",
   "execution_count": null,
   "metadata": {
    "colab": {
     "base_uri": "https://localhost:8080/"
    },
    "id": "5_yRD5otE3Lx",
    "outputId": "498a3dde-1458-4b49-ae63-e6a6e0806911"
   },
   "outputs": [],
   "source": [
    "restuls"
   ]
  },
  {
   "cell_type": "code",
   "execution_count": null,
   "metadata": {
    "colab": {
     "base_uri": "https://localhost:8080/"
    },
    "id": "hjkTFV7UE4rx",
    "outputId": "9d5f589c-c913-4666-fd8c-8431bb1e0580"
   },
   "outputs": [],
   "source": [
    "marks = [60,40,50,80]\n",
    "results = []\n",
    "\n",
    "for one_mark in marks:\n",
    "  if one_mark >= 60:\n",
    "    results.append(one_mark)\n",
    "\n",
    "print(results)"
   ]
  },
  {
   "cell_type": "code",
   "execution_count": null,
   "metadata": {
    "colab": {
     "base_uri": "https://localhost:8080/"
    },
    "id": "3ba2xHBuFDi4",
    "outputId": "8aab8af2-c7ea-4e76-dff8-8a112302fe0b"
   },
   "outputs": [],
   "source": [
    "#marks = [20,40,50,10]\n",
    "#restuls = map(lambda x: x+3,  marks)\n",
    "#restuls = list(restuls)\n",
    "\n",
    "marks = [20,40,50,10]\n",
    "\n",
    "def add_three_marks(x):\n",
    "  return x + 3\n",
    "\n",
    "results = []\n",
    "for one_mark in marks:\n",
    "  results.append(add_three_marks(one_mark))\n",
    "\n",
    "print(results)"
   ]
  },
  {
   "cell_type": "markdown",
   "metadata": {
    "id": "dO5eE9tbn6QM"
   },
   "source": [
    "# reading data from a file"
   ]
  },
  {
   "cell_type": "code",
   "execution_count": null,
   "metadata": {
    "colab": {
     "base_uri": "https://localhost:8080/",
     "height": 72,
     "resources": {
      "http://localhost:8080/nbextensions/google.colab/files.js": {
       "data": "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",
       "headers": [
        [
         "content-type",
         "application/javascript"
        ]
       ],
       "ok": true,
       "status": 200,
       "status_text": ""
      }
     }
    },
    "id": "x47QjKAAF_eC",
    "outputId": "9917fee9-9025-4f7b-dd61-1b04bd4e6a55"
   },
   "outputs": [],
   "source": [
    "# uploud a file form my laptop\n",
    "from google.colab import files\n",
    "uploaded = files.upload()"
   ]
  },
  {
   "cell_type": "code",
   "execution_count": null,
   "metadata": {
    "colab": {
     "base_uri": "https://localhost:8080/",
     "height": 137
    },
    "id": "AFRpSgynF_cL",
    "outputId": "9726b5ec-9505-49ef-dce4-fce03ebb0894"
   },
   "outputs": [],
   "source": [
    "# read data from a file\n",
    "f = open(\"sportsci_3_1.txt\")\n",
    "# read the content to a variable\n",
    "data = f.read()\n",
    "data"
   ]
  },
  {
   "cell_type": "code",
   "execution_count": null,
   "metadata": {
    "colab": {
     "base_uri": "https://localhost:8080/"
    },
    "id": "ng42_Eass5Y-",
    "outputId": "cc9d680e-cba5-4343-d20a-e2ce36a8faa6"
   },
   "outputs": [],
   "source": [
    "sentence = \"Welcome to Python Course and Prob\"\n",
    "result = sentence.split()\n",
    "result"
   ]
  },
  {
   "cell_type": "markdown",
   "metadata": {
    "id": "w_7sKy-Ao_BW"
   },
   "source": [
    "# we would like to predict the next word when typing something.\n",
    "- autocomplete"
   ]
  },
  {
   "cell_type": "code",
   "execution_count": null,
   "metadata": {
    "id": "qJZ-4mBLF_Px"
   },
   "outputs": [],
   "source": [
    "# split the data into different words\n",
    "words = data.split()"
   ]
  },
  {
   "cell_type": "code",
   "execution_count": null,
   "metadata": {
    "colab": {
     "base_uri": "https://localhost:8080/"
    },
    "id": "vtI03k8enxHl",
    "outputId": "3b3cd0e8-da93-4612-e0c9-35abd24c3996"
   },
   "outputs": [],
   "source": [
    "# get the first 100 words\n",
    "words[0:100]"
   ]
  },
  {
   "cell_type": "code",
   "execution_count": null,
   "metadata": {
    "id": "8wEjyIOQmUC-"
   },
   "outputs": [],
   "source": [
    "{\"new\": 3,\n",
    " \"journal\": 7,\n",
    " }"
   ]
  },
  {
   "cell_type": "code",
   "execution_count": null,
   "metadata": {
    "id": "XsEmRxNrvdRU"
   },
   "outputs": [],
   "source": [
    "memory = {}\n",
    "\n"
   ]
  },
  {
   "cell_type": "code",
   "execution_count": null,
   "metadata": {
    "colab": {
     "base_uri": "https://localhost:8080/"
    },
    "id": "L3TTshxPmmHe",
    "outputId": "eb4d665f-e61d-42c3-9149-5b38be6dbf0c"
   },
   "outputs": [],
   "source": [
    "memory[\"ahmad\"] = 1\n",
    "memory"
   ]
  },
  {
   "cell_type": "code",
   "execution_count": null,
   "metadata": {
    "colab": {
     "base_uri": "https://localhost:8080/"
    },
    "id": "pDY3gcjXmxkR",
    "outputId": "ad9bed84-9ee7-4368-e210-8e693ef9b8b5"
   },
   "outputs": [],
   "source": [
    "'ahmad' in memory"
   ]
  },
  {
   "cell_type": "code",
   "execution_count": null,
   "metadata": {
    "id": "NOjlic7Hvkh6"
   },
   "outputs": [],
   "source": [
    "if 'ahmad' in memory:\n",
    "  memory['ahmad'] += 1"
   ]
  },
  {
   "cell_type": "code",
   "execution_count": null,
   "metadata": {
    "colab": {
     "base_uri": "https://localhost:8080/"
    },
    "id": "No_B5Zqvv05F",
    "outputId": "1e0d95ed-6854-4ed7-c497-1e764c918d85"
   },
   "outputs": [],
   "source": [
    "memory"
   ]
  },
  {
   "cell_type": "code",
   "execution_count": null,
   "metadata": {
    "colab": {
     "base_uri": "https://localhost:8080/"
    },
    "id": "-EE8Jg3yhtZc",
    "outputId": "54aace1a-7fca-42e2-a5db-31c33f145cc4"
   },
   "outputs": [],
   "source": [
    "memory = {}\n",
    "\n",
    "for one_word in words:\n",
    "  if one_word in memory:\n",
    "    memory[one_word] += 1\n",
    "  else:\n",
    "    memory[one_word] = 1\n",
    "\n",
    "memory"
   ]
  },
  {
   "cell_type": "code",
   "execution_count": null,
   "metadata": {
    "colab": {
     "base_uri": "https://localhost:8080/"
    },
    "id": "Sl_jhQ8az2TU",
    "outputId": "c0b55bcd-f891-423c-f35f-0516da2daa76"
   },
   "outputs": [],
   "source": [
    "stats = {}\n",
    "previous_word = None\n",
    "for current_word in words:\n",
    "  if previous_word in stats:\n",
    "    \n",
    "    if current_word in stats[previous_word]:\n",
    "      stats[previous_word][current_word] +=1\n",
    "    else:\n",
    "      stats[previous_word][current_word] =1\n",
    "  else:\n",
    "    # the first time we see previous_word\n",
    "    stats[previous_word] = {current_word: 1}\n",
    "\n",
    "  previous_word = current_word\n",
    "\n",
    "\n",
    "stats\n"
   ]
  },
  {
   "cell_type": "code",
   "execution_count": null,
   "metadata": {
    "colab": {
     "base_uri": "https://localhost:8080/"
    },
    "id": "W-BWRZu1ia8X",
    "outputId": "d31eba43-69d3-40a2-b3d3-202cb70a37a2"
   },
   "outputs": [],
   "source": [
    "sentence = \"welcome to python course\"\n",
    "print(sentence.split())\n"
   ]
  },
  {
   "cell_type": "code",
   "execution_count": null,
   "metadata": {
    "id": "ihwTWDiInyjv"
   },
   "outputs": [],
   "source": [
    "# compute the conditional probability\n",
    "\n",
    "P(\"Programming\" | \"Python\")\n",
    "P(\"Course\" | \"Python\")\n",
    ".\n",
    ".\n",
    ".\n",
    "\n",
    "I will predict the next word after \"Python\" to be the word with the highest probability"
   ]
  },
  {
   "cell_type": "code",
   "execution_count": null,
   "metadata": {
    "colab": {
     "base_uri": "https://localhost:8080/"
    },
    "id": "-wKfXS0bueR2",
    "outputId": "f5a269b6-bbe6-417f-a9a5-3f685104c556"
   },
   "outputs": [],
   "source": [
    "stats = {}\n",
    "\n",
    "previous_word = None\n",
    "for current_word in words:\n",
    "\n",
    "  if previous_word in stats:\n",
    "    # I saw previous and current\n",
    "    if current_word in stats[previous_word]:\n",
    "      stats[previous_word][current_word] +=1\n",
    "    # I saw previous_word but not with current_word\n",
    "    else:\n",
    "      stats[previous_word][current_word] = 1\n",
    "  else:\n",
    "    # first time to see this previous word\n",
    "    stats[previous_word] = {current_word : 1}\n",
    "\n",
    "\n",
    "stats"
   ]
  },
  {
   "cell_type": "code",
   "execution_count": null,
   "metadata": {
    "id": "Zc6hRLzQp9Ox"
   },
   "outputs": [],
   "source": [
    "#{\"Python\": { \"Course\": 5,\n",
    "#             \"Programming\": 1},               \n",
    "#\"University\": {\"ANN\": 40,\n",
    "#                \"Birzeit\": 10}}\n",
    "\n",
    "\n",
    "words_stats = {}\n",
    "\n",
    "previous_word = None\n",
    "# loop through all words from the file\n",
    "for current_word in words:\n",
    "  # we must have a previous word to compute the conditional probability\n",
    "  if previous_word is not None:\n",
    "    # if the previous word already seen in the file\n",
    "    if previous_word in words_stats:\n",
    "      # increase counter for previous_word\n",
    "      words_stats[previous_word]['count'] += 1\n",
    "\n",
    "      # if both the previous and current words are seen before\n",
    "      if current_word in words_stats[previous_word]:\n",
    "          words_stats[previous_word][current_word] += 1\n",
    "      # first time to see current_word following such a previous word\n",
    "      else:\n",
    "        words_stats[previous_word][current_word] = 1\n",
    "  \n",
    "    # this is the first time I see such a previous word\n",
    "    else:\n",
    "      words_stats[previous_word] = {current_word: 1, 'count': 1}\n",
    "\n",
    "    \n",
    "\n",
    "  previous_word = current_word\n",
    "    \n"
   ]
  },
  {
   "cell_type": "code",
   "execution_count": null,
   "metadata": {
    "id": "V35gdPnjX1gi"
   },
   "outputs": [],
   "source": [
    "{ \"football\": {'count': 7, \"play\": 2, \"game\": 5},\n",
    "  \"City\": {'count': 18, \"Nablus\": 15, \"Ramallah\": 3}}"
   ]
  },
  {
   "cell_type": "code",
   "execution_count": null,
   "metadata": {
    "id": "ftebKjcQXbyH"
   },
   "outputs": [],
   "source": [
    "{ \"football\": {\"play\": 2, \"game\": 5},\n",
    "  \"City\": {\"Nablus\": 15, \"Ramallah\": 3}}\n",
    "\n",
    "\n",
    "{\"football\": 7,\n",
    " \"City:\": 18,\n",
    " ,\n",
    " ,\n",
    " }"
   ]
  },
  {
   "cell_type": "code",
   "execution_count": null,
   "metadata": {
    "colab": {
     "base_uri": "https://localhost:8080/"
    },
    "id": "fzEmZhU-stpw",
    "outputId": "40dfd2c2-0f75-4ff0-9a80-a535e49431cb"
   },
   "outputs": [],
   "source": [
    "words_stats"
   ]
  },
  {
   "cell_type": "code",
   "execution_count": null,
   "metadata": {
    "id": "zfT8aYRVsu6I"
   },
   "outputs": [],
   "source": [
    "def recommend_next_word(words_stats , word):\n",
    "  # if the word is found in the dataset\n",
    "  if word in words_stats:\n",
    "    # get total of time word was found in the dataset\n",
    "    total_count = words_stats[word]['count']\n",
    "    print(word, \" was found in the dataset with a total of \", total_count)\n",
    "\n",
    "    # init holding variables for the final recommendation\n",
    "    max_prob = 0\n",
    "    next_word = None\n",
    "    # iterate through all potential next word\n",
    "    for key,value in words_stats[word].items():\n",
    "      if key != 'count':\n",
    "        probability = value / total_count\n",
    "        #print(key, value, probability, max_prob)\n",
    "        # if I find a next word with a higher probability\n",
    "        # then save it\n",
    "        if probability > max_prob:\n",
    "          max_prob = probability\n",
    "          next_word = key\n",
    "\n",
    "    return next_word, max_prob\n",
    "  else:\n",
    "    print(word, \" is not found in the dataset\")\n",
    "    return None, None"
   ]
  },
  {
   "cell_type": "code",
   "execution_count": null,
   "metadata": {
    "colab": {
     "base_uri": "https://localhost:8080/"
    },
    "id": "uwgi0AqOvQVH",
    "outputId": "3b2715fd-c21b-4de0-c8c6-130611660809"
   },
   "outputs": [],
   "source": [
    "next_word, prob = recommend_next_word(words_stats, 'of')\n",
    "print(next_word, prob)"
   ]
  },
  {
   "cell_type": "code",
   "execution_count": null,
   "metadata": {
    "colab": {
     "base_uri": "https://localhost:8080/"
    },
    "id": "vAKBdFaqvTOO",
    "outputId": "495b41dc-11dc-49ee-9a9f-887f9bf655e1"
   },
   "outputs": [],
   "source": [
    "words_stats['of']"
   ]
  },
  {
   "cell_type": "code",
   "execution_count": null,
   "metadata": {
    "id": "L-OhROGZxIk2"
   },
   "outputs": [],
   "source": [
    "alx = {}\n",
    "print(id(alx))\n",
    "alx = {1,2,3}\n",
    "print(id(alx))"
   ]
  },
  {
   "cell_type": "code",
   "execution_count": null,
   "metadata": {},
   "outputs": [],
   "source": []
  }
 ],
 "metadata": {
  "colab": {
   "name": "python-basics.ipynb",
   "provenance": []
  },
  "kernelspec": {
   "display_name": "Python 3 (ipykernel)",
   "language": "python",
   "name": "python3"
  },
  "language_info": {
   "codemirror_mode": {
    "name": "ipython",
    "version": 3
   },
   "file_extension": ".py",
   "mimetype": "text/x-python",
   "name": "python",
   "nbconvert_exporter": "python",
   "pygments_lexer": "ipython3",
   "version": "3.9.7"
  }
 },
 "nbformat": 4,
 "nbformat_minor": 1
}
