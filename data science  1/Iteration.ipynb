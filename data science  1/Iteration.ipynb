{
 "cells": [
  {
   "cell_type": "code",
   "execution_count": 1,
   "id": "76108016",
   "metadata": {},
   "outputs": [],
   "source": [
    "#for variable in List:\n",
    "\n",
    "students_list = [ [120, \"sami\"], [121, \"Abed\"], [120, \"belzano\"], [120, \"dan\"], [121, \"yousef\"] ]\n",
    "    "
   ]
  },
  {
   "cell_type": "code",
   "execution_count": 26,
   "id": "28edb4ed",
   "metadata": {},
   "outputs": [
    {
     "name": "stdout",
     "output_type": "stream",
     "text": [
      "Enter the generation of graduation : 120\n",
      "0.6\n"
     ]
    }
   ],
   "source": [
    "sample_space_outcomes = len(students_list)\n",
    "\n",
    "number_of_graduation_outcome = 0    # event for students generation\n",
    "index_of_generation = 0\n",
    "\n",
    "generation_of_graduation = int(input(\"Enter the generation of graduation : \"))\n",
    "\n",
    "for data in students_list:\n",
    "    if(data[index_of_generation] == generation_of_graduation):\n",
    "        number_of_graduation_outcome += 1\n",
    "        \n",
    "probab_of_generation_of_graduation = number_of_graduation_outcome / sample_space_outcomes\n",
    "\n",
    "print(probab_of_generation_of_graduation)\n",
    "        \n"
   ]
  },
  {
   "cell_type": "code",
   "execution_count": 2,
   "id": "d75fc873",
   "metadata": {},
   "outputs": [
    {
     "name": "stdout",
     "output_type": "stream",
     "text": [
      "True\n"
     ]
    }
   ],
   "source": [
    "name = \"YOUSEF\"\n",
    "print(name.isupper())"
   ]
  },
  {
   "cell_type": "code",
   "execution_count": null,
   "id": "943a66db",
   "metadata": {},
   "outputs": [],
   "source": []
  }
 ],
 "metadata": {
  "kernelspec": {
   "display_name": "Python 3 (ipykernel)",
   "language": "python",
   "name": "python3"
  },
  "language_info": {
   "codemirror_mode": {
    "name": "ipython",
    "version": 3
   },
   "file_extension": ".py",
   "mimetype": "text/x-python",
   "name": "python",
   "nbconvert_exporter": "python",
   "pygments_lexer": "ipython3",
   "version": "3.9.7"
  }
 },
 "nbformat": 4,
 "nbformat_minor": 5
}
