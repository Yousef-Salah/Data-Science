{
 "cells": [
  {
   "cell_type": "code",
   "execution_count": 5,
   "id": "07998abe",
   "metadata": {},
   "outputs": [
    {
     "name": "stdout",
     "output_type": "stream",
     "text": [
      "Enter P(A)0.33\n",
      "Enter P(B|A)0.33\n",
      "Enter P(B|A')0.33\n",
      "P(A|'B) = \n",
      "0.6699999999999999\n",
      "P(A'|'b)\n",
      "0.6699999999999999\n"
     ]
    }
   ],
   "source": [
    "p_a = float(input(\"Enter P(A)\"))\n",
    "p_a_given_b = float(input(\"Enter P(B|A)\"))\n",
    "p_b_given_not_a = float(input(\"Enter P(B|A')\"))\n",
    "\n",
    "p_a_given_not_b = (1 - p_a_given_b) \n",
    "p_not_a_given_not_b = (1 - p_b_given_not_a)  \n",
    "\n",
    "\n",
    "print(\"P(A|'B) = \")\n",
    "print(p_a_given_not_b)\n",
    "print(\"P(A'|'b)\")\n",
    "print(p_not_a_given_not_b)"
   ]
  },
  {
   "cell_type": "code",
   "execution_count": null,
   "id": "4ece0e00",
   "metadata": {},
   "outputs": [],
   "source": []
  }
 ],
 "metadata": {
  "kernelspec": {
   "display_name": "Python 3 (ipykernel)",
   "language": "python",
   "name": "python3"
  },
  "language_info": {
   "codemirror_mode": {
    "name": "ipython",
    "version": 3
   },
   "file_extension": ".py",
   "mimetype": "text/x-python",
   "name": "python",
   "nbconvert_exporter": "python",
   "pygments_lexer": "ipython3",
   "version": "3.9.7"
  }
 },
 "nbformat": 4,
 "nbformat_minor": 5
}
