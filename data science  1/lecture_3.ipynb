{
 "cells": [
  {
   "cell_type": "code",
   "execution_count": 12,
   "id": "29300504",
   "metadata": {},
   "outputs": [],
   "source": [
    "#list Decleration\n",
    "#comma seperated values ( CSV )\n",
    "x = [ 'y', \"yousef\", 2, 5.5, True ]"
   ]
  },
  {
   "cell_type": "code",
   "execution_count": 5,
   "id": "741348f9",
   "metadata": {
    "scrolled": true
   },
   "outputs": [
    {
     "name": "stdout",
     "output_type": "stream",
     "text": [
      "['y', 'yousef', 2, 5.5, True]\n"
     ]
    }
   ],
   "source": [
    "print(x)"
   ]
  },
  {
   "cell_type": "code",
   "execution_count": 10,
   "id": "b2a2d638",
   "metadata": {
    "scrolled": true
   },
   "outputs": [
    {
     "name": "stdout",
     "output_type": "stream",
     "text": [
      "7\n",
      "y\n",
      "Dr. Aysar\n",
      "['y', 'yousef', 2, 5.5, True, 'Dr. Aysar', 'Dr. Aysar', 'Dr. Aysar']\n",
      "Dr. Aysar\n"
     ]
    }
   ],
   "source": [
    "print(len(x))\n",
    "print(x[0])\n",
    "print(x[-1]) #print last character\n",
    "x.append(\"Dr. Aysar\")\n",
    "print(x)\n",
    "print(x[-1])"
   ]
  },
  {
   "cell_type": "code",
   "execution_count": 15,
   "id": "f86c3a54",
   "metadata": {},
   "outputs": [
    {
     "name": "stdout",
     "output_type": "stream",
     "text": [
      "<class 'list'>\n"
     ]
    }
   ],
   "source": [
    "two_d_list = [ [2,3],[\"yousef\",2], ['x','y'], 12 ]\n",
    "print(type(two_d_list[0]))"
   ]
  },
  {
   "cell_type": "code",
   "execution_count": null,
   "id": "3f58b749",
   "metadata": {},
   "outputs": [],
   "source": []
  }
 ],
 "metadata": {
  "kernelspec": {
   "display_name": "Python 3 (ipykernel)",
   "language": "python",
   "name": "python3"
  },
  "language_info": {
   "codemirror_mode": {
    "name": "ipython",
    "version": 3
   },
   "file_extension": ".py",
   "mimetype": "text/x-python",
   "name": "python",
   "nbconvert_exporter": "python",
   "pygments_lexer": "ipython3",
   "version": "3.9.7"
  }
 },
 "nbformat": 4,
 "nbformat_minor": 5
}
